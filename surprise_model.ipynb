{
 "cells": [
  {
   "cell_type": "code",
   "execution_count": 2,
   "metadata": {
    "executionInfo": {
     "elapsed": 3,
     "status": "ok",
     "timestamp": 1671983871168,
     "user": {
      "displayName": "Arif Enes Aydın",
      "userId": "13409093344924962168"
     },
     "user_tz": -180
    },
    "id": "QNUU3nyVVoKh"
   },
   "outputs": [],
   "source": [
    "from surprise import accuracy, Dataset, Reader\n",
    "from surprise.model_selection import cross_validate\n",
    "from surprise.prediction_algorithms import KNNBasic, SVD\n",
    "import pandas as pd\n",
    "import numpy as np"
   ]
  },
  {
   "cell_type": "code",
   "execution_count": 3,
   "metadata": {
    "colab": {
     "base_uri": "https://localhost:8080/"
    },
    "executionInfo": {
     "elapsed": 4,
     "status": "ok",
     "timestamp": 1671983872674,
     "user": {
      "displayName": "Arif Enes Aydın",
      "userId": "13409093344924962168"
     },
     "user_tz": -180
    },
    "id": "ZzpDqY_2V2Yj",
    "outputId": "7fa1d6bb-4957-4035-9f45-0d893206f103"
   },
   "outputs": [
    {
     "data": {
      "text/plain": [
       "(268711, 4)"
      ]
     },
     "execution_count": 3,
     "metadata": {},
     "output_type": "execute_result"
    }
   ],
   "source": [
    "reviews = pd.read_csv(\"reviews_cleaned.csv\")\n",
    "reviewed_courses = reviews[\"course_id\"].unique()\n",
    "reviews.shape"
   ]
  },
  {
   "cell_type": "code",
   "execution_count": 4,
   "metadata": {
    "executionInfo": {
     "elapsed": 2373,
     "status": "ok",
     "timestamp": 1671983876537,
     "user": {
      "displayName": "Arif Enes Aydın",
      "userId": "13409093344924962168"
     },
     "user_tz": -180
    },
    "id": "EMgtFY5AYYXc"
   },
   "outputs": [],
   "source": [
    "courses = pd.read_csv(\"Course_info.csv\")"
   ]
  },
  {
   "cell_type": "code",
   "execution_count": 5,
   "metadata": {
    "colab": {
     "base_uri": "https://localhost:8080/"
    },
    "executionInfo": {
     "elapsed": 3,
     "status": "ok",
     "timestamp": 1671983876537,
     "user": {
      "displayName": "Arif Enes Aydın",
      "userId": "13409093344924962168"
     },
     "user_tz": -180
    },
    "id": "RLfh9V00YY-a",
    "outputId": "a17a8079-c8e2-4dfd-b751-68a65297025c"
   },
   "outputs": [
    {
     "data": {
      "text/plain": [
       "(2549, 4)"
      ]
     },
     "execution_count": 5,
     "metadata": {},
     "output_type": "execute_result"
    }
   ],
   "source": [
    "courses = courses[[\"id\", \"title\", \"category\", \"course_url\"]]\n",
    "courses = courses[courses[\"id\"].isin(reviewed_courses)]\n",
    "courses.shape"
   ]
  },
  {
   "cell_type": "code",
   "execution_count": 6,
   "metadata": {
    "colab": {
     "base_uri": "https://localhost:8080/"
    },
    "executionInfo": {
     "elapsed": 2126,
     "status": "ok",
     "timestamp": 1671984190143,
     "user": {
      "displayName": "Arif Enes Aydın",
      "userId": "13409093344924962168"
     },
     "user_tz": -180
    },
    "id": "fy9PrbA35_UR",
    "outputId": "aaa1d6dd-dfa9-4c9c-fb78-ee1655377881"
   },
   "outputs": [],
   "source": [
    "# surprise iid - uid process\n",
    "reviews[\"user_id\"] = reviews[\"user_id\"].astype(float)\n",
    "reviews[\"user_id\"] = reviews[\"user_id\"].astype(int)\n",
    "reviews[\"user_id\"] = reviews[\"user_id\"].astype(str)\n",
    "reviews[\"course_id\"] = reviews[\"course_id\"].astype(float)\n",
    "reviews[\"course_id\"] = reviews[\"course_id\"].astype(int)\n",
    "reviews[\"course_id\"] = reviews[\"course_id\"].astype(str)\n",
    "courses[\"id\"] = courses[\"id\"].astype(float)\n",
    "courses[\"id\"] = courses[\"id\"].astype(int)\n",
    "courses[\"id\"] = courses[\"id\"].astype(str)"
   ]
  },
  {
   "cell_type": "code",
   "execution_count": 7,
   "metadata": {
    "executionInfo": {
     "elapsed": 423,
     "status": "ok",
     "timestamp": 1671984193972,
     "user": {
      "displayName": "Arif Enes Aydın",
      "userId": "13409093344924962168"
     },
     "user_tz": -180
    },
    "id": "7_N7MXWcX5h3"
   },
   "outputs": [],
   "source": [
    "reader = Reader(rating_scale=(0, 5))\n",
    "surprise_data = Dataset.load_from_df(reviews[[\"user_id\", \"course_id\", \"rate\"]], reader)"
   ]
  },
  {
   "cell_type": "code",
   "execution_count": 8,
   "metadata": {
    "executionInfo": {
     "elapsed": 1387,
     "status": "ok",
     "timestamp": 1671984195933,
     "user": {
      "displayName": "Arif Enes Aydın",
      "userId": "13409093344924962168"
     },
     "user_tz": -180
    },
    "id": "uzY9NbOh6Wpc"
   },
   "outputs": [],
   "source": [
    "trainset = surprise_data.build_full_trainset()"
   ]
  },
  {
   "cell_type": "code",
   "execution_count": 9,
   "metadata": {
    "executionInfo": {
     "elapsed": 2,
     "status": "ok",
     "timestamp": 1671984463786,
     "user": {
      "displayName": "Arif Enes Aydın",
      "userId": "13409093344924962168"
     },
     "user_tz": -180
    },
    "id": "_I2d3hj3YL7g"
   },
   "outputs": [],
   "source": [
    "sim_options = {\"name\": \"cosine\", \"user_based\": False}\n",
    "algo1 = KNNBasic(sim_options=sim_options)\n",
    "algo2 = SVD()"
   ]
  },
  {
   "cell_type": "code",
   "execution_count": 10,
   "metadata": {
    "colab": {
     "base_uri": "https://localhost:8080/"
    },
    "executionInfo": {
     "elapsed": 15286,
     "status": "ok",
     "timestamp": 1671983909096,
     "user": {
      "displayName": "Arif Enes Aydın",
      "userId": "13409093344924962168"
     },
     "user_tz": -180
    },
    "id": "gaKR8c0D4LNZ",
    "outputId": "9fda6b5e-4bc9-4a8b-b0cf-430f6a0025c3"
   },
   "outputs": [
    {
     "name": "stdout",
     "output_type": "stream",
     "text": [
      "Computing the cosine similarity matrix...\n",
      "Done computing similarity matrix.\n",
      "Computing the cosine similarity matrix...\n",
      "Done computing similarity matrix.\n",
      "Computing the cosine similarity matrix...\n",
      "Done computing similarity matrix.\n",
      "Computing the cosine similarity matrix...\n",
      "Done computing similarity matrix.\n",
      "Computing the cosine similarity matrix...\n",
      "Done computing similarity matrix.\n",
      "Evaluating RMSE, MAE of algorithm KNNBasic on 5 split(s).\n",
      "\n",
      "                  Fold 1  Fold 2  Fold 3  Fold 4  Fold 5  Mean    Std     \n",
      "RMSE (testset)    0.7955  0.7855  0.7880  0.8000  0.7967  0.7931  0.0055  \n",
      "MAE (testset)     0.4678  0.4634  0.4634  0.4700  0.4683  0.4666  0.0027  \n",
      "Fit time          0.32    0.38    0.38    0.38    0.39    0.37    0.02    \n",
      "Test time         0.48    0.47    0.47    0.46    0.48    0.47    0.01    \n"
     ]
    },
    {
     "data": {
      "text/plain": [
       "{'test_rmse': array([0.79545479, 0.78546519, 0.78799917, 0.79998143, 0.79667426]),\n",
       " 'test_mae': array([0.46783305, 0.46343971, 0.46343449, 0.47004768, 0.46826657]),\n",
       " 'fit_time': (0.32196593284606934,\n",
       "  0.3810000419616699,\n",
       "  0.3779947757720947,\n",
       "  0.38396382331848145,\n",
       "  0.3900306224822998),\n",
       " 'test_time': (0.4790315628051758,\n",
       "  0.4670286178588867,\n",
       "  0.4719972610473633,\n",
       "  0.4590299129486084,\n",
       "  0.47702980041503906)}"
      ]
     },
     "execution_count": 10,
     "metadata": {},
     "output_type": "execute_result"
    }
   ],
   "source": [
    "cross_validate(algo1, surprise_data, measures=[\"RMSE\", \"MAE\"], cv=5, verbose=True)"
   ]
  },
  {
   "cell_type": "code",
   "execution_count": 11,
   "metadata": {
    "colab": {
     "base_uri": "https://localhost:8080/"
    },
    "executionInfo": {
     "elapsed": 37673,
     "status": "ok",
     "timestamp": 1671983946759,
     "user": {
      "displayName": "Arif Enes Aydın",
      "userId": "13409093344924962168"
     },
     "user_tz": -180
    },
    "id": "eSxMA_tA5kea",
    "outputId": "1c81c703-ebbd-4a58-c7f3-6610b808d8e6"
   },
   "outputs": [
    {
     "name": "stdout",
     "output_type": "stream",
     "text": [
      "Evaluating RMSE, MAE of algorithm SVD on 5 split(s).\n",
      "\n",
      "                  Fold 1  Fold 2  Fold 3  Fold 4  Fold 5  Mean    Std     \n",
      "RMSE (testset)    0.6933  0.6954  0.6992  0.7003  0.6943  0.6965  0.0027  \n",
      "MAE (testset)     0.4701  0.4701  0.4715  0.4739  0.4715  0.4714  0.0014  \n",
      "Fit time          2.54    2.52    2.73    2.63    2.63    2.61    0.08    \n",
      "Test time         0.46    0.47    0.32    0.31    0.31    0.37    0.07    \n"
     ]
    },
    {
     "data": {
      "text/plain": [
       "{'test_rmse': array([0.69333913, 0.69544236, 0.69915136, 0.70025309, 0.69432473]),\n",
       " 'test_mae': array([0.47007244, 0.47011251, 0.4714877 , 0.47393864, 0.47148132]),\n",
       " 'fit_time': (2.5415682792663574,\n",
       "  2.52003812789917,\n",
       "  2.7349979877471924,\n",
       "  2.6259877681732178,\n",
       "  2.6250033378601074),\n",
       " 'test_time': (0.45999813079833984,\n",
       "  0.46596407890319824,\n",
       "  0.32102322578430176,\n",
       "  0.31301307678222656,\n",
       "  0.3099658489227295)}"
      ]
     },
     "execution_count": 11,
     "metadata": {},
     "output_type": "execute_result"
    }
   ],
   "source": [
    "cross_validate(algo2, surprise_data, measures=[\"RMSE\", \"MAE\"], cv=5, verbose=True)"
   ]
  },
  {
   "cell_type": "code",
   "execution_count": 12,
   "metadata": {
    "colab": {
     "base_uri": "https://localhost:8080/"
    },
    "executionInfo": {
     "elapsed": 6209,
     "status": "ok",
     "timestamp": 1671984487302,
     "user": {
      "displayName": "Arif Enes Aydın",
      "userId": "13409093344924962168"
     },
     "user_tz": -180
    },
    "id": "VULIDkDJCldH",
    "outputId": "0ff0fc4e-ce74-4f26-b60c-df412d422985"
   },
   "outputs": [
    {
     "name": "stdout",
     "output_type": "stream",
     "text": [
      "Computing the cosine similarity matrix...\n",
      "Done computing similarity matrix.\n"
     ]
    },
    {
     "data": {
      "text/plain": [
       "<surprise.prediction_algorithms.matrix_factorization.SVD at 0x1f406511be0>"
      ]
     },
     "execution_count": 12,
     "metadata": {},
     "output_type": "execute_result"
    }
   ],
   "source": [
    "algo1.fit(trainset)\n",
    "algo2.fit(trainset)"
   ]
  },
  {
   "cell_type": "code",
   "execution_count": 13,
   "metadata": {
    "executionInfo": {
     "elapsed": 418,
     "status": "ok",
     "timestamp": 1671986260389,
     "user": {
      "displayName": "Arif Enes Aydın",
      "userId": "13409093344924962168"
     },
     "user_tz": -180
    },
    "id": "SzotjA71IfHJ"
   },
   "outputs": [],
   "source": [
    "import pickle\n",
    "filename = 'surprise.sav'\n",
    "pickle.dump(algo2, open(filename, 'wb'))"
   ]
  },
  {
   "cell_type": "code",
   "execution_count": 154,
   "metadata": {
    "executionInfo": {
     "elapsed": 444,
     "status": "ok",
     "timestamp": 1671985805616,
     "user": {
      "displayName": "Arif Enes Aydın",
      "userId": "13409093344924962168"
     },
     "user_tz": -180
    },
    "id": "wWM1YQYsYNZE"
   },
   "outputs": [],
   "source": [
    "from collections import Counter\n",
    "\n",
    "def random_user(df, trainset):\n",
    "    users = df['user_id'].unique()\n",
    "    index = np.random.choice(users.shape[0], 1, replace=False)\n",
    "    user_id = users[index][0]\n",
    "    return user_id, trainset.to_inner_uid(user_id)\n",
    "\n",
    "def get_recommendations_by_category(user, df, courses, trainset, algo):\n",
    "    predictions = list()\n",
    "    user_courses_list = list(df[df[\"user_id\"] == user[0]][\"course_id\"])\n",
    "    user_courses = courses[courses[\"id\"].isin(user_courses_list)]\n",
    "    cnt = Counter(user_courses[\"category\"].array)\n",
    "    user_category = cnt.most_common(1)[0][0]\n",
    "    category_courses = courses.loc[courses[\"category\"] == str(user_category)]\n",
    "    for course in category_courses.id:\n",
    "        course_id = trainset.to_inner_iid(course)\n",
    "        pred = algo.predict(user[1], course_id)\n",
    "        predictions.append([course, pred.est])\n",
    "    predictions = np.array(predictions)\n",
    "    return predictions[predictions[:,1].argsort()][::-1][:3]\n",
    "\n",
    "def get_recommendations(user, courses, algo):\n",
    "    predictions = list()\n",
    "    for course in courses.id:\n",
    "        course_id = trainset.to_inner_iid(course)\n",
    "        pred = algo.predict(user[1], course_id)\n",
    "        predictions.append([pred.uid, pred.iid, pred.r_ui, pred.est, pred.details, user[0], course])\n",
    "        df = pd.DataFrame(np.array(predictions), columns=['uid', 'iid', 'rui', 'est', 'details', \"user_id\", \"course_id\"])\n",
    "    return df.sort_values(by='est')[:5]"
   ]
  },
  {
   "cell_type": "code",
   "execution_count": 155,
   "metadata": {
    "executionInfo": {
     "elapsed": 8576,
     "status": "ok",
     "timestamp": 1671985815728,
     "user": {
      "displayName": "Arif Enes Aydın",
      "userId": "13409093344924962168"
     },
     "user_tz": -180
    },
    "id": "tCF9S-0xYOu4"
   },
   "outputs": [],
   "source": [
    "np.set_printoptions(suppress=True)\n",
    "user = random_user(reviews, trainset)\n",
    "recom = get_recommendations_by_category(user, reviews, courses, trainset, algo2)\n",
    "recom_id = recom[:,0]\n",
    "recom\n",
    "\n",
    "recom2 = get_recommendations(user, courses, algo2)"
   ]
  },
  {
   "cell_type": "code",
   "execution_count": 156,
   "metadata": {
    "executionInfo": {
     "elapsed": 2,
     "status": "ok",
     "timestamp": 1671985819096,
     "user": {
      "displayName": "Arif Enes Aydın",
      "userId": "13409093344924962168"
     },
     "user_tz": -180
    },
    "id": "TUTiOJWPYQP_"
   },
   "outputs": [],
   "source": [
    "user_courses = list(reviews[reviews[\"user_id\"] == user[0]][\"course_id\"])"
   ]
  },
  {
   "cell_type": "code",
   "execution_count": 157,
   "metadata": {
    "colab": {
     "base_uri": "https://localhost:8080/",
     "height": 206
    },
    "executionInfo": {
     "elapsed": 426,
     "status": "ok",
     "timestamp": 1671985820749,
     "user": {
      "displayName": "Arif Enes Aydın",
      "userId": "13409093344924962168"
     },
     "user_tz": -180
    },
    "id": "ZvDv3tPIYsu5",
    "outputId": "2bae220c-dcfa-4615-d31e-358012cfa205"
   },
   "outputs": [
    {
     "data": {
      "text/html": [
       "\n",
       "  <div id=\"df-3519f85e-225b-4498-8cfe-eef1dd0d130c\">\n",
       "    <div class=\"colab-df-container\">\n",
       "      <div>\n",
       "<style scoped>\n",
       "    .dataframe tbody tr th:only-of-type {\n",
       "        vertical-align: middle;\n",
       "    }\n",
       "\n",
       "    .dataframe tbody tr th {\n",
       "        vertical-align: top;\n",
       "    }\n",
       "\n",
       "    .dataframe thead th {\n",
       "        text-align: right;\n",
       "    }\n",
       "</style>\n",
       "<table border=\"1\" class=\"dataframe\">\n",
       "  <thead>\n",
       "    <tr style=\"text-align: right;\">\n",
       "      <th></th>\n",
       "      <th>id</th>\n",
       "      <th>title</th>\n",
       "      <th>category</th>\n",
       "      <th>course_url</th>\n",
       "    </tr>\n",
       "  </thead>\n",
       "  <tbody>\n",
       "    <tr>\n",
       "      <th>17800</th>\n",
       "      <td>851712</td>\n",
       "      <td>The Complete JavaScript Course 2022: From Zero...</td>\n",
       "      <td>Development</td>\n",
       "      <td>/course/the-complete-javascript-course/</td>\n",
       "    </tr>\n",
       "    <tr>\n",
       "      <th>18341</th>\n",
       "      <td>874012</td>\n",
       "      <td>The Ultimate Drawing Course - Beginner to Adva...</td>\n",
       "      <td>Design</td>\n",
       "      <td>/course/the-ultimate-drawing-course-beginner-t...</td>\n",
       "    </tr>\n",
       "    <tr>\n",
       "      <th>19385</th>\n",
       "      <td>917596</td>\n",
       "      <td>Introductory Photography Course</td>\n",
       "      <td>Photography &amp; Video</td>\n",
       "      <td>/course/free-photography-course-for-beginners/</td>\n",
       "    </tr>\n",
       "    <tr>\n",
       "      <th>34357</th>\n",
       "      <td>1430746</td>\n",
       "      <td>The Complete Web Developer in 2022: Zero to Ma...</td>\n",
       "      <td>Development</td>\n",
       "      <td>/course/the-complete-web-developer-zero-to-mas...</td>\n",
       "    </tr>\n",
       "    <tr>\n",
       "      <th>108860</th>\n",
       "      <td>3377424</td>\n",
       "      <td>DP-203: Data Engineering on Microsoft Azure + ...</td>\n",
       "      <td>IT &amp; Software</td>\n",
       "      <td>/course/dp200exam/</td>\n",
       "    </tr>\n",
       "  </tbody>\n",
       "</table>\n",
       "</div>\n",
       "      <button class=\"colab-df-convert\" onclick=\"convertToInteractive('df-3519f85e-225b-4498-8cfe-eef1dd0d130c')\"\n",
       "              title=\"Convert this dataframe to an interactive table.\"\n",
       "              style=\"display:none;\">\n",
       "        \n",
       "  <svg xmlns=\"http://www.w3.org/2000/svg\" height=\"24px\"viewBox=\"0 0 24 24\"\n",
       "       width=\"24px\">\n",
       "    <path d=\"M0 0h24v24H0V0z\" fill=\"none\"/>\n",
       "    <path d=\"M18.56 5.44l.94 2.06.94-2.06 2.06-.94-2.06-.94-.94-2.06-.94 2.06-2.06.94zm-11 1L8.5 8.5l.94-2.06 2.06-.94-2.06-.94L8.5 2.5l-.94 2.06-2.06.94zm10 10l.94 2.06.94-2.06 2.06-.94-2.06-.94-.94-2.06-.94 2.06-2.06.94z\"/><path d=\"M17.41 7.96l-1.37-1.37c-.4-.4-.92-.59-1.43-.59-.52 0-1.04.2-1.43.59L10.3 9.45l-7.72 7.72c-.78.78-.78 2.05 0 2.83L4 21.41c.39.39.9.59 1.41.59.51 0 1.02-.2 1.41-.59l7.78-7.78 2.81-2.81c.8-.78.8-2.07 0-2.86zM5.41 20L4 18.59l7.72-7.72 1.47 1.35L5.41 20z\"/>\n",
       "  </svg>\n",
       "      </button>\n",
       "      \n",
       "  <style>\n",
       "    .colab-df-container {\n",
       "      display:flex;\n",
       "      flex-wrap:wrap;\n",
       "      gap: 12px;\n",
       "    }\n",
       "\n",
       "    .colab-df-convert {\n",
       "      background-color: #E8F0FE;\n",
       "      border: none;\n",
       "      border-radius: 50%;\n",
       "      cursor: pointer;\n",
       "      display: none;\n",
       "      fill: #1967D2;\n",
       "      height: 32px;\n",
       "      padding: 0 0 0 0;\n",
       "      width: 32px;\n",
       "    }\n",
       "\n",
       "    .colab-df-convert:hover {\n",
       "      background-color: #E2EBFA;\n",
       "      box-shadow: 0px 1px 2px rgba(60, 64, 67, 0.3), 0px 1px 3px 1px rgba(60, 64, 67, 0.15);\n",
       "      fill: #174EA6;\n",
       "    }\n",
       "\n",
       "    [theme=dark] .colab-df-convert {\n",
       "      background-color: #3B4455;\n",
       "      fill: #D2E3FC;\n",
       "    }\n",
       "\n",
       "    [theme=dark] .colab-df-convert:hover {\n",
       "      background-color: #434B5C;\n",
       "      box-shadow: 0px 1px 3px 1px rgba(0, 0, 0, 0.15);\n",
       "      filter: drop-shadow(0px 1px 2px rgba(0, 0, 0, 0.3));\n",
       "      fill: #FFFFFF;\n",
       "    }\n",
       "  </style>\n",
       "\n",
       "      <script>\n",
       "        const buttonEl =\n",
       "          document.querySelector('#df-3519f85e-225b-4498-8cfe-eef1dd0d130c button.colab-df-convert');\n",
       "        buttonEl.style.display =\n",
       "          google.colab.kernel.accessAllowed ? 'block' : 'none';\n",
       "\n",
       "        async function convertToInteractive(key) {\n",
       "          const element = document.querySelector('#df-3519f85e-225b-4498-8cfe-eef1dd0d130c');\n",
       "          const dataTable =\n",
       "            await google.colab.kernel.invokeFunction('convertToInteractive',\n",
       "                                                     [key], {});\n",
       "          if (!dataTable) return;\n",
       "\n",
       "          const docLinkHtml = 'Like what you see? Visit the ' +\n",
       "            '<a target=\"_blank\" href=https://colab.research.google.com/notebooks/data_table.ipynb>data table notebook</a>'\n",
       "            + ' to learn more about interactive tables.';\n",
       "          element.innerHTML = '';\n",
       "          dataTable['output_type'] = 'display_data';\n",
       "          await google.colab.output.renderOutput(dataTable, element);\n",
       "          const docLink = document.createElement('div');\n",
       "          docLink.innerHTML = docLinkHtml;\n",
       "          element.appendChild(docLink);\n",
       "        }\n",
       "      </script>\n",
       "    </div>\n",
       "  </div>\n",
       "  "
      ],
      "text/plain": [
       "             id                                              title  \\\n",
       "17800    851712  The Complete JavaScript Course 2022: From Zero...   \n",
       "18341    874012  The Ultimate Drawing Course - Beginner to Adva...   \n",
       "19385    917596                    Introductory Photography Course   \n",
       "34357   1430746  The Complete Web Developer in 2022: Zero to Ma...   \n",
       "108860  3377424  DP-203: Data Engineering on Microsoft Azure + ...   \n",
       "\n",
       "                   category                                         course_url  \n",
       "17800           Development            /course/the-complete-javascript-course/  \n",
       "18341                Design  /course/the-ultimate-drawing-course-beginner-t...  \n",
       "19385   Photography & Video     /course/free-photography-course-for-beginners/  \n",
       "34357           Development  /course/the-complete-web-developer-zero-to-mas...  \n",
       "108860        IT & Software                                 /course/dp200exam/  "
      ]
     },
     "execution_count": 157,
     "metadata": {},
     "output_type": "execute_result"
    }
   ],
   "source": [
    "courses[courses[\"id\"].isin(user_courses)]"
   ]
  },
  {
   "cell_type": "code",
   "execution_count": 158,
   "metadata": {
    "colab": {
     "base_uri": "https://localhost:8080/",
     "height": 162
    },
    "executionInfo": {
     "elapsed": 445,
     "status": "ok",
     "timestamp": 1671985823574,
     "user": {
      "displayName": "Arif Enes Aydın",
      "userId": "13409093344924962168"
     },
     "user_tz": -180
    },
    "id": "QMoRylhnYxne",
    "outputId": "06337aac-48a8-4a8a-f8d8-2dcca48cb38a"
   },
   "outputs": [
    {
     "name": "stdout",
     "output_type": "stream",
     "text": [
      "Recommending courses based on users category preference\n"
     ]
    },
    {
     "data": {
      "text/html": [
       "\n",
       "  <div id=\"df-94bca922-a7a2-4cc7-9431-81e501445550\">\n",
       "    <div class=\"colab-df-container\">\n",
       "      <div>\n",
       "<style scoped>\n",
       "    .dataframe tbody tr th:only-of-type {\n",
       "        vertical-align: middle;\n",
       "    }\n",
       "\n",
       "    .dataframe tbody tr th {\n",
       "        vertical-align: top;\n",
       "    }\n",
       "\n",
       "    .dataframe thead th {\n",
       "        text-align: right;\n",
       "    }\n",
       "</style>\n",
       "<table border=\"1\" class=\"dataframe\">\n",
       "  <thead>\n",
       "    <tr style=\"text-align: right;\">\n",
       "      <th></th>\n",
       "      <th>id</th>\n",
       "      <th>title</th>\n",
       "      <th>category</th>\n",
       "      <th>course_url</th>\n",
       "    </tr>\n",
       "  </thead>\n",
       "  <tbody>\n",
       "    <tr>\n",
       "      <th>19293</th>\n",
       "      <td>914024</td>\n",
       "      <td>Curso de TypeScript - El lenguaje utilizado po...</td>\n",
       "      <td>Development</td>\n",
       "      <td>/course/curso-de-typescript-el-lenguaje-utiliz...</td>\n",
       "    </tr>\n",
       "    <tr>\n",
       "      <th>20148</th>\n",
       "      <td>947098</td>\n",
       "      <td>Understanding TypeScript - 2022 Edition</td>\n",
       "      <td>Development</td>\n",
       "      <td>/course/understanding-typescript/</td>\n",
       "    </tr>\n",
       "    <tr>\n",
       "      <th>188139</th>\n",
       "      <td>4599580</td>\n",
       "      <td>Principios SOLID y Clean Code</td>\n",
       "      <td>Development</td>\n",
       "      <td>/course/solid-clean/</td>\n",
       "    </tr>\n",
       "  </tbody>\n",
       "</table>\n",
       "</div>\n",
       "      <button class=\"colab-df-convert\" onclick=\"convertToInteractive('df-94bca922-a7a2-4cc7-9431-81e501445550')\"\n",
       "              title=\"Convert this dataframe to an interactive table.\"\n",
       "              style=\"display:none;\">\n",
       "        \n",
       "  <svg xmlns=\"http://www.w3.org/2000/svg\" height=\"24px\"viewBox=\"0 0 24 24\"\n",
       "       width=\"24px\">\n",
       "    <path d=\"M0 0h24v24H0V0z\" fill=\"none\"/>\n",
       "    <path d=\"M18.56 5.44l.94 2.06.94-2.06 2.06-.94-2.06-.94-.94-2.06-.94 2.06-2.06.94zm-11 1L8.5 8.5l.94-2.06 2.06-.94-2.06-.94L8.5 2.5l-.94 2.06-2.06.94zm10 10l.94 2.06.94-2.06 2.06-.94-2.06-.94-.94-2.06-.94 2.06-2.06.94z\"/><path d=\"M17.41 7.96l-1.37-1.37c-.4-.4-.92-.59-1.43-.59-.52 0-1.04.2-1.43.59L10.3 9.45l-7.72 7.72c-.78.78-.78 2.05 0 2.83L4 21.41c.39.39.9.59 1.41.59.51 0 1.02-.2 1.41-.59l7.78-7.78 2.81-2.81c.8-.78.8-2.07 0-2.86zM5.41 20L4 18.59l7.72-7.72 1.47 1.35L5.41 20z\"/>\n",
       "  </svg>\n",
       "      </button>\n",
       "      \n",
       "  <style>\n",
       "    .colab-df-container {\n",
       "      display:flex;\n",
       "      flex-wrap:wrap;\n",
       "      gap: 12px;\n",
       "    }\n",
       "\n",
       "    .colab-df-convert {\n",
       "      background-color: #E8F0FE;\n",
       "      border: none;\n",
       "      border-radius: 50%;\n",
       "      cursor: pointer;\n",
       "      display: none;\n",
       "      fill: #1967D2;\n",
       "      height: 32px;\n",
       "      padding: 0 0 0 0;\n",
       "      width: 32px;\n",
       "    }\n",
       "\n",
       "    .colab-df-convert:hover {\n",
       "      background-color: #E2EBFA;\n",
       "      box-shadow: 0px 1px 2px rgba(60, 64, 67, 0.3), 0px 1px 3px 1px rgba(60, 64, 67, 0.15);\n",
       "      fill: #174EA6;\n",
       "    }\n",
       "\n",
       "    [theme=dark] .colab-df-convert {\n",
       "      background-color: #3B4455;\n",
       "      fill: #D2E3FC;\n",
       "    }\n",
       "\n",
       "    [theme=dark] .colab-df-convert:hover {\n",
       "      background-color: #434B5C;\n",
       "      box-shadow: 0px 1px 3px 1px rgba(0, 0, 0, 0.15);\n",
       "      filter: drop-shadow(0px 1px 2px rgba(0, 0, 0, 0.3));\n",
       "      fill: #FFFFFF;\n",
       "    }\n",
       "  </style>\n",
       "\n",
       "      <script>\n",
       "        const buttonEl =\n",
       "          document.querySelector('#df-94bca922-a7a2-4cc7-9431-81e501445550 button.colab-df-convert');\n",
       "        buttonEl.style.display =\n",
       "          google.colab.kernel.accessAllowed ? 'block' : 'none';\n",
       "\n",
       "        async function convertToInteractive(key) {\n",
       "          const element = document.querySelector('#df-94bca922-a7a2-4cc7-9431-81e501445550');\n",
       "          const dataTable =\n",
       "            await google.colab.kernel.invokeFunction('convertToInteractive',\n",
       "                                                     [key], {});\n",
       "          if (!dataTable) return;\n",
       "\n",
       "          const docLinkHtml = 'Like what you see? Visit the ' +\n",
       "            '<a target=\"_blank\" href=https://colab.research.google.com/notebooks/data_table.ipynb>data table notebook</a>'\n",
       "            + ' to learn more about interactive tables.';\n",
       "          element.innerHTML = '';\n",
       "          dataTable['output_type'] = 'display_data';\n",
       "          await google.colab.output.renderOutput(dataTable, element);\n",
       "          const docLink = document.createElement('div');\n",
       "          docLink.innerHTML = docLinkHtml;\n",
       "          element.appendChild(docLink);\n",
       "        }\n",
       "      </script>\n",
       "    </div>\n",
       "  </div>\n",
       "  "
      ],
      "text/plain": [
       "             id                                              title  \\\n",
       "19293    914024  Curso de TypeScript - El lenguaje utilizado po...   \n",
       "20148    947098            Understanding TypeScript - 2022 Edition   \n",
       "188139  4599580                      Principios SOLID y Clean Code   \n",
       "\n",
       "           category                                         course_url  \n",
       "19293   Development  /course/curso-de-typescript-el-lenguaje-utiliz...  \n",
       "20148   Development                  /course/understanding-typescript/  \n",
       "188139  Development                               /course/solid-clean/  "
      ]
     },
     "execution_count": 158,
     "metadata": {},
     "output_type": "execute_result"
    }
   ],
   "source": [
    "print(\"Recommending courses based on users category preference\")\n",
    "courses[courses[\"id\"].isin(recom_id)]"
   ]
  },
  {
   "cell_type": "code",
   "execution_count": 159,
   "metadata": {
    "colab": {
     "base_uri": "https://localhost:8080/",
     "height": 224
    },
    "executionInfo": {
     "elapsed": 442,
     "status": "ok",
     "timestamp": 1671985834618,
     "user": {
      "displayName": "Arif Enes Aydın",
      "userId": "13409093344924962168"
     },
     "user_tz": -180
    },
    "id": "jrCaHf8AGVxH",
    "outputId": "bbe12cf9-255c-4867-bdfb-5fe495e8be8d"
   },
   "outputs": [
    {
     "name": "stdout",
     "output_type": "stream",
     "text": [
      "Recommending courses\n"
     ]
    },
    {
     "data": {
      "text/html": [
       "\n",
       "  <div id=\"df-d60bd6ee-a93f-4a9d-ba71-aeedaa937895\">\n",
       "    <div class=\"colab-df-container\">\n",
       "      <div>\n",
       "<style scoped>\n",
       "    .dataframe tbody tr th:only-of-type {\n",
       "        vertical-align: middle;\n",
       "    }\n",
       "\n",
       "    .dataframe tbody tr th {\n",
       "        vertical-align: top;\n",
       "    }\n",
       "\n",
       "    .dataframe thead th {\n",
       "        text-align: right;\n",
       "    }\n",
       "</style>\n",
       "<table border=\"1\" class=\"dataframe\">\n",
       "  <thead>\n",
       "    <tr style=\"text-align: right;\">\n",
       "      <th></th>\n",
       "      <th>uid</th>\n",
       "      <th>iid</th>\n",
       "      <th>rui</th>\n",
       "      <th>est</th>\n",
       "      <th>details</th>\n",
       "      <th>user_id</th>\n",
       "      <th>course_id</th>\n",
       "    </tr>\n",
       "  </thead>\n",
       "  <tbody>\n",
       "    <tr>\n",
       "      <th>0</th>\n",
       "      <td>39245</td>\n",
       "      <td>177</td>\n",
       "      <td>None</td>\n",
       "      <td>4.626426</td>\n",
       "      <td>{'was_impossible': False}</td>\n",
       "      <td>41424</td>\n",
       "      <td>9287</td>\n",
       "    </tr>\n",
       "    <tr>\n",
       "      <th>1695</th>\n",
       "      <td>39245</td>\n",
       "      <td>2250</td>\n",
       "      <td>None</td>\n",
       "      <td>4.626426</td>\n",
       "      <td>{'was_impossible': False}</td>\n",
       "      <td>41424</td>\n",
       "      <td>1455016</td>\n",
       "    </tr>\n",
       "    <tr>\n",
       "      <th>1696</th>\n",
       "      <td>39245</td>\n",
       "      <td>291</td>\n",
       "      <td>None</td>\n",
       "      <td>4.626426</td>\n",
       "      <td>{'was_impossible': False}</td>\n",
       "      <td>41424</td>\n",
       "      <td>1455618</td>\n",
       "    </tr>\n",
       "    <tr>\n",
       "      <th>1697</th>\n",
       "      <td>39245</td>\n",
       "      <td>1994</td>\n",
       "      <td>None</td>\n",
       "      <td>4.626426</td>\n",
       "      <td>{'was_impossible': False}</td>\n",
       "      <td>41424</td>\n",
       "      <td>1456464</td>\n",
       "    </tr>\n",
       "    <tr>\n",
       "      <th>1698</th>\n",
       "      <td>39245</td>\n",
       "      <td>936</td>\n",
       "      <td>None</td>\n",
       "      <td>4.626426</td>\n",
       "      <td>{'was_impossible': False}</td>\n",
       "      <td>41424</td>\n",
       "      <td>1458304</td>\n",
       "    </tr>\n",
       "  </tbody>\n",
       "</table>\n",
       "</div>\n",
       "      <button class=\"colab-df-convert\" onclick=\"convertToInteractive('df-d60bd6ee-a93f-4a9d-ba71-aeedaa937895')\"\n",
       "              title=\"Convert this dataframe to an interactive table.\"\n",
       "              style=\"display:none;\">\n",
       "        \n",
       "  <svg xmlns=\"http://www.w3.org/2000/svg\" height=\"24px\"viewBox=\"0 0 24 24\"\n",
       "       width=\"24px\">\n",
       "    <path d=\"M0 0h24v24H0V0z\" fill=\"none\"/>\n",
       "    <path d=\"M18.56 5.44l.94 2.06.94-2.06 2.06-.94-2.06-.94-.94-2.06-.94 2.06-2.06.94zm-11 1L8.5 8.5l.94-2.06 2.06-.94-2.06-.94L8.5 2.5l-.94 2.06-2.06.94zm10 10l.94 2.06.94-2.06 2.06-.94-2.06-.94-.94-2.06-.94 2.06-2.06.94z\"/><path d=\"M17.41 7.96l-1.37-1.37c-.4-.4-.92-.59-1.43-.59-.52 0-1.04.2-1.43.59L10.3 9.45l-7.72 7.72c-.78.78-.78 2.05 0 2.83L4 21.41c.39.39.9.59 1.41.59.51 0 1.02-.2 1.41-.59l7.78-7.78 2.81-2.81c.8-.78.8-2.07 0-2.86zM5.41 20L4 18.59l7.72-7.72 1.47 1.35L5.41 20z\"/>\n",
       "  </svg>\n",
       "      </button>\n",
       "      \n",
       "  <style>\n",
       "    .colab-df-container {\n",
       "      display:flex;\n",
       "      flex-wrap:wrap;\n",
       "      gap: 12px;\n",
       "    }\n",
       "\n",
       "    .colab-df-convert {\n",
       "      background-color: #E8F0FE;\n",
       "      border: none;\n",
       "      border-radius: 50%;\n",
       "      cursor: pointer;\n",
       "      display: none;\n",
       "      fill: #1967D2;\n",
       "      height: 32px;\n",
       "      padding: 0 0 0 0;\n",
       "      width: 32px;\n",
       "    }\n",
       "\n",
       "    .colab-df-convert:hover {\n",
       "      background-color: #E2EBFA;\n",
       "      box-shadow: 0px 1px 2px rgba(60, 64, 67, 0.3), 0px 1px 3px 1px rgba(60, 64, 67, 0.15);\n",
       "      fill: #174EA6;\n",
       "    }\n",
       "\n",
       "    [theme=dark] .colab-df-convert {\n",
       "      background-color: #3B4455;\n",
       "      fill: #D2E3FC;\n",
       "    }\n",
       "\n",
       "    [theme=dark] .colab-df-convert:hover {\n",
       "      background-color: #434B5C;\n",
       "      box-shadow: 0px 1px 3px 1px rgba(0, 0, 0, 0.15);\n",
       "      filter: drop-shadow(0px 1px 2px rgba(0, 0, 0, 0.3));\n",
       "      fill: #FFFFFF;\n",
       "    }\n",
       "  </style>\n",
       "\n",
       "      <script>\n",
       "        const buttonEl =\n",
       "          document.querySelector('#df-d60bd6ee-a93f-4a9d-ba71-aeedaa937895 button.colab-df-convert');\n",
       "        buttonEl.style.display =\n",
       "          google.colab.kernel.accessAllowed ? 'block' : 'none';\n",
       "\n",
       "        async function convertToInteractive(key) {\n",
       "          const element = document.querySelector('#df-d60bd6ee-a93f-4a9d-ba71-aeedaa937895');\n",
       "          const dataTable =\n",
       "            await google.colab.kernel.invokeFunction('convertToInteractive',\n",
       "                                                     [key], {});\n",
       "          if (!dataTable) return;\n",
       "\n",
       "          const docLinkHtml = 'Like what you see? Visit the ' +\n",
       "            '<a target=\"_blank\" href=https://colab.research.google.com/notebooks/data_table.ipynb>data table notebook</a>'\n",
       "            + ' to learn more about interactive tables.';\n",
       "          element.innerHTML = '';\n",
       "          dataTable['output_type'] = 'display_data';\n",
       "          await google.colab.output.renderOutput(dataTable, element);\n",
       "          const docLink = document.createElement('div');\n",
       "          docLink.innerHTML = docLinkHtml;\n",
       "          element.appendChild(docLink);\n",
       "        }\n",
       "      </script>\n",
       "    </div>\n",
       "  </div>\n",
       "  "
      ],
      "text/plain": [
       "        uid   iid   rui       est                    details user_id course_id\n",
       "0     39245   177  None  4.626426  {'was_impossible': False}   41424      9287\n",
       "1695  39245  2250  None  4.626426  {'was_impossible': False}   41424   1455016\n",
       "1696  39245   291  None  4.626426  {'was_impossible': False}   41424   1455618\n",
       "1697  39245  1994  None  4.626426  {'was_impossible': False}   41424   1456464\n",
       "1698  39245   936  None  4.626426  {'was_impossible': False}   41424   1458304"
      ]
     },
     "execution_count": 159,
     "metadata": {},
     "output_type": "execute_result"
    }
   ],
   "source": [
    "print(\"Recommending courses\")\n",
    "recom2.sort_values(by='est')[:5]"
   ]
  },
  {
   "cell_type": "code",
   "execution_count": 160,
   "metadata": {
    "colab": {
     "base_uri": "https://localhost:8080/",
     "height": 206
    },
    "executionInfo": {
     "elapsed": 420,
     "status": "ok",
     "timestamp": 1671985839236,
     "user": {
      "displayName": "Arif Enes Aydın",
      "userId": "13409093344924962168"
     },
     "user_tz": -180
    },
    "id": "F2yolwSEGonw",
    "outputId": "10ff63d8-d553-453f-cba9-609bf3cfbc73"
   },
   "outputs": [
    {
     "data": {
      "text/html": [
       "\n",
       "  <div id=\"df-46f6fd4b-f1d3-44ac-9739-8d8ae1753194\">\n",
       "    <div class=\"colab-df-container\">\n",
       "      <div>\n",
       "<style scoped>\n",
       "    .dataframe tbody tr th:only-of-type {\n",
       "        vertical-align: middle;\n",
       "    }\n",
       "\n",
       "    .dataframe tbody tr th {\n",
       "        vertical-align: top;\n",
       "    }\n",
       "\n",
       "    .dataframe thead th {\n",
       "        text-align: right;\n",
       "    }\n",
       "</style>\n",
       "<table border=\"1\" class=\"dataframe\">\n",
       "  <thead>\n",
       "    <tr style=\"text-align: right;\">\n",
       "      <th></th>\n",
       "      <th>id</th>\n",
       "      <th>title</th>\n",
       "      <th>category</th>\n",
       "      <th>course_url</th>\n",
       "    </tr>\n",
       "  </thead>\n",
       "  <tbody>\n",
       "    <tr>\n",
       "      <th>29</th>\n",
       "      <td>9287</td>\n",
       "      <td>Microsoft Excel 2010 Course Beginners/ Interme...</td>\n",
       "      <td>Office Productivity</td>\n",
       "      <td>/course/excel-tutorial/</td>\n",
       "    </tr>\n",
       "    <tr>\n",
       "      <th>35223</th>\n",
       "      <td>1455016</td>\n",
       "      <td>Build an app with ASPNET Core and Angular from...</td>\n",
       "      <td>Development</td>\n",
       "      <td>/course/build-an-app-with-aspnet-core-and-angu...</td>\n",
       "    </tr>\n",
       "    <tr>\n",
       "      <th>35236</th>\n",
       "      <td>1455618</td>\n",
       "      <td>WordPress 2022: The Complete WordPress Website...</td>\n",
       "      <td>Design</td>\n",
       "      <td>/course/complete-wp-course/</td>\n",
       "    </tr>\n",
       "    <tr>\n",
       "      <th>35273</th>\n",
       "      <td>1456464</td>\n",
       "      <td>CompTIA CySA+ (CS0-002) Complete Course &amp; Prac...</td>\n",
       "      <td>IT &amp; Software</td>\n",
       "      <td>/course/comptiacsaplus/</td>\n",
       "    </tr>\n",
       "    <tr>\n",
       "      <th>35326</th>\n",
       "      <td>1458304</td>\n",
       "      <td>The Digital Painting MEGA Course: Beginner to ...</td>\n",
       "      <td>Design</td>\n",
       "      <td>/course/the-digital-painting-mega-course-begin...</td>\n",
       "    </tr>\n",
       "  </tbody>\n",
       "</table>\n",
       "</div>\n",
       "      <button class=\"colab-df-convert\" onclick=\"convertToInteractive('df-46f6fd4b-f1d3-44ac-9739-8d8ae1753194')\"\n",
       "              title=\"Convert this dataframe to an interactive table.\"\n",
       "              style=\"display:none;\">\n",
       "        \n",
       "  <svg xmlns=\"http://www.w3.org/2000/svg\" height=\"24px\"viewBox=\"0 0 24 24\"\n",
       "       width=\"24px\">\n",
       "    <path d=\"M0 0h24v24H0V0z\" fill=\"none\"/>\n",
       "    <path d=\"M18.56 5.44l.94 2.06.94-2.06 2.06-.94-2.06-.94-.94-2.06-.94 2.06-2.06.94zm-11 1L8.5 8.5l.94-2.06 2.06-.94-2.06-.94L8.5 2.5l-.94 2.06-2.06.94zm10 10l.94 2.06.94-2.06 2.06-.94-2.06-.94-.94-2.06-.94 2.06-2.06.94z\"/><path d=\"M17.41 7.96l-1.37-1.37c-.4-.4-.92-.59-1.43-.59-.52 0-1.04.2-1.43.59L10.3 9.45l-7.72 7.72c-.78.78-.78 2.05 0 2.83L4 21.41c.39.39.9.59 1.41.59.51 0 1.02-.2 1.41-.59l7.78-7.78 2.81-2.81c.8-.78.8-2.07 0-2.86zM5.41 20L4 18.59l7.72-7.72 1.47 1.35L5.41 20z\"/>\n",
       "  </svg>\n",
       "      </button>\n",
       "      \n",
       "  <style>\n",
       "    .colab-df-container {\n",
       "      display:flex;\n",
       "      flex-wrap:wrap;\n",
       "      gap: 12px;\n",
       "    }\n",
       "\n",
       "    .colab-df-convert {\n",
       "      background-color: #E8F0FE;\n",
       "      border: none;\n",
       "      border-radius: 50%;\n",
       "      cursor: pointer;\n",
       "      display: none;\n",
       "      fill: #1967D2;\n",
       "      height: 32px;\n",
       "      padding: 0 0 0 0;\n",
       "      width: 32px;\n",
       "    }\n",
       "\n",
       "    .colab-df-convert:hover {\n",
       "      background-color: #E2EBFA;\n",
       "      box-shadow: 0px 1px 2px rgba(60, 64, 67, 0.3), 0px 1px 3px 1px rgba(60, 64, 67, 0.15);\n",
       "      fill: #174EA6;\n",
       "    }\n",
       "\n",
       "    [theme=dark] .colab-df-convert {\n",
       "      background-color: #3B4455;\n",
       "      fill: #D2E3FC;\n",
       "    }\n",
       "\n",
       "    [theme=dark] .colab-df-convert:hover {\n",
       "      background-color: #434B5C;\n",
       "      box-shadow: 0px 1px 3px 1px rgba(0, 0, 0, 0.15);\n",
       "      filter: drop-shadow(0px 1px 2px rgba(0, 0, 0, 0.3));\n",
       "      fill: #FFFFFF;\n",
       "    }\n",
       "  </style>\n",
       "\n",
       "      <script>\n",
       "        const buttonEl =\n",
       "          document.querySelector('#df-46f6fd4b-f1d3-44ac-9739-8d8ae1753194 button.colab-df-convert');\n",
       "        buttonEl.style.display =\n",
       "          google.colab.kernel.accessAllowed ? 'block' : 'none';\n",
       "\n",
       "        async function convertToInteractive(key) {\n",
       "          const element = document.querySelector('#df-46f6fd4b-f1d3-44ac-9739-8d8ae1753194');\n",
       "          const dataTable =\n",
       "            await google.colab.kernel.invokeFunction('convertToInteractive',\n",
       "                                                     [key], {});\n",
       "          if (!dataTable) return;\n",
       "\n",
       "          const docLinkHtml = 'Like what you see? Visit the ' +\n",
       "            '<a target=\"_blank\" href=https://colab.research.google.com/notebooks/data_table.ipynb>data table notebook</a>'\n",
       "            + ' to learn more about interactive tables.';\n",
       "          element.innerHTML = '';\n",
       "          dataTable['output_type'] = 'display_data';\n",
       "          await google.colab.output.renderOutput(dataTable, element);\n",
       "          const docLink = document.createElement('div');\n",
       "          docLink.innerHTML = docLinkHtml;\n",
       "          element.appendChild(docLink);\n",
       "        }\n",
       "      </script>\n",
       "    </div>\n",
       "  </div>\n",
       "  "
      ],
      "text/plain": [
       "            id                                              title  \\\n",
       "29        9287  Microsoft Excel 2010 Course Beginners/ Interme...   \n",
       "35223  1455016  Build an app with ASPNET Core and Angular from...   \n",
       "35236  1455618  WordPress 2022: The Complete WordPress Website...   \n",
       "35273  1456464  CompTIA CySA+ (CS0-002) Complete Course & Prac...   \n",
       "35326  1458304  The Digital Painting MEGA Course: Beginner to ...   \n",
       "\n",
       "                  category                                         course_url  \n",
       "29     Office Productivity                            /course/excel-tutorial/  \n",
       "35223          Development  /course/build-an-app-with-aspnet-core-and-angu...  \n",
       "35236               Design                        /course/complete-wp-course/  \n",
       "35273        IT & Software                            /course/comptiacsaplus/  \n",
       "35326               Design  /course/the-digital-painting-mega-course-begin...  "
      ]
     },
     "execution_count": 160,
     "metadata": {},
     "output_type": "execute_result"
    }
   ],
   "source": [
    "courses[courses[\"id\"].isin(recom2[\"course_id\"].to_numpy())]"
   ]
  }
 ],
 "metadata": {
  "colab": {
   "authorship_tag": "ABX9TyOiQdNvkUmp6MiYt0++ET+f",
   "provenance": []
  },
  "kernelspec": {
   "display_name": "Python 3 (ipykernel)",
   "language": "python",
   "name": "python3"
  },
  "language_info": {
   "codemirror_mode": {
    "name": "ipython",
    "version": 3
   },
   "file_extension": ".py",
   "mimetype": "text/x-python",
   "name": "python",
   "nbconvert_exporter": "python",
   "pygments_lexer": "ipython3",
   "version": "3.9.13"
  }
 },
 "nbformat": 4,
 "nbformat_minor": 4
}
