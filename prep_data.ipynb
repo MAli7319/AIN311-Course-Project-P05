{
 "cells": [
  {
   "cell_type": "markdown",
   "metadata": {},
   "source": [
    "# Data Preparation for Collaborative Filtering"
   ]
  },
  {
   "cell_type": "code",
   "execution_count": 1,
   "metadata": {
    "executionInfo": {
     "elapsed": 2633,
     "status": "ok",
     "timestamp": 1671981315405,
     "user": {
      "displayName": "Arif Enes Aydın",
      "userId": "13409093344924962168"
     },
     "user_tz": -180
    },
    "id": "ay8Njk8GB2YV"
   },
   "outputs": [],
   "source": [
    "import pandas as pd\n",
    "from sklearn.preprocessing import LabelEncoder\n",
    "import numpy as np"
   ]
  },
  {
   "cell_type": "code",
   "execution_count": 2,
   "metadata": {
    "executionInfo": {
     "elapsed": 45746,
     "status": "ok",
     "timestamp": 1671981361148,
     "user": {
      "displayName": "Arif Enes Aydın",
      "userId": "13409093344924962168"
     },
     "user_tz": -180
    },
    "id": "ITSoWPr2Cqqi"
   },
   "outputs": [],
   "source": [
    "df = pd.read_csv('Comments.csv')"
   ]
  },
  {
   "cell_type": "code",
   "execution_count": 3,
   "metadata": {
    "colab": {
     "base_uri": "https://localhost:8080/",
     "height": 206
    },
    "executionInfo": {
     "elapsed": 10,
     "status": "ok",
     "timestamp": 1671981361149,
     "user": {
      "displayName": "Arif Enes Aydın",
      "userId": "13409093344924962168"
     },
     "user_tz": -180
    },
    "id": "A1pfLO_fCwnD",
    "outputId": "3358f7da-7d0c-4256-d0b9-367086df9c19"
   },
   "outputs": [
    {
     "data": {
      "text/html": [
       "<div>\n",
       "<style scoped>\n",
       "    .dataframe tbody tr th:only-of-type {\n",
       "        vertical-align: middle;\n",
       "    }\n",
       "\n",
       "    .dataframe tbody tr th {\n",
       "        vertical-align: top;\n",
       "    }\n",
       "\n",
       "    .dataframe thead th {\n",
       "        text-align: right;\n",
       "    }\n",
       "</style>\n",
       "<table border=\"1\" class=\"dataframe\">\n",
       "  <thead>\n",
       "    <tr style=\"text-align: right;\">\n",
       "      <th></th>\n",
       "      <th>id</th>\n",
       "      <th>course_id</th>\n",
       "      <th>rate</th>\n",
       "      <th>date</th>\n",
       "      <th>display_name</th>\n",
       "      <th>comment</th>\n",
       "    </tr>\n",
       "  </thead>\n",
       "  <tbody>\n",
       "    <tr>\n",
       "      <th>0</th>\n",
       "      <td>88962892</td>\n",
       "      <td>3173036</td>\n",
       "      <td>1.0</td>\n",
       "      <td>2021-06-29T18:54:25-07:00</td>\n",
       "      <td>Rahul</td>\n",
       "      <td>I think a beginner needs more than you think.\\...</td>\n",
       "    </tr>\n",
       "    <tr>\n",
       "      <th>1</th>\n",
       "      <td>125535470</td>\n",
       "      <td>4913148</td>\n",
       "      <td>5.0</td>\n",
       "      <td>2022-10-07T11:17:41-07:00</td>\n",
       "      <td>Marlo</td>\n",
       "      <td>Aviva is such a natural teacher and healer/hea...</td>\n",
       "    </tr>\n",
       "    <tr>\n",
       "      <th>2</th>\n",
       "      <td>68767147</td>\n",
       "      <td>3178386</td>\n",
       "      <td>3.5</td>\n",
       "      <td>2020-10-19T06:35:37-07:00</td>\n",
       "      <td>Yamila Andrea</td>\n",
       "      <td>Muy buena la introducción para entender la bas...</td>\n",
       "    </tr>\n",
       "  </tbody>\n",
       "</table>\n",
       "</div>"
      ],
      "text/plain": [
       "          id  course_id  rate                       date   display_name  \\\n",
       "0   88962892    3173036   1.0  2021-06-29T18:54:25-07:00          Rahul   \n",
       "1  125535470    4913148   5.0  2022-10-07T11:17:41-07:00          Marlo   \n",
       "2   68767147    3178386   3.5  2020-10-19T06:35:37-07:00  Yamila Andrea   \n",
       "\n",
       "                                             comment  \n",
       "0  I think a beginner needs more than you think.\\...  \n",
       "1  Aviva is such a natural teacher and healer/hea...  \n",
       "2  Muy buena la introducción para entender la bas...  "
      ]
     },
     "execution_count": 3,
     "metadata": {},
     "output_type": "execute_result"
    }
   ],
   "source": [
    "df.head(3)"
   ]
  },
  {
   "cell_type": "markdown",
   "metadata": {},
   "source": [
    "Only needed information for collaborative filtering is user, course and the rate."
   ]
  },
  {
   "cell_type": "code",
   "execution_count": 4,
   "metadata": {
    "executionInfo": {
     "elapsed": 8,
     "status": "ok",
     "timestamp": 1671981361149,
     "user": {
      "displayName": "Arif Enes Aydın",
      "userId": "13409093344924962168"
     },
     "user_tz": -180
    },
    "id": "UT07G4-SDCdO"
   },
   "outputs": [],
   "source": [
    "reviews_df = df[['display_name', 'course_id', 'rate']]"
   ]
  },
  {
   "cell_type": "code",
   "execution_count": 5,
   "metadata": {
    "colab": {
     "base_uri": "https://localhost:8080/",
     "height": 206
    },
    "executionInfo": {
     "elapsed": 462,
     "status": "ok",
     "timestamp": 1671981361603,
     "user": {
      "displayName": "Arif Enes Aydın",
      "userId": "13409093344924962168"
     },
     "user_tz": -180
    },
    "id": "V5KXjjS9DUrB",
    "outputId": "7e80d971-9559-4bd2-df10-aad0c7a669cf"
   },
   "outputs": [
    {
     "data": {
      "text/html": [
       "<div>\n",
       "<style scoped>\n",
       "    .dataframe tbody tr th:only-of-type {\n",
       "        vertical-align: middle;\n",
       "    }\n",
       "\n",
       "    .dataframe tbody tr th {\n",
       "        vertical-align: top;\n",
       "    }\n",
       "\n",
       "    .dataframe thead th {\n",
       "        text-align: right;\n",
       "    }\n",
       "</style>\n",
       "<table border=\"1\" class=\"dataframe\">\n",
       "  <thead>\n",
       "    <tr style=\"text-align: right;\">\n",
       "      <th></th>\n",
       "      <th>display_name</th>\n",
       "      <th>course_id</th>\n",
       "      <th>rate</th>\n",
       "    </tr>\n",
       "  </thead>\n",
       "  <tbody>\n",
       "    <tr>\n",
       "      <th>0</th>\n",
       "      <td>Rahul</td>\n",
       "      <td>3173036</td>\n",
       "      <td>1.0</td>\n",
       "    </tr>\n",
       "    <tr>\n",
       "      <th>1</th>\n",
       "      <td>Marlo</td>\n",
       "      <td>4913148</td>\n",
       "      <td>5.0</td>\n",
       "    </tr>\n",
       "    <tr>\n",
       "      <th>2</th>\n",
       "      <td>Yamila Andrea</td>\n",
       "      <td>3178386</td>\n",
       "      <td>3.5</td>\n",
       "    </tr>\n",
       "  </tbody>\n",
       "</table>\n",
       "</div>"
      ],
      "text/plain": [
       "    display_name  course_id  rate\n",
       "0          Rahul    3173036   1.0\n",
       "1          Marlo    4913148   5.0\n",
       "2  Yamila Andrea    3178386   3.5"
      ]
     },
     "execution_count": 5,
     "metadata": {},
     "output_type": "execute_result"
    }
   ],
   "source": [
    "reviews_df.head(3)"
   ]
  },
  {
   "cell_type": "markdown",
   "metadata": {},
   "source": [
    "Information about the ratings."
   ]
  },
  {
   "cell_type": "code",
   "execution_count": 6,
   "metadata": {
    "colab": {
     "base_uri": "https://localhost:8080/",
     "height": 300
    },
    "executionInfo": {
     "elapsed": 607,
     "status": "ok",
     "timestamp": 1671981362208,
     "user": {
      "displayName": "Arif Enes Aydın",
      "userId": "13409093344924962168"
     },
     "user_tz": -180
    },
    "id": "HC745a1bDmgV",
    "outputId": "460c4c8c-6dfa-4e02-96a4-45d41867526a"
   },
   "outputs": [
    {
     "data": {
      "text/plain": [
       "count    9411727.00\n",
       "mean           4.51\n",
       "std            0.86\n",
       "min            0.50\n",
       "25%            4.00\n",
       "50%            5.00\n",
       "75%            5.00\n",
       "max            5.00\n",
       "Name: rate, dtype: float64"
      ]
     },
     "execution_count": 6,
     "metadata": {},
     "output_type": "execute_result"
    }
   ],
   "source": [
    "reviews_df.describe().round(2)[\"rate\"]"
   ]
  },
  {
   "cell_type": "code",
   "execution_count": 7,
   "metadata": {
    "colab": {
     "base_uri": "https://localhost:8080/"
    },
    "executionInfo": {
     "elapsed": 768,
     "status": "ok",
     "timestamp": 1671981398544,
     "user": {
      "displayName": "Arif Enes Aydın",
      "userId": "13409093344924962168"
     },
     "user_tz": -180
    },
    "id": "-r81aZZ7Dypd",
    "outputId": "0606dc9c-d3ea-4a22-840a-70cf76f2fd98"
   },
   "outputs": [
    {
     "data": {
      "text/plain": [
       "display_name    75362\n",
       "course_id           0\n",
       "rate                0\n",
       "dtype: int64"
      ]
     },
     "execution_count": 7,
     "metadata": {},
     "output_type": "execute_result"
    }
   ],
   "source": [
    "reviews_df.isnull().sum()"
   ]
  },
  {
   "cell_type": "markdown",
   "metadata": {},
   "source": [
    "Clearing the anonymous users and duplicate entries if exist."
   ]
  },
  {
   "cell_type": "code",
   "execution_count": 8,
   "metadata": {
    "executionInfo": {
     "elapsed": 1237,
     "status": "ok",
     "timestamp": 1671981363787,
     "user": {
      "displayName": "Arif Enes Aydın",
      "userId": "13409093344924962168"
     },
     "user_tz": -180
    },
    "id": "OhcH3WvPEUB3"
   },
   "outputs": [],
   "source": [
    "review_df = reviews_df.dropna()\n",
    "review_df = reviews_df.drop_duplicates()"
   ]
  },
  {
   "cell_type": "markdown",
   "metadata": {},
   "source": [
    "Most of the courses reviewed just once. We selected popular courses in order increase the relevancy of the recommendations and decrease computational load."
   ]
  },
  {
   "cell_type": "code",
   "execution_count": 9,
   "metadata": {
    "colab": {
     "base_uri": "https://localhost:8080/"
    },
    "executionInfo": {
     "elapsed": 7,
     "status": "ok",
     "timestamp": 1671981368789,
     "user": {
      "displayName": "Arif Enes Aydın",
      "userId": "13409093344924962168"
     },
     "user_tz": -180
    },
    "id": "qS_VnzCqusw8",
    "outputId": "0209100d-7d25-4c2b-9a2a-bf77600d847d"
   },
   "outputs": [
    {
     "data": {
      "text/plain": [
       "567828     23031\n",
       "793796     21477\n",
       "914296     18245\n",
       "1565838    17786\n",
       "625204     17542\n",
       "           ...  \n",
       "3314984        1\n",
       "4139034        1\n",
       "4375656        1\n",
       "2172942        1\n",
       "3173036        1\n",
       "Name: course_id, Length: 162995, dtype: int64"
      ]
     },
     "execution_count": 9,
     "metadata": {},
     "output_type": "execute_result"
    }
   ],
   "source": [
    "courses = review_df['course_id'].value_counts()\n",
    "courses"
   ]
  },
  {
   "cell_type": "code",
   "execution_count": 10,
   "metadata": {},
   "outputs": [
    {
     "name": "stdout",
     "output_type": "stream",
     "text": [
      "Number of courses reviewed more than 500 times: 2549\n",
      "Number of courses reviewed once: 20845\n"
     ]
    }
   ],
   "source": [
    "print(\"Number of courses reviewed more than 500 times:\", np.sum(courses > 500))\n",
    "print(\"Number of courses reviewed once:\", np.sum(courses == 1))"
   ]
  },
  {
   "cell_type": "code",
   "execution_count": 11,
   "metadata": {
    "colab": {
     "base_uri": "https://localhost:8080/",
     "height": 423
    },
    "executionInfo": {
     "elapsed": 303,
     "status": "ok",
     "timestamp": 1671981402513,
     "user": {
      "displayName": "Arif Enes Aydın",
      "userId": "13409093344924962168"
     },
     "user_tz": -180
    },
    "id": "eyTnylftu6uK",
    "outputId": "7c44f82e-24d2-446a-f065-0444ff5d0d69"
   },
   "outputs": [
    {
     "data": {
      "text/html": [
       "<div>\n",
       "<style scoped>\n",
       "    .dataframe tbody tr th:only-of-type {\n",
       "        vertical-align: middle;\n",
       "    }\n",
       "\n",
       "    .dataframe tbody tr th {\n",
       "        vertical-align: top;\n",
       "    }\n",
       "\n",
       "    .dataframe thead th {\n",
       "        text-align: right;\n",
       "    }\n",
       "</style>\n",
       "<table border=\"1\" class=\"dataframe\">\n",
       "  <thead>\n",
       "    <tr style=\"text-align: right;\">\n",
       "      <th></th>\n",
       "      <th>display_name</th>\n",
       "      <th>course_id</th>\n",
       "      <th>rate</th>\n",
       "    </tr>\n",
       "  </thead>\n",
       "  <tbody>\n",
       "    <tr>\n",
       "      <th>2720695</th>\n",
       "      <td>Larry</td>\n",
       "      <td>1055720</td>\n",
       "      <td>5.0</td>\n",
       "    </tr>\n",
       "    <tr>\n",
       "      <th>2720696</th>\n",
       "      <td>Carley</td>\n",
       "      <td>1055720</td>\n",
       "      <td>5.0</td>\n",
       "    </tr>\n",
       "    <tr>\n",
       "      <th>2720697</th>\n",
       "      <td>Abby</td>\n",
       "      <td>1055720</td>\n",
       "      <td>4.0</td>\n",
       "    </tr>\n",
       "    <tr>\n",
       "      <th>2720698</th>\n",
       "      <td>Adolphus</td>\n",
       "      <td>1055720</td>\n",
       "      <td>5.0</td>\n",
       "    </tr>\n",
       "    <tr>\n",
       "      <th>2720699</th>\n",
       "      <td>Vivienne</td>\n",
       "      <td>1055720</td>\n",
       "      <td>5.0</td>\n",
       "    </tr>\n",
       "    <tr>\n",
       "      <th>...</th>\n",
       "      <td>...</td>\n",
       "      <td>...</td>\n",
       "      <td>...</td>\n",
       "    </tr>\n",
       "    <tr>\n",
       "      <th>9411719</th>\n",
       "      <td>Sathyanarayanan</td>\n",
       "      <td>567828</td>\n",
       "      <td>5.0</td>\n",
       "    </tr>\n",
       "    <tr>\n",
       "      <th>9411723</th>\n",
       "      <td>Rao Saurabh</td>\n",
       "      <td>567828</td>\n",
       "      <td>5.0</td>\n",
       "    </tr>\n",
       "    <tr>\n",
       "      <th>9411724</th>\n",
       "      <td>Raveesh</td>\n",
       "      <td>567828</td>\n",
       "      <td>5.0</td>\n",
       "    </tr>\n",
       "    <tr>\n",
       "      <th>9411725</th>\n",
       "      <td>Wendell</td>\n",
       "      <td>567828</td>\n",
       "      <td>5.0</td>\n",
       "    </tr>\n",
       "    <tr>\n",
       "      <th>9411726</th>\n",
       "      <td>FATIMAH</td>\n",
       "      <td>567828</td>\n",
       "      <td>5.0</td>\n",
       "    </tr>\n",
       "  </tbody>\n",
       "</table>\n",
       "<p>3610319 rows × 3 columns</p>\n",
       "</div>"
      ],
      "text/plain": [
       "            display_name  course_id  rate\n",
       "2720695            Larry    1055720   5.0\n",
       "2720696           Carley    1055720   5.0\n",
       "2720697             Abby    1055720   4.0\n",
       "2720698         Adolphus    1055720   5.0\n",
       "2720699         Vivienne    1055720   5.0\n",
       "...                  ...        ...   ...\n",
       "9411719  Sathyanarayanan     567828   5.0\n",
       "9411723      Rao Saurabh     567828   5.0\n",
       "9411724          Raveesh     567828   5.0\n",
       "9411725          Wendell     567828   5.0\n",
       "9411726          FATIMAH     567828   5.0\n",
       "\n",
       "[3610319 rows x 3 columns]"
      ]
     },
     "execution_count": 11,
     "metadata": {},
     "output_type": "execute_result"
    }
   ],
   "source": [
    "# change according to the limitations\n",
    "c_filter = courses[courses>500]\n",
    "review_df = review_df.loc[review_df['course_id'].isin(c_filter.axes[0])]\n",
    "review_df"
   ]
  },
  {
   "cell_type": "markdown",
   "metadata": {},
   "source": [
    "Since the dataset does not provide an identification for users, we decided check and select according to display names. Most of the reviews share the same display name. We decided to select reviews have the same display name and between some threshold (5, 10) because it is unlikely to one person use purchase more than 10-15 courses and finishes them and review them."
   ]
  },
  {
   "cell_type": "code",
   "execution_count": 12,
   "metadata": {
    "colab": {
     "base_uri": "https://localhost:8080/"
    },
    "executionInfo": {
     "elapsed": 2127,
     "status": "ok",
     "timestamp": 1671981410606,
     "user": {
      "displayName": "Arif Enes Aydın",
      "userId": "13409093344924962168"
     },
     "user_tz": -180
    },
    "id": "8P_L7bQ0Eu-f",
    "outputId": "29077bcb-c87d-44b6-9daf-b801f0b7d13d"
   },
   "outputs": [
    {
     "data": {
      "text/plain": [
       "Anonymized         9524\n",
       "David              6724\n",
       "Daniel             5899\n",
       "Michael            5684\n",
       "John               5090\n",
       "                   ... \n",
       "Gabriel Taborda       1\n",
       "Joceli Miguel         1\n",
       "Wesllen Santos        1\n",
       "Jonatha Rihan         1\n",
       "Rao Saurabh           1\n",
       "Name: display_name, Length: 858473, dtype: int64"
      ]
     },
     "execution_count": 12,
     "metadata": {},
     "output_type": "execute_result"
    }
   ],
   "source": [
    "reviewer_names = review_df['display_name'].value_counts()\n",
    "reviewer_names"
   ]
  },
  {
   "cell_type": "code",
   "execution_count": 13,
   "metadata": {
    "colab": {
     "base_uri": "https://localhost:8080/",
     "height": 423
    },
    "executionInfo": {
     "elapsed": 5,
     "status": "ok",
     "timestamp": 1671981420485,
     "user": {
      "displayName": "Arif Enes Aydın",
      "userId": "13409093344924962168"
     },
     "user_tz": -180
    },
    "id": "tyKP9DUqFJkk",
    "outputId": "69795f67-383b-4e63-e08d-e62297f41a39"
   },
   "outputs": [
    {
     "data": {
      "text/html": [
       "<div>\n",
       "<style scoped>\n",
       "    .dataframe tbody tr th:only-of-type {\n",
       "        vertical-align: middle;\n",
       "    }\n",
       "\n",
       "    .dataframe tbody tr th {\n",
       "        vertical-align: top;\n",
       "    }\n",
       "\n",
       "    .dataframe thead th {\n",
       "        text-align: right;\n",
       "    }\n",
       "</style>\n",
       "<table border=\"1\" class=\"dataframe\">\n",
       "  <thead>\n",
       "    <tr style=\"text-align: right;\">\n",
       "      <th></th>\n",
       "      <th>display_name</th>\n",
       "      <th>course_id</th>\n",
       "      <th>rate</th>\n",
       "    </tr>\n",
       "  </thead>\n",
       "  <tbody>\n",
       "    <tr>\n",
       "      <th>2720700</th>\n",
       "      <td>Herminia</td>\n",
       "      <td>1055720</td>\n",
       "      <td>5.0</td>\n",
       "    </tr>\n",
       "    <tr>\n",
       "      <th>2720706</th>\n",
       "      <td>Allene</td>\n",
       "      <td>1055720</td>\n",
       "      <td>5.0</td>\n",
       "    </tr>\n",
       "    <tr>\n",
       "      <th>2720716</th>\n",
       "      <td>Jacynthe</td>\n",
       "      <td>1055720</td>\n",
       "      <td>5.0</td>\n",
       "    </tr>\n",
       "    <tr>\n",
       "      <th>2720731</th>\n",
       "      <td>Norval</td>\n",
       "      <td>1055720</td>\n",
       "      <td>5.0</td>\n",
       "    </tr>\n",
       "    <tr>\n",
       "      <th>2720733</th>\n",
       "      <td>Dovie</td>\n",
       "      <td>1055720</td>\n",
       "      <td>5.0</td>\n",
       "    </tr>\n",
       "    <tr>\n",
       "      <th>...</th>\n",
       "      <td>...</td>\n",
       "      <td>...</td>\n",
       "      <td>...</td>\n",
       "    </tr>\n",
       "    <tr>\n",
       "      <th>9411623</th>\n",
       "      <td>Jacari</td>\n",
       "      <td>567828</td>\n",
       "      <td>5.0</td>\n",
       "    </tr>\n",
       "    <tr>\n",
       "      <th>9411631</th>\n",
       "      <td>Linet</td>\n",
       "      <td>567828</td>\n",
       "      <td>5.0</td>\n",
       "    </tr>\n",
       "    <tr>\n",
       "      <th>9411656</th>\n",
       "      <td>Drishtant</td>\n",
       "      <td>567828</td>\n",
       "      <td>5.0</td>\n",
       "    </tr>\n",
       "    <tr>\n",
       "      <th>9411667</th>\n",
       "      <td>Claro</td>\n",
       "      <td>567828</td>\n",
       "      <td>5.0</td>\n",
       "    </tr>\n",
       "    <tr>\n",
       "      <th>9411705</th>\n",
       "      <td>Karlyn</td>\n",
       "      <td>567828</td>\n",
       "      <td>5.0</td>\n",
       "    </tr>\n",
       "  </tbody>\n",
       "</table>\n",
       "<p>250309 rows × 3 columns</p>\n",
       "</div>"
      ],
      "text/plain": [
       "        display_name  course_id  rate\n",
       "2720700     Herminia    1055720   5.0\n",
       "2720706       Allene    1055720   5.0\n",
       "2720716     Jacynthe    1055720   5.0\n",
       "2720731       Norval    1055720   5.0\n",
       "2720733        Dovie    1055720   5.0\n",
       "...              ...        ...   ...\n",
       "9411623       Jacari     567828   5.0\n",
       "9411631        Linet     567828   5.0\n",
       "9411656    Drishtant     567828   5.0\n",
       "9411667        Claro     567828   5.0\n",
       "9411705       Karlyn     567828   5.0\n",
       "\n",
       "[250309 rows x 3 columns]"
      ]
     },
     "execution_count": 13,
     "metadata": {},
     "output_type": "execute_result"
    }
   ],
   "source": [
    "# change according to the limitations\n",
    "reviewer_filter = reviewer_names[(reviewer_names>4) & (reviewer_names<10)]\n",
    "review_df = review_df.loc[review_df['display_name'].isin(reviewer_filter.axes[0])]\n",
    "review_df"
   ]
  },
  {
   "cell_type": "markdown",
   "metadata": {},
   "source": [
    "After filtering the users, some of the users seemed to reviewed one course more than once (different users). We dropped these users."
   ]
  },
  {
   "cell_type": "code",
   "execution_count": 14,
   "metadata": {
    "colab": {
     "base_uri": "https://localhost:8080/",
     "height": 423
    },
    "executionInfo": {
     "elapsed": 132312,
     "status": "ok",
     "timestamp": 1671981557550,
     "user": {
      "displayName": "Arif Enes Aydın",
      "userId": "13409093344924962168"
     },
     "user_tz": -180
    },
    "id": "_-6seEP8FoVj",
    "outputId": "d119d8a4-c12d-4579-ca84-088c057ccd5a"
   },
   "outputs": [
    {
     "data": {
      "text/html": [
       "<div>\n",
       "<style scoped>\n",
       "    .dataframe tbody tr th:only-of-type {\n",
       "        vertical-align: middle;\n",
       "    }\n",
       "\n",
       "    .dataframe tbody tr th {\n",
       "        vertical-align: top;\n",
       "    }\n",
       "\n",
       "    .dataframe thead th {\n",
       "        text-align: right;\n",
       "    }\n",
       "</style>\n",
       "<table border=\"1\" class=\"dataframe\">\n",
       "  <thead>\n",
       "    <tr style=\"text-align: right;\">\n",
       "      <th></th>\n",
       "      <th>display_name</th>\n",
       "      <th>course_id</th>\n",
       "      <th>rate</th>\n",
       "    </tr>\n",
       "  </thead>\n",
       "  <tbody>\n",
       "    <tr>\n",
       "      <th>2720716</th>\n",
       "      <td>Jacynthe</td>\n",
       "      <td>1055720</td>\n",
       "      <td>5.0</td>\n",
       "    </tr>\n",
       "    <tr>\n",
       "      <th>2720731</th>\n",
       "      <td>Norval</td>\n",
       "      <td>1055720</td>\n",
       "      <td>5.0</td>\n",
       "    </tr>\n",
       "    <tr>\n",
       "      <th>2720758</th>\n",
       "      <td>Jany</td>\n",
       "      <td>1055720</td>\n",
       "      <td>4.0</td>\n",
       "    </tr>\n",
       "    <tr>\n",
       "      <th>2720764</th>\n",
       "      <td>Delmer</td>\n",
       "      <td>1055720</td>\n",
       "      <td>5.0</td>\n",
       "    </tr>\n",
       "    <tr>\n",
       "      <th>2720799</th>\n",
       "      <td>Merl</td>\n",
       "      <td>1055720</td>\n",
       "      <td>5.0</td>\n",
       "    </tr>\n",
       "    <tr>\n",
       "      <th>...</th>\n",
       "      <td>...</td>\n",
       "      <td>...</td>\n",
       "      <td>...</td>\n",
       "    </tr>\n",
       "    <tr>\n",
       "      <th>9411623</th>\n",
       "      <td>Jacari</td>\n",
       "      <td>567828</td>\n",
       "      <td>5.0</td>\n",
       "    </tr>\n",
       "    <tr>\n",
       "      <th>9411631</th>\n",
       "      <td>Linet</td>\n",
       "      <td>567828</td>\n",
       "      <td>5.0</td>\n",
       "    </tr>\n",
       "    <tr>\n",
       "      <th>9411656</th>\n",
       "      <td>Drishtant</td>\n",
       "      <td>567828</td>\n",
       "      <td>5.0</td>\n",
       "    </tr>\n",
       "    <tr>\n",
       "      <th>9411667</th>\n",
       "      <td>Claro</td>\n",
       "      <td>567828</td>\n",
       "      <td>5.0</td>\n",
       "    </tr>\n",
       "    <tr>\n",
       "      <th>9411705</th>\n",
       "      <td>Karlyn</td>\n",
       "      <td>567828</td>\n",
       "      <td>5.0</td>\n",
       "    </tr>\n",
       "  </tbody>\n",
       "</table>\n",
       "<p>242029 rows × 3 columns</p>\n",
       "</div>"
      ],
      "text/plain": [
       "        display_name  course_id  rate\n",
       "2720716     Jacynthe    1055720   5.0\n",
       "2720731       Norval    1055720   5.0\n",
       "2720758         Jany    1055720   4.0\n",
       "2720764       Delmer    1055720   5.0\n",
       "2720799         Merl    1055720   5.0\n",
       "...              ...        ...   ...\n",
       "9411623       Jacari     567828   5.0\n",
       "9411631        Linet     567828   5.0\n",
       "9411656    Drishtant     567828   5.0\n",
       "9411667        Claro     567828   5.0\n",
       "9411705       Karlyn     567828   5.0\n",
       "\n",
       "[242029 rows x 3 columns]"
      ]
     },
     "execution_count": 14,
     "metadata": {},
     "output_type": "execute_result"
    }
   ],
   "source": [
    "groupby_reviewer = review_df.groupby([\"display_name\"])\n",
    "delete = []\n",
    "for user in groupby_reviewer.groups.keys():\n",
    "     if groupby_reviewer.get_group(user).nunique()[\"course_id\"] != groupby_reviewer.get_group(user).count()[\"course_id\"]:\n",
    "        delete.append(user)\n",
    "\n",
    "review_df = review_df.loc[~review_df['display_name'].isin(delete)]\n",
    "review_df"
   ]
  },
  {
   "cell_type": "markdown",
   "metadata": {},
   "source": [
    "State of the data after filtering operations."
   ]
  },
  {
   "cell_type": "code",
   "execution_count": 15,
   "metadata": {
    "colab": {
     "base_uri": "https://localhost:8080/"
    },
    "executionInfo": {
     "elapsed": 7,
     "status": "ok",
     "timestamp": 1671981557550,
     "user": {
      "displayName": "Arif Enes Aydın",
      "userId": "13409093344924962168"
     },
     "user_tz": -180
    },
    "id": "tJM8pf_jGFdE",
    "outputId": "7aa61acf-9a60-4cd9-97f1-db8c5534ca74"
   },
   "outputs": [
    {
     "data": {
      "text/plain": [
       "Jyoshna         9\n",
       "Nikkie          9\n",
       "Mulham          9\n",
       "Shian           9\n",
       "Liwen           9\n",
       "               ..\n",
       "Oyedele         5\n",
       "Anthony A       5\n",
       "Ana Salvador    5\n",
       "Praween         5\n",
       "ASHWARYA        5\n",
       "Name: display_name, Length: 38295, dtype: int64"
      ]
     },
     "execution_count": 15,
     "metadata": {},
     "output_type": "execute_result"
    }
   ],
   "source": [
    "review_df['display_name'].value_counts()"
   ]
  },
  {
   "cell_type": "code",
   "execution_count": 16,
   "metadata": {
    "colab": {
     "base_uri": "https://localhost:8080/"
    },
    "executionInfo": {
     "elapsed": 6,
     "status": "ok",
     "timestamp": 1671981557551,
     "user": {
      "displayName": "Arif Enes Aydın",
      "userId": "13409093344924962168"
     },
     "user_tz": -180
    },
    "id": "yiLM00XDGQHS",
    "outputId": "66ae3f71-eaa2-40cc-b3e8-d0d2395ce569"
   },
   "outputs": [
    {
     "data": {
      "text/plain": [
       "2549"
      ]
     },
     "execution_count": 16,
     "metadata": {},
     "output_type": "execute_result"
    }
   ],
   "source": [
    "review_df['course_id'].nunique()"
   ]
  },
  {
   "cell_type": "markdown",
   "metadata": {},
   "source": [
    "We set ids to users to make it easy to work on."
   ]
  },
  {
   "cell_type": "code",
   "execution_count": 17,
   "metadata": {
    "colab": {
     "base_uri": "https://localhost:8080/",
     "height": 423
    },
    "executionInfo": {
     "elapsed": 465,
     "status": "ok",
     "timestamp": 1671981558012,
     "user": {
      "displayName": "Arif Enes Aydın",
      "userId": "13409093344924962168"
     },
     "user_tz": -180
    },
    "id": "JainaSC-GXn5",
    "outputId": "3463a5f1-a804-48c2-ee22-b378c0a0cded"
   },
   "outputs": [
    {
     "data": {
      "text/html": [
       "<div>\n",
       "<style scoped>\n",
       "    .dataframe tbody tr th:only-of-type {\n",
       "        vertical-align: middle;\n",
       "    }\n",
       "\n",
       "    .dataframe tbody tr th {\n",
       "        vertical-align: top;\n",
       "    }\n",
       "\n",
       "    .dataframe thead th {\n",
       "        text-align: right;\n",
       "    }\n",
       "</style>\n",
       "<table border=\"1\" class=\"dataframe\">\n",
       "  <thead>\n",
       "    <tr style=\"text-align: right;\">\n",
       "      <th></th>\n",
       "      <th>user_id</th>\n",
       "      <th>display_name</th>\n",
       "      <th>course_id</th>\n",
       "      <th>rate</th>\n",
       "    </tr>\n",
       "  </thead>\n",
       "  <tbody>\n",
       "    <tr>\n",
       "      <th>2720716</th>\n",
       "      <td>14177</td>\n",
       "      <td>Jacynthe</td>\n",
       "      <td>1055720</td>\n",
       "      <td>5.0</td>\n",
       "    </tr>\n",
       "    <tr>\n",
       "      <th>2720731</th>\n",
       "      <td>24654</td>\n",
       "      <td>Norval</td>\n",
       "      <td>1055720</td>\n",
       "      <td>5.0</td>\n",
       "    </tr>\n",
       "    <tr>\n",
       "      <th>2720758</th>\n",
       "      <td>14484</td>\n",
       "      <td>Jany</td>\n",
       "      <td>1055720</td>\n",
       "      <td>4.0</td>\n",
       "    </tr>\n",
       "    <tr>\n",
       "      <th>2720764</th>\n",
       "      <td>7689</td>\n",
       "      <td>Delmer</td>\n",
       "      <td>1055720</td>\n",
       "      <td>5.0</td>\n",
       "    </tr>\n",
       "    <tr>\n",
       "      <th>2720799</th>\n",
       "      <td>22004</td>\n",
       "      <td>Merl</td>\n",
       "      <td>1055720</td>\n",
       "      <td>5.0</td>\n",
       "    </tr>\n",
       "    <tr>\n",
       "      <th>...</th>\n",
       "      <td>...</td>\n",
       "      <td>...</td>\n",
       "      <td>...</td>\n",
       "      <td>...</td>\n",
       "    </tr>\n",
       "    <tr>\n",
       "      <th>9411623</th>\n",
       "      <td>14118</td>\n",
       "      <td>Jacari</td>\n",
       "      <td>567828</td>\n",
       "      <td>5.0</td>\n",
       "    </tr>\n",
       "    <tr>\n",
       "      <th>9411631</th>\n",
       "      <td>19119</td>\n",
       "      <td>Linet</td>\n",
       "      <td>567828</td>\n",
       "      <td>5.0</td>\n",
       "    </tr>\n",
       "    <tr>\n",
       "      <th>9411656</th>\n",
       "      <td>8598</td>\n",
       "      <td>Drishtant</td>\n",
       "      <td>567828</td>\n",
       "      <td>5.0</td>\n",
       "    </tr>\n",
       "    <tr>\n",
       "      <th>9411667</th>\n",
       "      <td>6454</td>\n",
       "      <td>Claro</td>\n",
       "      <td>567828</td>\n",
       "      <td>5.0</td>\n",
       "    </tr>\n",
       "    <tr>\n",
       "      <th>9411705</th>\n",
       "      <td>17324</td>\n",
       "      <td>Karlyn</td>\n",
       "      <td>567828</td>\n",
       "      <td>5.0</td>\n",
       "    </tr>\n",
       "  </tbody>\n",
       "</table>\n",
       "<p>242029 rows × 4 columns</p>\n",
       "</div>"
      ],
      "text/plain": [
       "         user_id display_name  course_id  rate\n",
       "2720716    14177     Jacynthe    1055720   5.0\n",
       "2720731    24654       Norval    1055720   5.0\n",
       "2720758    14484         Jany    1055720   4.0\n",
       "2720764     7689       Delmer    1055720   5.0\n",
       "2720799    22004         Merl    1055720   5.0\n",
       "...          ...          ...        ...   ...\n",
       "9411623    14118       Jacari     567828   5.0\n",
       "9411631    19119        Linet     567828   5.0\n",
       "9411656     8598    Drishtant     567828   5.0\n",
       "9411667     6454        Claro     567828   5.0\n",
       "9411705    17324       Karlyn     567828   5.0\n",
       "\n",
       "[242029 rows x 4 columns]"
      ]
     },
     "execution_count": 17,
     "metadata": {},
     "output_type": "execute_result"
    }
   ],
   "source": [
    "le = LabelEncoder()\n",
    "reviewer_id = le.fit_transform(review_df[\"display_name\"])\n",
    "review_df.insert(0, \"user_id\", reviewer_id, True)\n",
    "review_df"
   ]
  },
  {
   "cell_type": "code",
   "execution_count": 18,
   "metadata": {
    "executionInfo": {
     "elapsed": 721,
     "status": "ok",
     "timestamp": 1671981558730,
     "user": {
      "displayName": "Arif Enes Aydın",
      "userId": "13409093344924962168"
     },
     "user_tz": -180
    },
    "id": "pHmvMAIIGopJ"
   },
   "outputs": [],
   "source": [
    "review_df.to_csv(\"rates.csv\", index=False)"
   ]
  },
  {
   "cell_type": "markdown",
   "metadata": {},
   "source": [
    "Finally we filtered the course data with the courses we left with after all these operations."
   ]
  },
  {
   "cell_type": "code",
   "execution_count": 19,
   "metadata": {},
   "outputs": [],
   "source": [
    "reviewed_courses = review_df[\"course_id\"].unique()\n",
    "courses = pd.read_csv(\"Course_info.csv\")\n",
    "courses = courses[[\"id\", \"title\", \"category\", \"course_url\"]]\n",
    "courses = courses[courses[\"id\"].isin(reviewed_courses)]\n",
    "courses[\"id\"] = courses[\"id\"].astype(np.int64)\n",
    "courses.to_csv(\"courses.csv\", index=False)"
   ]
  }
 ],
 "metadata": {
  "colab": {
   "authorship_tag": "ABX9TyPbygOjPD2Fd5gqNROcOapD",
   "collapsed_sections": [
    "Kk3TDqR4Bvx7"
   ],
   "provenance": []
  },
  "kernelspec": {
   "display_name": "Python 3 (ipykernel)",
   "language": "python",
   "name": "python3"
  },
  "language_info": {
   "codemirror_mode": {
    "name": "ipython",
    "version": 3
   },
   "file_extension": ".py",
   "mimetype": "text/x-python",
   "name": "python",
   "nbconvert_exporter": "python",
   "pygments_lexer": "ipython3",
   "version": "3.9.13"
  }
 },
 "nbformat": 4,
 "nbformat_minor": 4
}
