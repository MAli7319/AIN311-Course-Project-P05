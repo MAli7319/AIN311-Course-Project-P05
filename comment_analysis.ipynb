{
 "cells": [
  {
   "cell_type": "markdown",
   "id": "c2474cb1",
   "metadata": {},
   "source": [
    "## Generating a Rating with the help of Comment Analysis and Machine Learning"
   ]
  },
  {
   "cell_type": "markdown",
   "id": "e724f94f",
   "metadata": {},
   "source": [
    "### 1) Preprocessing the Comment Data"
   ]
  },
  {
   "cell_type": "markdown",
   "id": "b2e131b7",
   "metadata": {},
   "source": [
    "**Import pandas and warnings**"
   ]
  },
  {
   "cell_type": "code",
   "execution_count": 1,
   "id": "c66cb3e5",
   "metadata": {},
   "outputs": [],
   "source": [
    "import pandas as pd\n",
    "import warnings\n",
    "warnings.filterwarnings(\"ignore\")"
   ]
  },
  {
   "cell_type": "markdown",
   "id": "8494934e",
   "metadata": {},
   "source": [
    "**Reading the dataset and checking the first 5 rows**"
   ]
  },
  {
   "cell_type": "code",
   "execution_count": 2,
   "id": "aa28c695",
   "metadata": {},
   "outputs": [],
   "source": [
    "comments = pd.read_csv(\"udemy_courses/Comments.csv\")"
   ]
  },
  {
   "cell_type": "code",
   "execution_count": 3,
   "id": "89294f80",
   "metadata": {},
   "outputs": [
    {
     "data": {
      "text/html": [
       "<div>\n",
       "<style scoped>\n",
       "    .dataframe tbody tr th:only-of-type {\n",
       "        vertical-align: middle;\n",
       "    }\n",
       "\n",
       "    .dataframe tbody tr th {\n",
       "        vertical-align: top;\n",
       "    }\n",
       "\n",
       "    .dataframe thead th {\n",
       "        text-align: right;\n",
       "    }\n",
       "</style>\n",
       "<table border=\"1\" class=\"dataframe\">\n",
       "  <thead>\n",
       "    <tr style=\"text-align: right;\">\n",
       "      <th></th>\n",
       "      <th>id</th>\n",
       "      <th>course_id</th>\n",
       "      <th>rate</th>\n",
       "      <th>date</th>\n",
       "      <th>display_name</th>\n",
       "      <th>comment</th>\n",
       "    </tr>\n",
       "  </thead>\n",
       "  <tbody>\n",
       "    <tr>\n",
       "      <th>0</th>\n",
       "      <td>88962892</td>\n",
       "      <td>3173036</td>\n",
       "      <td>1.0</td>\n",
       "      <td>2021-06-29T18:54:25-07:00</td>\n",
       "      <td>Rahul</td>\n",
       "      <td>I think a beginner needs more than you think.\\...</td>\n",
       "    </tr>\n",
       "    <tr>\n",
       "      <th>1</th>\n",
       "      <td>125535470</td>\n",
       "      <td>4913148</td>\n",
       "      <td>5.0</td>\n",
       "      <td>2022-10-07T11:17:41-07:00</td>\n",
       "      <td>Marlo</td>\n",
       "      <td>Aviva is such a natural teacher and healer/hea...</td>\n",
       "    </tr>\n",
       "    <tr>\n",
       "      <th>2</th>\n",
       "      <td>68767147</td>\n",
       "      <td>3178386</td>\n",
       "      <td>3.5</td>\n",
       "      <td>2020-10-19T06:35:37-07:00</td>\n",
       "      <td>Yamila Andrea</td>\n",
       "      <td>Muy buena la introducción para entender la bas...</td>\n",
       "    </tr>\n",
       "    <tr>\n",
       "      <th>3</th>\n",
       "      <td>125029758</td>\n",
       "      <td>3175814</td>\n",
       "      <td>5.0</td>\n",
       "      <td>2022-09-30T21:13:49-07:00</td>\n",
       "      <td>Jacqueline</td>\n",
       "      <td>This course is the best on Udemy.  This breakd...</td>\n",
       "    </tr>\n",
       "    <tr>\n",
       "      <th>4</th>\n",
       "      <td>76584052</td>\n",
       "      <td>3174896</td>\n",
       "      <td>4.5</td>\n",
       "      <td>2021-01-30T08:45:11-08:00</td>\n",
       "      <td>Anthony</td>\n",
       "      <td>I found this course very helpful. It was full ...</td>\n",
       "    </tr>\n",
       "  </tbody>\n",
       "</table>\n",
       "</div>"
      ],
      "text/plain": [
       "          id  course_id  rate                       date   display_name  \\\n",
       "0   88962892    3173036   1.0  2021-06-29T18:54:25-07:00          Rahul   \n",
       "1  125535470    4913148   5.0  2022-10-07T11:17:41-07:00          Marlo   \n",
       "2   68767147    3178386   3.5  2020-10-19T06:35:37-07:00  Yamila Andrea   \n",
       "3  125029758    3175814   5.0  2022-09-30T21:13:49-07:00     Jacqueline   \n",
       "4   76584052    3174896   4.5  2021-01-30T08:45:11-08:00        Anthony   \n",
       "\n",
       "                                             comment  \n",
       "0  I think a beginner needs more than you think.\\...  \n",
       "1  Aviva is such a natural teacher and healer/hea...  \n",
       "2  Muy buena la introducción para entender la bas...  \n",
       "3  This course is the best on Udemy.  This breakd...  \n",
       "4  I found this course very helpful. It was full ...  "
      ]
     },
     "execution_count": 3,
     "metadata": {},
     "output_type": "execute_result"
    }
   ],
   "source": [
    "comments.head()"
   ]
  },
  {
   "cell_type": "markdown",
   "id": "41374f39",
   "metadata": {},
   "source": [
    "* There are plenty of character sequences that indicates the empty comment such as \".\", \"?\", \",\", \"-\", \":)\", \"..\", \"...\", \"???\", .... etc. \n",
    "* These characters are the obstacles in front of the language detector. When it sees these characters, it gives an error."
   ]
  },
  {
   "cell_type": "markdown",
   "id": "d7dcfe3a",
   "metadata": {},
   "source": [
    "**Saving the comment ratings with certain intervals to another data frame**"
   ]
  },
  {
   "cell_type": "code",
   "execution_count": 4,
   "id": "73ca4e9c",
   "metadata": {},
   "outputs": [],
   "source": [
    "comment_1 = comments[comments[\"rate\"] <= 1] # Interval [0,1]\n",
    "comment_2 = comments[(comments[\"rate\"] > 1) & (comments[\"rate\"] <= 2)] # Interval (1,2]\n",
    "comment_3 = comments[(comments[\"rate\"] > 2) & (comments[\"rate\"] <= 3)] # Interval (2,3]\n",
    "comment_4 = comments[(comments[\"rate\"] > 3) & (comments[\"rate\"] <= 4)] # Interval (3,4]\n",
    "comment_5 = comments[comments[\"rate\"] > 4] # Interval (4,5]"
   ]
  },
  {
   "cell_type": "markdown",
   "id": "173432b8",
   "metadata": {},
   "source": [
    "**Calculating the length of each of them**"
   ]
  },
  {
   "cell_type": "code",
   "execution_count": 5,
   "id": "35dab2ae",
   "metadata": {},
   "outputs": [],
   "source": [
    "rate_1 = len(comment_1) / len(comments)*100\n",
    "rate_2 = len(comment_2) / len(comments)*100\n",
    "rate_3 = len(comment_3) / len(comments)*100\n",
    "rate_4 = len(comment_4) / len(comments)*100\n",
    "rate_5 = len(comment_5) / len(comments)*100"
   ]
  },
  {
   "cell_type": "markdown",
   "id": "ab5f5c74",
   "metadata": {},
   "source": [
    "* These lengths will be used to learn how the comment ratings distributed "
   ]
  },
  {
   "cell_type": "markdown",
   "id": "c7cbeaff",
   "metadata": {},
   "source": [
    "**Printing the percentage of the comment ratings for each interval**"
   ]
  },
  {
   "cell_type": "code",
   "execution_count": 6,
   "id": "8aa0e160",
   "metadata": {},
   "outputs": [
    {
     "name": "stdout",
     "output_type": "stream",
     "text": [
      "Percentage of comments rated below 1.0 is 1.9963392478341118\n",
      "Percentage of comments rated above 1.0 and below 2.0 is 1.605645807618517\n",
      "Percentage of comments rated above 2.0 and below 3.0 is 5.4198129631256835\n",
      "Percentage of comments rated above 3.0 and below 4.0 is 16.539791262538746\n",
      "Percentage of comments rated above 4.0 is 74.43841071888293\n"
     ]
    }
   ],
   "source": [
    "print(f\"Percentage of comments rated below 1.0 is {rate_1}\")\n",
    "print(f\"Percentage of comments rated above 1.0 and below 2.0 is {rate_2}\")\n",
    "print(f\"Percentage of comments rated above 2.0 and below 3.0 is {rate_3}\")\n",
    "print(f\"Percentage of comments rated above 3.0 and below 4.0 is {rate_4}\")\n",
    "print(f\"Percentage of comments rated above 4.0 is {rate_5}\")"
   ]
  },
  {
   "cell_type": "markdown",
   "id": "277a2cc4",
   "metadata": {},
   "source": [
    "* In order to get better visual, we will plot pie graph"
   ]
  },
  {
   "cell_type": "markdown",
   "id": "9bb68c2a",
   "metadata": {},
   "source": [
    "**Plotting pie graph with plt.pie**"
   ]
  },
  {
   "cell_type": "code",
   "execution_count": 7,
   "id": "25b715cd",
   "metadata": {
    "scrolled": false
   },
   "outputs": [
    {
     "data": {
      "text/plain": [
       "<matplotlib.legend.Legend at 0x1c699784460>"
      ]
     },
     "execution_count": 7,
     "metadata": {},
     "output_type": "execute_result"
    },
    {
     "data": {
      "image/png": "[encoded data removed]",
      "text/plain": [
       "<Figure size 576x576 with 1 Axes>"
      ]
     },
     "metadata": {},
     "output_type": "display_data"
    }
   ],
   "source": [
    "import matplotlib.pyplot as plt\n",
    "plt.figure(figsize = (8,8))\n",
    "data = [rate_1, rate_2, rate_3, rate_4, rate_5]\n",
    "labels = [\"#rate <= 1.0\", \"1.0 < #rate <= 2.0\", \"2.0 < #rate <= 3.0\", \"3.0 < #rate <= 4.0\", \"4.0 > #rate\"]\n",
    "plt.pie(data, labels=labels, autopct='%.2f', explode=[0.2,0.1,0.05,0.025,0])\n",
    "plt.tight_layout()\n",
    "plt.legend()"
   ]
  },
  {
   "cell_type": "markdown",
   "id": "fefd4da5",
   "metadata": {},
   "source": [
    "* Dataset is highly imbalanced\n",
    "* 75% of the comments are rated with higher than 4\n",
    "* We need to take equal number of samples for each interval\n",
    "* Because such an imbalanced data will bring challenges to seperate rating intervals, and results in poor model performance."
   ]
  },
  {
   "cell_type": "markdown",
   "id": "5b2e239d",
   "metadata": {},
   "source": [
    "* For the sake of convenience, we will choose 5000 comments of each rating interval. (Undersampling)"
   ]
  },
  {
   "cell_type": "markdown",
   "id": "ba4fb2f3",
   "metadata": {},
   "source": [
    "**Selecting 5000 samples from each rating intervals and dropping the null values**"
   ]
  },
  {
   "cell_type": "code",
   "execution_count": 8,
   "id": "477cac8f",
   "metadata": {},
   "outputs": [],
   "source": [
    "comment_1_sample = comment_1.sample(5000, random_state=1).dropna()\n",
    "comment_2_sample = comment_2.sample(5000, random_state=1).dropna()\n",
    "comment_3_sample = comment_3.sample(5000, random_state=1).dropna()\n",
    "comment_4_sample = comment_4.sample(5000, random_state=1).dropna()\n",
    "comment_5_sample = comment_5.sample(5000, random_state=1).dropna()"
   ]
  },
  {
   "cell_type": "code",
   "execution_count": 9,
   "id": "5280df98",
   "metadata": {
    "scrolled": false
   },
   "outputs": [
    {
     "data": {
      "text/html": [
       "<div>\n",
       "<style scoped>\n",
       "    .dataframe tbody tr th:only-of-type {\n",
       "        vertical-align: middle;\n",
       "    }\n",
       "\n",
       "    .dataframe tbody tr th {\n",
       "        vertical-align: top;\n",
       "    }\n",
       "\n",
       "    .dataframe thead th {\n",
       "        text-align: right;\n",
       "    }\n",
       "</style>\n",
       "<table border=\"1\" class=\"dataframe\">\n",
       "  <thead>\n",
       "    <tr style=\"text-align: right;\">\n",
       "      <th></th>\n",
       "      <th>id</th>\n",
       "      <th>course_id</th>\n",
       "      <th>rate</th>\n",
       "      <th>date</th>\n",
       "      <th>display_name</th>\n",
       "      <th>comment</th>\n",
       "    </tr>\n",
       "  </thead>\n",
       "  <tbody>\n",
       "    <tr>\n",
       "      <th>677568</th>\n",
       "      <td>76904362</td>\n",
       "      <td>124862</td>\n",
       "      <td>1.0</td>\n",
       "      <td>2021-02-03T06:02:58-08:00</td>\n",
       "      <td>Prathamesh</td>\n",
       "      <td>worst</td>\n",
       "    </tr>\n",
       "    <tr>\n",
       "      <th>2844211</th>\n",
       "      <td>73905032</td>\n",
       "      <td>3016360</td>\n",
       "      <td>1.0</td>\n",
       "      <td>2020-12-29T23:42:18-08:00</td>\n",
       "      <td>Amit Kumar</td>\n",
       "      <td>Not a good teacher</td>\n",
       "    </tr>\n",
       "    <tr>\n",
       "      <th>8102772</th>\n",
       "      <td>116787574</td>\n",
       "      <td>1506888</td>\n",
       "      <td>1.0</td>\n",
       "      <td>2022-06-20T02:23:29-07:00</td>\n",
       "      <td>Deepak</td>\n",
       "      <td>dont waste your money</td>\n",
       "    </tr>\n",
       "    <tr>\n",
       "      <th>1907760</th>\n",
       "      <td>44653686</td>\n",
       "      <td>2531702</td>\n",
       "      <td>1.0</td>\n",
       "      <td>2020-01-30T03:27:19-08:00</td>\n",
       "      <td>Dear</td>\n",
       "      <td>offensive course. ?</td>\n",
       "    </tr>\n",
       "    <tr>\n",
       "      <th>350195</th>\n",
       "      <td>6514276</td>\n",
       "      <td>967674</td>\n",
       "      <td>0.5</td>\n",
       "      <td>2017-04-18T15:36:01-07:00</td>\n",
       "      <td>Mathew S</td>\n",
       "      <td>SwiftyStoreKit is already a clean lightweight ...</td>\n",
       "    </tr>\n",
       "  </tbody>\n",
       "</table>\n",
       "</div>"
      ],
      "text/plain": [
       "                id  course_id  rate                       date display_name  \\\n",
       "677568    76904362     124862   1.0  2021-02-03T06:02:58-08:00   Prathamesh   \n",
       "2844211   73905032    3016360   1.0  2020-12-29T23:42:18-08:00   Amit Kumar   \n",
       "8102772  116787574    1506888   1.0  2022-06-20T02:23:29-07:00       Deepak   \n",
       "1907760   44653686    2531702   1.0  2020-01-30T03:27:19-08:00         Dear   \n",
       "350195     6514276     967674   0.5  2017-04-18T15:36:01-07:00     Mathew S   \n",
       "\n",
       "                                                   comment  \n",
       "677568                                               worst  \n",
       "2844211                                 Not a good teacher  \n",
       "8102772                              dont waste your money  \n",
       "1907760                                offensive course. ?  \n",
       "350195   SwiftyStoreKit is already a clean lightweight ...  "
      ]
     },
     "execution_count": 9,
     "metadata": {},
     "output_type": "execute_result"
    }
   ],
   "source": [
    "comment_1_sample.head()"
   ]
  },
  {
   "cell_type": "markdown",
   "id": "2e94ea77",
   "metadata": {},
   "source": [
    "**At this step, we will filter out the comments which have less than 20 characters**"
   ]
  },
  {
   "cell_type": "markdown",
   "id": "52d2c4ab",
   "metadata": {},
   "source": [
    "**This function will detect the short comments and save their indexes to a list**"
   ]
  },
  {
   "cell_type": "code",
   "execution_count": 10,
   "id": "eb464e6d",
   "metadata": {},
   "outputs": [],
   "source": [
    "def short_comments_detect(df):\n",
    "    short_coms_idx = []\n",
    "    for i in range(len(df[\"comment\"])):\n",
    "        if len(df[\"comment\"].values[i]) < 20:\n",
    "            short_coms_idx.append(df[\"comment\"].index[i])\n",
    "    return short_coms_idx"
   ]
  },
  {
   "cell_type": "markdown",
   "id": "6c85bb51",
   "metadata": {},
   "source": [
    "* Index list will be used to delete the corresponding values"
   ]
  },
  {
   "cell_type": "markdown",
   "id": "34f9ca54",
   "metadata": {},
   "source": [
    "**A function has written to delete the short comments**"
   ]
  },
  {
   "cell_type": "code",
   "execution_count": 11,
   "id": "953c03be",
   "metadata": {},
   "outputs": [],
   "source": [
    "def delete_short_coms(df, idx):\n",
    "    new_df = df.drop(idx)\n",
    "    return new_df"
   ]
  },
  {
   "cell_type": "markdown",
   "id": "252f1e1c",
   "metadata": {},
   "source": [
    "**This function will prevent the code repetitions by executing the deletion operation for each rating intervals**"
   ]
  },
  {
   "cell_type": "code",
   "execution_count": 12,
   "id": "ae2ef8f0",
   "metadata": {},
   "outputs": [],
   "source": [
    "def auto_process_1(df):\n",
    "    short_coms = short_comments_detect(df)\n",
    "    long_coms = delete_short_coms(df, short_coms)\n",
    "    return long_coms"
   ]
  },
  {
   "cell_type": "markdown",
   "id": "35ca3a95",
   "metadata": {},
   "source": [
    "**Deleting the short comments and save them to the new data frame**"
   ]
  },
  {
   "cell_type": "code",
   "execution_count": 13,
   "id": "27abbae8",
   "metadata": {},
   "outputs": [],
   "source": [
    "sample_1_long = auto_process_1(comment_1_sample)\n",
    "sample_2_long = auto_process_1(comment_2_sample)\n",
    "sample_3_long = auto_process_1(comment_3_sample)\n",
    "sample_4_long = auto_process_1(comment_4_sample)\n",
    "sample_5_long = auto_process_1(comment_5_sample)"
   ]
  },
  {
   "cell_type": "markdown",
   "id": "945008bb",
   "metadata": {},
   "source": [
    "**At this step, we will filter out the comments which has not written in English by using *langdetect* library**"
   ]
  },
  {
   "cell_type": "code",
   "execution_count": 14,
   "id": "89b126f5",
   "metadata": {
    "scrolled": true
   },
   "outputs": [
    {
     "name": "stdout",
     "output_type": "stream",
     "text": [
      "Requirement already satisfied: langdetect in c:\\users\\dell\\anaconda3\\lib\\site-packages (1.0.9)\n",
      "Requirement already satisfied: six in c:\\users\\dell\\anaconda3\\lib\\site-packages (from langdetect) (1.15.0)\n"
     ]
    }
   ],
   "source": [
    "!pip install langdetect"
   ]
  },
  {
   "cell_type": "code",
   "execution_count": 15,
   "id": "131e5206",
   "metadata": {},
   "outputs": [],
   "source": [
    "from langdetect import detect"
   ]
  },
  {
   "cell_type": "markdown",
   "id": "a7eabb40",
   "metadata": {},
   "source": [
    "**This function will detect the comments which have not written in English, and save their indexes to a list**"
   ]
  },
  {
   "cell_type": "code",
   "execution_count": 16,
   "id": "9cf12623",
   "metadata": {},
   "outputs": [],
   "source": [
    "def foreign_comments_detect(df):\n",
    "    foreign_idx = []\n",
    "    for i in range(len(df[\"comment\"])):\n",
    "        comment = df[\"comment\"].values[i]\n",
    "        if detect(comment) != \"en\":\n",
    "            foreign_idx.append(df[\"comment\"].index[i])\n",
    "    return foreign_idx"
   ]
  },
  {
   "cell_type": "markdown",
   "id": "429d9292",
   "metadata": {},
   "source": [
    "* Index list will be used to delete the corresponding values"
   ]
  },
  {
   "cell_type": "markdown",
   "id": "33d15450",
   "metadata": {},
   "source": [
    "**These data frames are containing the comments has not written with English**"
   ]
  },
  {
   "cell_type": "code",
   "execution_count": 17,
   "id": "993c58a4",
   "metadata": {},
   "outputs": [],
   "source": [
    "foreign_1 = foreign_comments_detect(sample_1_long)\n",
    "foreign_2 = foreign_comments_detect(sample_2_long)\n",
    "foreign_3 = foreign_comments_detect(sample_3_long)\n",
    "foreign_4 = foreign_comments_detect(sample_4_long)\n",
    "foreign_5 = foreign_comments_detect(sample_5_long)"
   ]
  },
  {
   "cell_type": "code",
   "execution_count": 18,
   "id": "9511d18e",
   "metadata": {},
   "outputs": [
    {
     "data": {
      "text/html": [
       "<div>\n",
       "<style scoped>\n",
       "    .dataframe tbody tr th:only-of-type {\n",
       "        vertical-align: middle;\n",
       "    }\n",
       "\n",
       "    .dataframe tbody tr th {\n",
       "        vertical-align: top;\n",
       "    }\n",
       "\n",
       "    .dataframe thead th {\n",
       "        text-align: right;\n",
       "    }\n",
       "</style>\n",
       "<table border=\"1\" class=\"dataframe\">\n",
       "  <thead>\n",
       "    <tr style=\"text-align: right;\">\n",
       "      <th></th>\n",
       "      <th>id</th>\n",
       "      <th>course_id</th>\n",
       "      <th>rate</th>\n",
       "      <th>date</th>\n",
       "      <th>display_name</th>\n",
       "      <th>comment</th>\n",
       "    </tr>\n",
       "  </thead>\n",
       "  <tbody>\n",
       "    <tr>\n",
       "      <th>3650519</th>\n",
       "      <td>96722050</td>\n",
       "      <td>1996964</td>\n",
       "      <td>1.0</td>\n",
       "      <td>2021-09-29T16:04:32-07:00</td>\n",
       "      <td>William Alexander</td>\n",
       "      <td>No muestra nada nuevo de VB.NET, utiliza progr...</td>\n",
       "    </tr>\n",
       "    <tr>\n",
       "      <th>1914910</th>\n",
       "      <td>48817558</td>\n",
       "      <td>1152028</td>\n",
       "      <td>1.0</td>\n",
       "      <td>2020-03-29T20:10:21-07:00</td>\n",
       "      <td>Scarlet</td>\n",
       "      <td>Publicidad engañosa  desactualizado dice que e...</td>\n",
       "    </tr>\n",
       "    <tr>\n",
       "      <th>1170625</th>\n",
       "      <td>47353196</td>\n",
       "      <td>2006722</td>\n",
       "      <td>1.0</td>\n",
       "      <td>2020-03-15T12:20:26-07:00</td>\n",
       "      <td>Onur</td>\n",
       "      <td>ne yaptığını nerede ise anlatmıyor yapıp geçiyor</td>\n",
       "    </tr>\n",
       "    <tr>\n",
       "      <th>996714</th>\n",
       "      <td>116931536</td>\n",
       "      <td>3659640</td>\n",
       "      <td>1.0</td>\n",
       "      <td>2022-06-21T14:13:17-07:00</td>\n",
       "      <td>Mauricio lobianco</td>\n",
       "      <td>só apresentou as guias e comandos que qq um qu...</td>\n",
       "    </tr>\n",
       "    <tr>\n",
       "      <th>2346256</th>\n",
       "      <td>61841902</td>\n",
       "      <td>1777698</td>\n",
       "      <td>1.0</td>\n",
       "      <td>2020-07-21T11:09:34-07:00</td>\n",
       "      <td>Jorge Arturo</td>\n",
       "      <td>Falta de actualizacion, ya no coincide con lo ...</td>\n",
       "    </tr>\n",
       "  </tbody>\n",
       "</table>\n",
       "</div>"
      ],
      "text/plain": [
       "                id  course_id  rate                       date  \\\n",
       "3650519   96722050    1996964   1.0  2021-09-29T16:04:32-07:00   \n",
       "1914910   48817558    1152028   1.0  2020-03-29T20:10:21-07:00   \n",
       "1170625   47353196    2006722   1.0  2020-03-15T12:20:26-07:00   \n",
       "996714   116931536    3659640   1.0  2022-06-21T14:13:17-07:00   \n",
       "2346256   61841902    1777698   1.0  2020-07-21T11:09:34-07:00   \n",
       "\n",
       "              display_name                                            comment  \n",
       "3650519  William Alexander  No muestra nada nuevo de VB.NET, utiliza progr...  \n",
       "1914910            Scarlet  Publicidad engañosa  desactualizado dice que e...  \n",
       "1170625               Onur   ne yaptığını nerede ise anlatmıyor yapıp geçiyor  \n",
       "996714   Mauricio lobianco  só apresentou as guias e comandos que qq um qu...  \n",
       "2346256       Jorge Arturo  Falta de actualizacion, ya no coincide con lo ...  "
      ]
     },
     "execution_count": 18,
     "metadata": {},
     "output_type": "execute_result"
    }
   ],
   "source": [
    "sample_1_long.loc[foreign_1].head()"
   ]
  },
  {
   "cell_type": "markdown",
   "id": "1292bc0c",
   "metadata": {},
   "source": [
    "**This function will prevent the code repetitions by executing the deletion operation for each rating intervals**"
   ]
  },
  {
   "cell_type": "code",
   "execution_count": 19,
   "id": "26d157eb",
   "metadata": {},
   "outputs": [],
   "source": [
    "def auto_process_2(df, foreigners):\n",
    "    new_df = df.drop(foreigners)\n",
    "    return new_df"
   ]
  },
  {
   "cell_type": "markdown",
   "id": "121f3a7a",
   "metadata": {},
   "source": [
    "**Deleting the comments has not written in English and save them to the new data frame**"
   ]
  },
  {
   "cell_type": "code",
   "execution_count": 20,
   "id": "0f5c705d",
   "metadata": {},
   "outputs": [],
   "source": [
    "# This process is taking some time\n",
    "sample_1_english = auto_process_2(sample_1_long, foreign_1)\n",
    "sample_2_english = auto_process_2(sample_2_long, foreign_2)\n",
    "sample_3_english = auto_process_2(sample_3_long, foreign_3)\n",
    "sample_4_english = auto_process_2(sample_4_long, foreign_4)\n",
    "sample_5_english = auto_process_2(sample_5_long, foreign_5)"
   ]
  },
  {
   "cell_type": "markdown",
   "id": "3606f57e",
   "metadata": {},
   "source": [
    "**Plotting the pie graph to see the data is balanced or not**"
   ]
  },
  {
   "cell_type": "code",
   "execution_count": 21,
   "id": "111bd4d4",
   "metadata": {},
   "outputs": [
    {
     "data": {
      "text/plain": [
       "<matplotlib.legend.Legend at 0x1c68130fa90>"
      ]
     },
     "execution_count": 21,
     "metadata": {},
     "output_type": "execute_result"
    },
    {
     "data": {
      "image/png": "[encoded data removed]",
      "text/plain": [
       "<Figure size 576x576 with 1 Axes>"
      ]
     },
     "metadata": {},
     "output_type": "display_data"
    }
   ],
   "source": [
    "plt.figure(figsize = (8,8))\n",
    "data = [len(sample_1_english), len(sample_2_english), len(sample_3_english), len(sample_4_english), len(sample_5_english)]\n",
    "labels = [\"#rate <= 1.0\", \"1.0 < #rate <= 2.0\", \"2.0 < #rate <= 3.0\", \"3.0 < #rate <= 4.0\", \"4.0 > #rate\"]\n",
    "plt.pie(data, labels=labels, autopct='%.2f', explode=[0.01,0.01,0.01,0.01,0.01])\n",
    "plt.tight_layout()\n",
    "plt.legend()"
   ]
  },
  {
   "cell_type": "markdown",
   "id": "2e2c881c",
   "metadata": {},
   "source": [
    "* Our data is more balanced now"
   ]
  },
  {
   "cell_type": "markdown",
   "id": "15fe73ca",
   "metadata": {},
   "source": [
    "**We need to concatenate these data with different rating intervals into a new data frame anymore.**"
   ]
  },
  {
   "cell_type": "code",
   "execution_count": 22,
   "id": "fe5a280e",
   "metadata": {},
   "outputs": [
    {
     "data": {
      "text/html": [
       "<div>\n",
       "<style scoped>\n",
       "    .dataframe tbody tr th:only-of-type {\n",
       "        vertical-align: middle;\n",
       "    }\n",
       "\n",
       "    .dataframe tbody tr th {\n",
       "        vertical-align: top;\n",
       "    }\n",
       "\n",
       "    .dataframe thead th {\n",
       "        text-align: right;\n",
       "    }\n",
       "</style>\n",
       "<table border=\"1\" class=\"dataframe\">\n",
       "  <thead>\n",
       "    <tr style=\"text-align: right;\">\n",
       "      <th></th>\n",
       "      <th>comment</th>\n",
       "      <th>rate</th>\n",
       "    </tr>\n",
       "  </thead>\n",
       "  <tbody>\n",
       "    <tr>\n",
       "      <th>8102772</th>\n",
       "      <td>dont waste your money</td>\n",
       "      <td>1.0</td>\n",
       "    </tr>\n",
       "    <tr>\n",
       "      <th>350195</th>\n",
       "      <td>SwiftyStoreKit is already a clean lightweight ...</td>\n",
       "      <td>0.5</td>\n",
       "    </tr>\n",
       "    <tr>\n",
       "      <th>2953887</th>\n",
       "      <td>It's not dynamic.... and it's not for beginners</td>\n",
       "      <td>1.0</td>\n",
       "    </tr>\n",
       "    <tr>\n",
       "      <th>4321094</th>\n",
       "      <td>Starts with showing how to install Python 2 an...</td>\n",
       "      <td>0.5</td>\n",
       "    </tr>\n",
       "    <tr>\n",
       "      <th>5824927</th>\n",
       "      <td>Provide almost no practical advice on nothing....</td>\n",
       "      <td>1.0</td>\n",
       "    </tr>\n",
       "  </tbody>\n",
       "</table>\n",
       "</div>"
      ],
      "text/plain": [
       "                                                   comment  rate\n",
       "8102772                              dont waste your money   1.0\n",
       "350195   SwiftyStoreKit is already a clean lightweight ...   0.5\n",
       "2953887    It's not dynamic.... and it's not for beginners   1.0\n",
       "4321094  Starts with showing how to install Python 2 an...   0.5\n",
       "5824927  Provide almost no practical advice on nothing....   1.0"
      ]
     },
     "execution_count": 22,
     "metadata": {},
     "output_type": "execute_result"
    }
   ],
   "source": [
    "all_comments = pd.concat([sample_1_english[[\"comment\", \"rate\"]], \n",
    "                          sample_2_english[[\"comment\", \"rate\"]],\n",
    "                          sample_3_english[[\"comment\", \"rate\"]],\n",
    "                          sample_4_english[[\"comment\", \"rate\"]],\n",
    "                          sample_5_english[[\"comment\", \"rate\"]]])\n",
    "all_comments.head()"
   ]
  },
  {
   "cell_type": "markdown",
   "id": "04f6d729",
   "metadata": {},
   "source": [
    "* Looks good, but we need to do one more thing which is quite significant, **shuffling**\n",
    "* Without shuffling, it is highly possible to train your model with rating intervals less than 4, and test this model with rating interval higher than 4\n",
    "* In such case, it is not possible to gain the generalization property of the model"
   ]
  },
  {
   "cell_type": "markdown",
   "id": "3fde4999",
   "metadata": {},
   "source": [
    "**Shuffling the data and resetting the indexes**"
   ]
  },
  {
   "cell_type": "code",
   "execution_count": 23,
   "id": "8a63596e",
   "metadata": {},
   "outputs": [],
   "source": [
    "comments_shuffled = all_comments.sample(frac=1, random_state=1).reset_index().drop([\"index\"], axis=1)"
   ]
  },
  {
   "cell_type": "code",
   "execution_count": 24,
   "id": "bb36b940",
   "metadata": {
    "scrolled": true
   },
   "outputs": [
    {
     "data": {
      "text/html": [
       "<div>\n",
       "<style scoped>\n",
       "    .dataframe tbody tr th:only-of-type {\n",
       "        vertical-align: middle;\n",
       "    }\n",
       "\n",
       "    .dataframe tbody tr th {\n",
       "        vertical-align: top;\n",
       "    }\n",
       "\n",
       "    .dataframe thead th {\n",
       "        text-align: right;\n",
       "    }\n",
       "</style>\n",
       "<table border=\"1\" class=\"dataframe\">\n",
       "  <thead>\n",
       "    <tr style=\"text-align: right;\">\n",
       "      <th></th>\n",
       "      <th>comment</th>\n",
       "      <th>rate</th>\n",
       "    </tr>\n",
       "  </thead>\n",
       "  <tbody>\n",
       "    <tr>\n",
       "      <th>0</th>\n",
       "      <td>quite difficult to understand because of his a...</td>\n",
       "      <td>1.5</td>\n",
       "    </tr>\n",
       "    <tr>\n",
       "      <th>1</th>\n",
       "      <td>Outdated and no actual info. \\nNot relevant an...</td>\n",
       "      <td>1.0</td>\n",
       "    </tr>\n",
       "    <tr>\n",
       "      <th>2</th>\n",
       "      <td>This was a great reminder to be mindful of tho...</td>\n",
       "      <td>4.0</td>\n",
       "    </tr>\n",
       "    <tr>\n",
       "      <th>3</th>\n",
       "      <td>This is just a overview of ABAP on HANA, I did...</td>\n",
       "      <td>1.0</td>\n",
       "    </tr>\n",
       "    <tr>\n",
       "      <th>4</th>\n",
       "      <td>he is not a good instructor</td>\n",
       "      <td>2.0</td>\n",
       "    </tr>\n",
       "    <tr>\n",
       "      <th>5</th>\n",
       "      <td>I took this course for free and I also saw it'...</td>\n",
       "      <td>3.5</td>\n",
       "    </tr>\n",
       "    <tr>\n",
       "      <th>6</th>\n",
       "      <td>It's not CC 2018. makes it difficult to follow...</td>\n",
       "      <td>3.0</td>\n",
       "    </tr>\n",
       "    <tr>\n",
       "      <th>7</th>\n",
       "      <td>Volume was only clear on last section</td>\n",
       "      <td>3.0</td>\n",
       "    </tr>\n",
       "    <tr>\n",
       "      <th>8</th>\n",
       "      <td>Sometimes if feels frustrating to hear a lectu...</td>\n",
       "      <td>1.0</td>\n",
       "    </tr>\n",
       "    <tr>\n",
       "      <th>9</th>\n",
       "      <td>Author didnot explain detail in maximum topics...</td>\n",
       "      <td>2.0</td>\n",
       "    </tr>\n",
       "  </tbody>\n",
       "</table>\n",
       "</div>"
      ],
      "text/plain": [
       "                                             comment  rate\n",
       "0  quite difficult to understand because of his a...   1.5\n",
       "1  Outdated and no actual info. \\nNot relevant an...   1.0\n",
       "2  This was a great reminder to be mindful of tho...   4.0\n",
       "3  This is just a overview of ABAP on HANA, I did...   1.0\n",
       "4                        he is not a good instructor   2.0\n",
       "5  I took this course for free and I also saw it'...   3.5\n",
       "6  It's not CC 2018. makes it difficult to follow...   3.0\n",
       "7              Volume was only clear on last section   3.0\n",
       "8  Sometimes if feels frustrating to hear a lectu...   1.0\n",
       "9  Author didnot explain detail in maximum topics...   2.0"
      ]
     },
     "execution_count": 24,
     "metadata": {},
     "output_type": "execute_result"
    }
   ],
   "source": [
    "comments_shuffled.head(10)"
   ]
  },
  {
   "cell_type": "markdown",
   "id": "870ac6ca",
   "metadata": {},
   "source": [
    "**Lowercasing all of the words to decrease the variation**"
   ]
  },
  {
   "cell_type": "code",
   "execution_count": 25,
   "id": "2480ac4d",
   "metadata": {},
   "outputs": [],
   "source": [
    "comments_shuffled[\"comment\"] = comments_shuffled[\"comment\"].apply(lambda txt: txt.lower())"
   ]
  },
  {
   "cell_type": "code",
   "execution_count": 26,
   "id": "c25db241",
   "metadata": {},
   "outputs": [
    {
     "data": {
      "text/html": [
       "<div>\n",
       "<style scoped>\n",
       "    .dataframe tbody tr th:only-of-type {\n",
       "        vertical-align: middle;\n",
       "    }\n",
       "\n",
       "    .dataframe tbody tr th {\n",
       "        vertical-align: top;\n",
       "    }\n",
       "\n",
       "    .dataframe thead th {\n",
       "        text-align: right;\n",
       "    }\n",
       "</style>\n",
       "<table border=\"1\" class=\"dataframe\">\n",
       "  <thead>\n",
       "    <tr style=\"text-align: right;\">\n",
       "      <th></th>\n",
       "      <th>comment</th>\n",
       "      <th>rate</th>\n",
       "    </tr>\n",
       "  </thead>\n",
       "  <tbody>\n",
       "    <tr>\n",
       "      <th>0</th>\n",
       "      <td>quite difficult to understand because of his a...</td>\n",
       "      <td>1.5</td>\n",
       "    </tr>\n",
       "    <tr>\n",
       "      <th>1</th>\n",
       "      <td>outdated and no actual info. \\nnot relevant an...</td>\n",
       "      <td>1.0</td>\n",
       "    </tr>\n",
       "    <tr>\n",
       "      <th>2</th>\n",
       "      <td>this was a great reminder to be mindful of tho...</td>\n",
       "      <td>4.0</td>\n",
       "    </tr>\n",
       "    <tr>\n",
       "      <th>3</th>\n",
       "      <td>this is just a overview of abap on hana, i did...</td>\n",
       "      <td>1.0</td>\n",
       "    </tr>\n",
       "    <tr>\n",
       "      <th>4</th>\n",
       "      <td>he is not a good instructor</td>\n",
       "      <td>2.0</td>\n",
       "    </tr>\n",
       "    <tr>\n",
       "      <th>5</th>\n",
       "      <td>i took this course for free and i also saw it'...</td>\n",
       "      <td>3.5</td>\n",
       "    </tr>\n",
       "    <tr>\n",
       "      <th>6</th>\n",
       "      <td>it's not cc 2018. makes it difficult to follow...</td>\n",
       "      <td>3.0</td>\n",
       "    </tr>\n",
       "    <tr>\n",
       "      <th>7</th>\n",
       "      <td>volume was only clear on last section</td>\n",
       "      <td>3.0</td>\n",
       "    </tr>\n",
       "    <tr>\n",
       "      <th>8</th>\n",
       "      <td>sometimes if feels frustrating to hear a lectu...</td>\n",
       "      <td>1.0</td>\n",
       "    </tr>\n",
       "    <tr>\n",
       "      <th>9</th>\n",
       "      <td>author didnot explain detail in maximum topics...</td>\n",
       "      <td>2.0</td>\n",
       "    </tr>\n",
       "  </tbody>\n",
       "</table>\n",
       "</div>"
      ],
      "text/plain": [
       "                                             comment  rate\n",
       "0  quite difficult to understand because of his a...   1.5\n",
       "1  outdated and no actual info. \\nnot relevant an...   1.0\n",
       "2  this was a great reminder to be mindful of tho...   4.0\n",
       "3  this is just a overview of abap on hana, i did...   1.0\n",
       "4                        he is not a good instructor   2.0\n",
       "5  i took this course for free and i also saw it'...   3.5\n",
       "6  it's not cc 2018. makes it difficult to follow...   3.0\n",
       "7              volume was only clear on last section   3.0\n",
       "8  sometimes if feels frustrating to hear a lectu...   1.0\n",
       "9  author didnot explain detail in maximum topics...   2.0"
      ]
     },
     "execution_count": 26,
     "metadata": {},
     "output_type": "execute_result"
    }
   ],
   "source": [
    "comments_shuffled.head(10)"
   ]
  },
  {
   "cell_type": "markdown",
   "id": "d196e12f",
   "metadata": {},
   "source": [
    "**This function will extract number from the comments**"
   ]
  },
  {
   "cell_type": "code",
   "execution_count": 27,
   "id": "cfde5ed6",
   "metadata": {},
   "outputs": [],
   "source": [
    "import re\n",
    "def leave_only_words(comment):\n",
    "    for idx in range(len(comment)):\n",
    "        comments_shuffled[\"comment\"][idx] = re.sub(r'[^a-zA-Z ]+', '', comments_shuffled[\"comment\"][idx])"
   ]
  },
  {
   "cell_type": "markdown",
   "id": "4db12ce9",
   "metadata": {},
   "source": [
    "**Calling the function**"
   ]
  },
  {
   "cell_type": "code",
   "execution_count": 28,
   "id": "e3b24388",
   "metadata": {},
   "outputs": [
    {
     "name": "stdout",
     "output_type": "stream",
     "text": [
      "Wall time: 9.22 s\n"
     ]
    }
   ],
   "source": [
    "%%time\n",
    "leave_only_words(comments_shuffled[\"comment\"])"
   ]
  },
  {
   "cell_type": "markdown",
   "id": "fb983886",
   "metadata": {},
   "source": [
    "**Why did not we remove stopwords?**"
   ]
  },
  {
   "cell_type": "markdown",
   "id": "7b9b2338",
   "metadata": {},
   "source": [
    "**Before deletion of stopwords**"
   ]
  },
  {
   "attachments": {
    "Ekran%20G%C3%B6r%C3%BCnt%C3%BCs%C3%BC%20%28348%29.png": {
     "image/png": "[encoded data removed]"
    }
   },
   "cell_type": "markdown",
   "id": "dc1a68db",
   "metadata": {},
   "source": [
    "![Ekran%20G%C3%B6r%C3%BCnt%C3%BCs%C3%BC%20%28348%29.png](attachment:Ekran%20G%C3%B6r%C3%BCnt%C3%BCs%C3%BC%20%28348%29.png)"
   ]
  },
  {
   "cell_type": "markdown",
   "id": "8c9ed7e9",
   "metadata": {},
   "source": [
    "**After deletion of stopwords**"
   ]
  },
  {
   "attachments": {
    "Ekran%20G%C3%B6r%C3%BCnt%C3%BCs%C3%BC%20%28346%29.png": {
     "image/png": "[encoded data removed]"
    }
   },
   "cell_type": "markdown",
   "id": "7e687642",
   "metadata": {},
   "source": [
    "![Ekran%20G%C3%B6r%C3%BCnt%C3%BCs%C3%BC%20%28346%29.png](attachment:Ekran%20G%C3%B6r%C3%BCnt%C3%BCs%C3%BC%20%28346%29.png)"
   ]
  },
  {
   "cell_type": "markdown",
   "id": "09b787c4",
   "metadata": {},
   "source": [
    "* You can see the difference. The result is almost reversed"
   ]
  },
  {
   "cell_type": "markdown",
   "id": "e1f0ab3e",
   "metadata": {},
   "source": [
    "**We will install and use vaderSentiment library to analyse the comments**"
   ]
  },
  {
   "cell_type": "code",
   "execution_count": 29,
   "id": "f92ed854",
   "metadata": {},
   "outputs": [
    {
     "name": "stdout",
     "output_type": "stream",
     "text": [
      "Requirement already satisfied: vaderSentiment in c:\\users\\dell\\anaconda3\\lib\\site-packages (3.3.2)\n",
      "Requirement already satisfied: requests in c:\\users\\dell\\anaconda3\\lib\\site-packages (from vaderSentiment) (2.25.1)\n",
      "Requirement already satisfied: idna<3,>=2.5 in c:\\users\\dell\\anaconda3\\lib\\site-packages (from requests->vaderSentiment) (2.10)\n",
      "Requirement already satisfied: urllib3<1.27,>=1.21.1 in c:\\users\\dell\\anaconda3\\lib\\site-packages (from requests->vaderSentiment) (1.26.4)\n",
      "Requirement already satisfied: certifi>=2017.4.17 in c:\\users\\dell\\anaconda3\\lib\\site-packages (from requests->vaderSentiment) (2020.12.5)\n",
      "Requirement already satisfied: chardet<5,>=3.0.2 in c:\\users\\dell\\anaconda3\\lib\\site-packages (from requests->vaderSentiment) (4.0.0)\n"
     ]
    }
   ],
   "source": [
    "! pip install vaderSentiment"
   ]
  },
  {
   "cell_type": "markdown",
   "id": "b80799f4",
   "metadata": {},
   "source": [
    "***SentimentIntensityAnalyzer* will analyse the comments and return a dict which contains scores such as:**\n",
    "  *  ***Negative(neg):* Negativity value of the comment**  \n",
    "  *  ***Neutral(neu):* Neutrality value of the comment**  \n",
    "  *  ***Positive(pos):* Positivity value of the comment**  \n",
    "  *  ***Compound(compound):* Compound value of the comment**  "
   ]
  },
  {
   "cell_type": "code",
   "execution_count": 30,
   "id": "a13bd5d8",
   "metadata": {},
   "outputs": [],
   "source": [
    "from vaderSentiment.vaderSentiment import SentimentIntensityAnalyzer\n",
    "analyzer = SentimentIntensityAnalyzer()"
   ]
  },
  {
   "cell_type": "markdown",
   "id": "df401337",
   "metadata": {},
   "source": [
    "* **This algorithm constructed from a dictionary that contains a comprehensive list of sentiment features.**\n",
    "* **All the lexical features were rated for the polarity and intensity on a scale from “-4: Extremely Negative” to “+4 Extremely Positive” by 10 independent human raters.**\n",
    "* **For example, in Vader, the word “okay” has a positive rating of 0.9, “good” is 1.9 and “great” is 3.1, whereas “horrible” is -2.5**\n",
    "* **Vader’s lexicon dictionary contains around 7,500 sentiment features in total and any word not listed in the dictionary will be scored as “0: Neutral”.**\n",
    "* **The compound score is computed by summing the valence scores of each word in the lexicon, adjusted according to the rules, and then normalized to be between -1 (most extreme negative) and +1 (most extreme positive).**"
   ]
  },
  {
   "cell_type": "markdown",
   "id": "cc9357cf",
   "metadata": {},
   "source": [
    "**Applying the sentiment analyse algorithm and saving the results into the \"scores\" column**"
   ]
  },
  {
   "cell_type": "code",
   "execution_count": 31,
   "id": "1aa7fcab",
   "metadata": {},
   "outputs": [],
   "source": [
    "comments_shuffled[\"scores\"] = comments_shuffled[\"comment\"].apply(lambda txt: analyzer.polarity_scores(txt))"
   ]
  },
  {
   "cell_type": "code",
   "execution_count": 32,
   "id": "219a505f",
   "metadata": {},
   "outputs": [
    {
     "data": {
      "text/html": [
       "<div>\n",
       "<style scoped>\n",
       "    .dataframe tbody tr th:only-of-type {\n",
       "        vertical-align: middle;\n",
       "    }\n",
       "\n",
       "    .dataframe tbody tr th {\n",
       "        vertical-align: top;\n",
       "    }\n",
       "\n",
       "    .dataframe thead th {\n",
       "        text-align: right;\n",
       "    }\n",
       "</style>\n",
       "<table border=\"1\" class=\"dataframe\">\n",
       "  <thead>\n",
       "    <tr style=\"text-align: right;\">\n",
       "      <th></th>\n",
       "      <th>comment</th>\n",
       "      <th>rate</th>\n",
       "      <th>scores</th>\n",
       "    </tr>\n",
       "  </thead>\n",
       "  <tbody>\n",
       "    <tr>\n",
       "      <th>0</th>\n",
       "      <td>quite difficult to understand because of his a...</td>\n",
       "      <td>1.5</td>\n",
       "      <td>{'neg': 0.285, 'neu': 0.715, 'pos': 0.0, 'comp...</td>\n",
       "    </tr>\n",
       "    <tr>\n",
       "      <th>1</th>\n",
       "      <td>outdated and no actual info not relevant anymore</td>\n",
       "      <td>1.0</td>\n",
       "      <td>{'neg': 0.239, 'neu': 0.761, 'pos': 0.0, 'comp...</td>\n",
       "    </tr>\n",
       "    <tr>\n",
       "      <th>2</th>\n",
       "      <td>this was a great reminder to be mindful of tho...</td>\n",
       "      <td>4.0</td>\n",
       "      <td>{'neg': 0.0, 'neu': 0.83, 'pos': 0.17, 'compou...</td>\n",
       "    </tr>\n",
       "    <tr>\n",
       "      <th>3</th>\n",
       "      <td>this is just a overview of abap on hana i didn...</td>\n",
       "      <td>1.0</td>\n",
       "      <td>{'neg': 0.09, 'neu': 0.784, 'pos': 0.126, 'com...</td>\n",
       "    </tr>\n",
       "    <tr>\n",
       "      <th>4</th>\n",
       "      <td>he is not a good instructor</td>\n",
       "      <td>2.0</td>\n",
       "      <td>{'neg': 0.325, 'neu': 0.675, 'pos': 0.0, 'comp...</td>\n",
       "    </tr>\n",
       "    <tr>\n",
       "      <th>5</th>\n",
       "      <td>i took this course for free and i also saw its...</td>\n",
       "      <td>3.5</td>\n",
       "      <td>{'neg': 0.0, 'neu': 0.685, 'pos': 0.315, 'comp...</td>\n",
       "    </tr>\n",
       "    <tr>\n",
       "      <th>6</th>\n",
       "      <td>its not cc  makes it difficult to follow along</td>\n",
       "      <td>3.0</td>\n",
       "      <td>{'neg': 0.238, 'neu': 0.762, 'pos': 0.0, 'comp...</td>\n",
       "    </tr>\n",
       "    <tr>\n",
       "      <th>7</th>\n",
       "      <td>volume was only clear on last section</td>\n",
       "      <td>3.0</td>\n",
       "      <td>{'neg': 0.0, 'neu': 0.698, 'pos': 0.302, 'comp...</td>\n",
       "    </tr>\n",
       "    <tr>\n",
       "      <th>8</th>\n",
       "      <td>sometimes if feels frustrating to hear a lectu...</td>\n",
       "      <td>1.0</td>\n",
       "      <td>{'neg': 0.051, 'neu': 0.805, 'pos': 0.145, 'co...</td>\n",
       "    </tr>\n",
       "    <tr>\n",
       "      <th>9</th>\n",
       "      <td>author didnot explain detail in maximum topics...</td>\n",
       "      <td>2.0</td>\n",
       "      <td>{'neg': 0.0, 'neu': 0.898, 'pos': 0.102, 'comp...</td>\n",
       "    </tr>\n",
       "  </tbody>\n",
       "</table>\n",
       "</div>"
      ],
      "text/plain": [
       "                                             comment  rate  \\\n",
       "0  quite difficult to understand because of his a...   1.5   \n",
       "1   outdated and no actual info not relevant anymore   1.0   \n",
       "2  this was a great reminder to be mindful of tho...   4.0   \n",
       "3  this is just a overview of abap on hana i didn...   1.0   \n",
       "4                        he is not a good instructor   2.0   \n",
       "5  i took this course for free and i also saw its...   3.5   \n",
       "6     its not cc  makes it difficult to follow along   3.0   \n",
       "7              volume was only clear on last section   3.0   \n",
       "8  sometimes if feels frustrating to hear a lectu...   1.0   \n",
       "9  author didnot explain detail in maximum topics...   2.0   \n",
       "\n",
       "                                              scores  \n",
       "0  {'neg': 0.285, 'neu': 0.715, 'pos': 0.0, 'comp...  \n",
       "1  {'neg': 0.239, 'neu': 0.761, 'pos': 0.0, 'comp...  \n",
       "2  {'neg': 0.0, 'neu': 0.83, 'pos': 0.17, 'compou...  \n",
       "3  {'neg': 0.09, 'neu': 0.784, 'pos': 0.126, 'com...  \n",
       "4  {'neg': 0.325, 'neu': 0.675, 'pos': 0.0, 'comp...  \n",
       "5  {'neg': 0.0, 'neu': 0.685, 'pos': 0.315, 'comp...  \n",
       "6  {'neg': 0.238, 'neu': 0.762, 'pos': 0.0, 'comp...  \n",
       "7  {'neg': 0.0, 'neu': 0.698, 'pos': 0.302, 'comp...  \n",
       "8  {'neg': 0.051, 'neu': 0.805, 'pos': 0.145, 'co...  \n",
       "9  {'neg': 0.0, 'neu': 0.898, 'pos': 0.102, 'comp...  "
      ]
     },
     "execution_count": 32,
     "metadata": {},
     "output_type": "execute_result"
    }
   ],
   "source": [
    "comments_shuffled.head(10)"
   ]
  },
  {
   "cell_type": "markdown",
   "id": "1b8b4934",
   "metadata": {},
   "source": [
    "**Saving the sub-scores to the corresponding columns seperately**"
   ]
  },
  {
   "cell_type": "code",
   "execution_count": 33,
   "id": "b14ad01a",
   "metadata": {},
   "outputs": [],
   "source": [
    "comments_shuffled[\"negative\"] = comments_shuffled[\"scores\"].apply(lambda txt: txt[\"neg\"])\n",
    "comments_shuffled[\"neutral\"] = comments_shuffled[\"scores\"].apply(lambda txt: txt[\"neu\"])\n",
    "comments_shuffled[\"positive\"] = comments_shuffled[\"scores\"].apply(lambda txt: txt[\"pos\"])\n",
    "comments_shuffled[\"compound\"] = comments_shuffled[\"scores\"].apply(lambda txt: txt[\"compound\"])"
   ]
  },
  {
   "cell_type": "markdown",
   "id": "2e5bd398",
   "metadata": {},
   "source": [
    "**Dropping the \"comment\" and \"scores\" columns and exchange the remaining columns' order**"
   ]
  },
  {
   "cell_type": "code",
   "execution_count": 34,
   "id": "69f972d5",
   "metadata": {},
   "outputs": [],
   "source": [
    "comment_scores = comments_shuffled.drop([\"comment\", \"scores\"], axis=1)[[\"negative\", \"neutral\", \"positive\", \"compound\", \"rate\"]]"
   ]
  },
  {
   "cell_type": "code",
   "execution_count": 35,
   "id": "6e21e191",
   "metadata": {},
   "outputs": [
    {
     "data": {
      "text/html": [
       "<div>\n",
       "<style scoped>\n",
       "    .dataframe tbody tr th:only-of-type {\n",
       "        vertical-align: middle;\n",
       "    }\n",
       "\n",
       "    .dataframe tbody tr th {\n",
       "        vertical-align: top;\n",
       "    }\n",
       "\n",
       "    .dataframe thead th {\n",
       "        text-align: right;\n",
       "    }\n",
       "</style>\n",
       "<table border=\"1\" class=\"dataframe\">\n",
       "  <thead>\n",
       "    <tr style=\"text-align: right;\">\n",
       "      <th></th>\n",
       "      <th>negative</th>\n",
       "      <th>neutral</th>\n",
       "      <th>positive</th>\n",
       "      <th>compound</th>\n",
       "      <th>rate</th>\n",
       "    </tr>\n",
       "  </thead>\n",
       "  <tbody>\n",
       "    <tr>\n",
       "      <th>0</th>\n",
       "      <td>0.285</td>\n",
       "      <td>0.715</td>\n",
       "      <td>0.000</td>\n",
       "      <td>-0.4201</td>\n",
       "      <td>1.5</td>\n",
       "    </tr>\n",
       "    <tr>\n",
       "      <th>1</th>\n",
       "      <td>0.239</td>\n",
       "      <td>0.761</td>\n",
       "      <td>0.000</td>\n",
       "      <td>-0.2960</td>\n",
       "      <td>1.0</td>\n",
       "    </tr>\n",
       "    <tr>\n",
       "      <th>2</th>\n",
       "      <td>0.000</td>\n",
       "      <td>0.830</td>\n",
       "      <td>0.170</td>\n",
       "      <td>0.6249</td>\n",
       "      <td>4.0</td>\n",
       "    </tr>\n",
       "    <tr>\n",
       "      <th>3</th>\n",
       "      <td>0.090</td>\n",
       "      <td>0.784</td>\n",
       "      <td>0.126</td>\n",
       "      <td>0.2427</td>\n",
       "      <td>1.0</td>\n",
       "    </tr>\n",
       "    <tr>\n",
       "      <th>4</th>\n",
       "      <td>0.325</td>\n",
       "      <td>0.675</td>\n",
       "      <td>0.000</td>\n",
       "      <td>-0.3412</td>\n",
       "      <td>2.0</td>\n",
       "    </tr>\n",
       "    <tr>\n",
       "      <th>5</th>\n",
       "      <td>0.000</td>\n",
       "      <td>0.685</td>\n",
       "      <td>0.315</td>\n",
       "      <td>0.9661</td>\n",
       "      <td>3.5</td>\n",
       "    </tr>\n",
       "    <tr>\n",
       "      <th>6</th>\n",
       "      <td>0.238</td>\n",
       "      <td>0.762</td>\n",
       "      <td>0.000</td>\n",
       "      <td>-0.3612</td>\n",
       "      <td>3.0</td>\n",
       "    </tr>\n",
       "    <tr>\n",
       "      <th>7</th>\n",
       "      <td>0.000</td>\n",
       "      <td>0.698</td>\n",
       "      <td>0.302</td>\n",
       "      <td>0.3818</td>\n",
       "      <td>3.0</td>\n",
       "    </tr>\n",
       "    <tr>\n",
       "      <th>8</th>\n",
       "      <td>0.051</td>\n",
       "      <td>0.805</td>\n",
       "      <td>0.145</td>\n",
       "      <td>0.6557</td>\n",
       "      <td>1.0</td>\n",
       "    </tr>\n",
       "    <tr>\n",
       "      <th>9</th>\n",
       "      <td>0.000</td>\n",
       "      <td>0.898</td>\n",
       "      <td>0.102</td>\n",
       "      <td>0.3612</td>\n",
       "      <td>2.0</td>\n",
       "    </tr>\n",
       "  </tbody>\n",
       "</table>\n",
       "</div>"
      ],
      "text/plain": [
       "   negative  neutral  positive  compound  rate\n",
       "0     0.285    0.715     0.000   -0.4201   1.5\n",
       "1     0.239    0.761     0.000   -0.2960   1.0\n",
       "2     0.000    0.830     0.170    0.6249   4.0\n",
       "3     0.090    0.784     0.126    0.2427   1.0\n",
       "4     0.325    0.675     0.000   -0.3412   2.0\n",
       "5     0.000    0.685     0.315    0.9661   3.5\n",
       "6     0.238    0.762     0.000   -0.3612   3.0\n",
       "7     0.000    0.698     0.302    0.3818   3.0\n",
       "8     0.051    0.805     0.145    0.6557   1.0\n",
       "9     0.000    0.898     0.102    0.3612   2.0"
      ]
     },
     "execution_count": 35,
     "metadata": {},
     "output_type": "execute_result"
    }
   ],
   "source": [
    "comment_scores.head(10)"
   ]
  },
  {
   "cell_type": "markdown",
   "id": "3cc853f1",
   "metadata": {},
   "source": [
    "* Preprocessing step is done\n",
    "* Our data is ready to be modeled"
   ]
  },
  {
   "cell_type": "markdown",
   "id": "83b2941f",
   "metadata": {},
   "source": [
    "### 2) Regression Modeling"
   ]
  },
  {
   "cell_type": "markdown",
   "id": "1a758792",
   "metadata": {},
   "source": [
    "**Importing libraries**"
   ]
  },
  {
   "cell_type": "code",
   "execution_count": 36,
   "id": "f5f92ac5",
   "metadata": {},
   "outputs": [],
   "source": [
    "import numpy as np\n",
    "from sklearn.model_selection import train_test_split\n",
    "from sklearn.preprocessing import MinMaxScaler, StandardScaler\n",
    "from sklearn.linear_model import LinearRegression\n",
    "from sklearn.tree import DecisionTreeRegressor \n",
    "from sklearn.ensemble import RandomForestRegressor\n",
    "from sklearn.svm import SVR\n",
    "from sklearn.metrics import mean_squared_error"
   ]
  },
  {
   "cell_type": "markdown",
   "id": "102dca8f",
   "metadata": {},
   "source": [
    "* **This function takes 3 arguments as data, regressor, and scale**\n",
    "* **It will split the data to train and test**\n",
    "* **If there is a scaler defined in the argument, then it will scale the data with the corresponding scaler type (min-max or standard scaler)**\n",
    "* **After that, it trains the model which is also sent as an argument and makes the prediction over test data**\n",
    "* **Lastly, it will calculate the RMSE score and return the model with all train and test data**"
   ]
  },
  {
   "cell_type": "code",
   "execution_count": 37,
   "id": "6ec2c23e",
   "metadata": {},
   "outputs": [],
   "source": [
    "def sample_model(df, regressor, scale=None):\n",
    "    X = df.drop(\"rate\",axis=1)\n",
    "    y = df[\"rate\"]\n",
    "    \n",
    "    X_train, X_test, y_train, y_test = train_test_split(X, y, test_size = 0.2, random_state=1)\n",
    "    scaled_X_train, scaled_X_test = X_train, X_test\n",
    "    if scale != None:\n",
    "        scaler = scale\n",
    "        scaled_X_train = pd.DataFrame(scaler.fit_transform(X_train), columns = X_train.columns)\n",
    "        scaled_X_test = pd.DataFrame(scaler.transform(X_test),columns = X_test.columns)\n",
    "    \n",
    "    model = regressor\n",
    "    model.fit(scaled_X_train, y_train)\n",
    "    y_pred = model.predict(scaled_X_test)\n",
    "    \n",
    "    rmse = np.sqrt(mean_squared_error(y_test, y_pred))\n",
    "    print(f\"Root Mean Squared Error(RMSE) for {regressor} is {rmse:.3f}\")\n",
    "    \n",
    "    return model, scaled_X_train, scaled_X_test, y_train, y_test "
   ]
  },
  {
   "cell_type": "markdown",
   "id": "68c94d4d",
   "metadata": {},
   "source": [
    "**There will be 4 different regression models we will deploy**"
   ]
  },
  {
   "cell_type": "markdown",
   "id": "3f5102f4",
   "metadata": {},
   "source": [
    "**Deploying the models without scaling**"
   ]
  },
  {
   "cell_type": "code",
   "execution_count": 38,
   "id": "bd613f19",
   "metadata": {},
   "outputs": [
    {
     "name": "stdout",
     "output_type": "stream",
     "text": [
      "Root Mean Squared Error(RMSE) for LinearRegression() is 1.108\n",
      "Root Mean Squared Error(RMSE) for DecisionTreeRegressor(random_state=1) is 1.377\n",
      "Root Mean Squared Error(RMSE) for RandomForestRegressor(random_state=1) is 1.147\n",
      "Root Mean Squared Error(RMSE) for SVR() is 1.088\n"
     ]
    }
   ],
   "source": [
    "lr = sample_model(comment_scores, LinearRegression())\n",
    "dec_tree = sample_model(comment_scores, DecisionTreeRegressor(random_state=1))\n",
    "rf = sample_model(comment_scores, RandomForestRegressor(random_state=1))\n",
    "svr = sample_model(comment_scores, SVR())"
   ]
  },
  {
   "cell_type": "markdown",
   "id": "3fa376d7",
   "metadata": {},
   "source": [
    "* SVR performed better than the others"
   ]
  },
  {
   "cell_type": "markdown",
   "id": "ca850d53",
   "metadata": {},
   "source": [
    "**Deploying the models with Normalization(MinMaxScaler)**"
   ]
  },
  {
   "cell_type": "code",
   "execution_count": 39,
   "id": "875e136a",
   "metadata": {},
   "outputs": [
    {
     "name": "stdout",
     "output_type": "stream",
     "text": [
      "Root Mean Squared Error(RMSE) for LinearRegression() is 1.108\n",
      "Root Mean Squared Error(RMSE) for DecisionTreeRegressor(random_state=1) is 1.376\n",
      "Root Mean Squared Error(RMSE) for RandomForestRegressor(random_state=1) is 1.147\n",
      "Root Mean Squared Error(RMSE) for SVR() is 1.089\n"
     ]
    }
   ],
   "source": [
    "lr = sample_model(comment_scores, LinearRegression(), MinMaxScaler())\n",
    "dec_tree = sample_model(comment_scores, DecisionTreeRegressor(random_state=1), MinMaxScaler())\n",
    "rf = sample_model(comment_scores, RandomForestRegressor(random_state=1), MinMaxScaler())\n",
    "svr = sample_model(comment_scores, SVR(), MinMaxScaler())"
   ]
  },
  {
   "cell_type": "markdown",
   "id": "2ebd00bd",
   "metadata": {},
   "source": [
    "* SVR again performed better but a little weak than the previous case"
   ]
  },
  {
   "cell_type": "markdown",
   "id": "3d5a3448",
   "metadata": {},
   "source": [
    "**Deploying the models with Standardization(StandardScaler)**"
   ]
  },
  {
   "cell_type": "code",
   "execution_count": 40,
   "id": "8d7502ac",
   "metadata": {},
   "outputs": [
    {
     "name": "stdout",
     "output_type": "stream",
     "text": [
      "Root Mean Squared Error(RMSE) for LinearRegression() is 1.108\n",
      "Root Mean Squared Error(RMSE) for DecisionTreeRegressor(random_state=1) is 1.378\n",
      "Root Mean Squared Error(RMSE) for RandomForestRegressor(random_state=1) is 1.148\n",
      "Root Mean Squared Error(RMSE) for SVR() is 1.090\n"
     ]
    }
   ],
   "source": [
    "lr = sample_model(comment_scores, LinearRegression(), StandardScaler())\n",
    "dec_tree = sample_model(comment_scores, DecisionTreeRegressor(random_state=1), StandardScaler())\n",
    "rf = sample_model(comment_scores, RandomForestRegressor(random_state=1), StandardScaler())\n",
    "svr = sample_model(comment_scores, SVR(), StandardScaler())"
   ]
  },
  {
   "cell_type": "markdown",
   "id": "f482d958",
   "metadata": {},
   "source": [
    "* Performance of SVR decreased but other ones' decreased as well"
   ]
  },
  {
   "cell_type": "markdown",
   "id": "83be0b12",
   "metadata": {},
   "source": [
    "* The best algorithm is SVR without using any scaling"
   ]
  },
  {
   "cell_type": "markdown",
   "id": "9f75001d",
   "metadata": {},
   "source": [
    "**Fitting the model by calling the function**"
   ]
  },
  {
   "cell_type": "code",
   "execution_count": 41,
   "id": "fbfb8113",
   "metadata": {},
   "outputs": [
    {
     "name": "stdout",
     "output_type": "stream",
     "text": [
      "Root Mean Squared Error(RMSE) for SVR() is 1.088\n"
     ]
    }
   ],
   "source": [
    "best_model, X_train, X_test, y_train, y_test = sample_model(comment_scores, SVR())"
   ]
  },
  {
   "cell_type": "markdown",
   "id": "f799c28f",
   "metadata": {},
   "source": [
    "**Hyperparameter Tuning**"
   ]
  },
  {
   "cell_type": "code",
   "execution_count": 42,
   "id": "e57c7772",
   "metadata": {},
   "outputs": [],
   "source": [
    "from sklearn.model_selection import RepeatedKFold, GridSearchCV"
   ]
  },
  {
   "cell_type": "markdown",
   "id": "a49c6cd2",
   "metadata": {},
   "source": [
    "**Defining some possible values for several parameters and saving them to the parameters dict**"
   ]
  },
  {
   "cell_type": "code",
   "execution_count": 43,
   "id": "3114eb6f",
   "metadata": {},
   "outputs": [],
   "source": [
    "kernel = [\"linear\", \"rbf\", \"sigmoid\", \"poly\"]\n",
    "tolerance = [1e-3, 1e-4, 1e-5, 1e-6]\n",
    "C = [1, 1.5, 2, 2.5, 3]\n",
    "params = dict(kernel=kernel, tol=tolerance, C=C)"
   ]
  },
  {
   "cell_type": "markdown",
   "id": "fb7a9660",
   "metadata": {},
   "source": [
    "**5-fold cross validation with 3 repeats is processed**"
   ]
  },
  {
   "cell_type": "code",
   "execution_count": 47,
   "id": "9b16f328",
   "metadata": {},
   "outputs": [
    {
     "name": "stdout",
     "output_type": "stream",
     "text": [
      "Wall time: 1h 22min 59s\n"
     ]
    }
   ],
   "source": [
    "\"\"\"\n",
    "%%time\n",
    "cvFold = RepeatedKFold(n_splits=5, n_repeats=3, random_state=1)\n",
    "gridSearch = GridSearchCV(estimator=best_model, param_grid=params, n_jobs=-1, cv=cvFold)\n",
    "searchResults = gridSearch.fit(X_train, y_train)\n",
    "\"\"\"\n",
    "# Execution time of this code: 1h 22min 59s\n",
    "# Therefore, we executed this cell and commented all of it after we obtained the best parameters"
   ]
  },
  {
   "cell_type": "markdown",
   "id": "e2a9ef3c",
   "metadata": {},
   "source": [
    "**Printing the cross-validation results**"
   ]
  },
  {
   "cell_type": "code",
   "execution_count": 48,
   "id": "70cbd469",
   "metadata": {},
   "outputs": [
    {
     "name": "stdout",
     "output_type": "stream",
     "text": [
      " Results from Grid Search \n",
      "The best estimator across ALL searched params:  SVR(C=3)\n",
      "The best score across ALL searched params:  0.39303741179275736\n",
      "The best parameters across ALL searched params:  {'C': 3, 'kernel': 'rbf', 'tol': 0.001}\n"
     ]
    }
   ],
   "source": [
    "print(\" Results from Grid Search \" )\n",
    "print(\"The best estimator across ALL searched params: \",searchResults.best_estimator_)\n",
    "print(\"The best score across ALL searched params: \",searchResults.best_score_)\n",
    "print(\"The best parameters across ALL searched params: \",searchResults.best_params_)"
   ]
  },
  {
   "cell_type": "markdown",
   "id": "b41a0207",
   "metadata": {},
   "source": [
    "**Saving the best hyperparameters**"
   ]
  },
  {
   "cell_type": "code",
   "execution_count": 52,
   "id": "c6aaf55a",
   "metadata": {},
   "outputs": [
    {
     "data": {
      "text/plain": [
       "{'C': 3, 'kernel': 'rbf', 'tol': 0.001}"
      ]
     },
     "execution_count": 52,
     "metadata": {},
     "output_type": "execute_result"
    }
   ],
   "source": [
    "best_params = searchResults.best_params_\n",
    "best_params"
   ]
  },
  {
   "cell_type": "markdown",
   "id": "70e06d29",
   "metadata": {},
   "source": [
    "Best Parameters for SVR()\n",
    "* C : 3\n",
    "* kernel : \"rbf\"\n",
    "* tol : \"0.001\""
   ]
  },
  {
   "cell_type": "markdown",
   "id": "06915128",
   "metadata": {},
   "source": [
    "**Fitting the tuned model and calculating the RMSE**"
   ]
  },
  {
   "cell_type": "code",
   "execution_count": 38,
   "id": "53e0b4a6",
   "metadata": {},
   "outputs": [
    {
     "name": "stdout",
     "output_type": "stream",
     "text": [
      "Root Mean Squared Error(RMSE) for SVR(C=3) is 1.083\n"
     ]
    }
   ],
   "source": [
    "tuned_svr, _, _, _, _ = sample_model(comment_scores, SVR(C=3, kernel=\"rbf\", tol=0.001))"
   ]
  },
  {
   "cell_type": "markdown",
   "id": "ba918c16",
   "metadata": {},
   "source": [
    "* RMSE is decreased by 0.001\n",
    "* Did not worth it actually"
   ]
  },
  {
   "cell_type": "markdown",
   "id": "8b9ea8f0",
   "metadata": {},
   "source": [
    "### 3) Testing With User Interaction"
   ]
  },
  {
   "cell_type": "markdown",
   "id": "a81b31ba",
   "metadata": {},
   "source": [
    "**This function will take comment as an argument and calculate the rating by using the model which we tuned previously**"
   ]
  },
  {
   "cell_type": "code",
   "execution_count": 39,
   "id": "1338841c",
   "metadata": {},
   "outputs": [],
   "source": [
    "def user_interaction(comment, model):\n",
    "    \n",
    "    negative_score = analyzer.polarity_scores(comment)[\"neg\"]\n",
    "    neutral_score = analyzer.polarity_scores(comment)[\"neu\"]\n",
    "    positive_score = analyzer.polarity_scores(comment)[\"pos\"]\n",
    "    compound_score = analyzer.polarity_scores(comment)[\"compound\"]\n",
    "    rate_pred = model.predict([[negative_score, neutral_score, positive_score, compound_score]])\n",
    "    \n",
    "    print(f\"\\nYour Comment: {comment}\\n\")\n",
    "    print(\"*\"*10 + \"Analysis of the Comment\" + \"*\"*10)\n",
    "    print(\"-\"*10 + f\"Negativity Score: {negative_score:.2f}\" + \"-\"*10)\n",
    "    print(\"-\"*10 + f\"Neutrality Score: {neutral_score:.2f}\" + \"-\"*10)\n",
    "    print(\"-\"*10 + f\"Positivity Score: {positive_score:.2f}\" + \"-\"*10)\n",
    "    print(\"-\"*10 + f\"Compound Score: {compound_score:.2f}\" + \"-\"*10)\n",
    "    print(\"*\"*43)\n",
    "    print(\"\\nThe estimated rating this comment can give\")\n",
    "    print(\"*\"*20 + str(round(rate_pred[0], 2)) + \"*\"*20)"
   ]
  },
  {
   "cell_type": "markdown",
   "id": "b34c944c",
   "metadata": {},
   "source": [
    "**This function will take an input from the user. Comments must be written in English and longer than 20 characters**"
   ]
  },
  {
   "cell_type": "code",
   "execution_count": 40,
   "id": "8ec09f11",
   "metadata": {},
   "outputs": [],
   "source": [
    "def take_input(model):\n",
    "    comment = input(\"Thanks for your interest and taking your time.\\n\"+\n",
    "                    \"Tell us about your personal experience enrolling in this course. Was it the right match for you?\\n\"+\n",
    "                    \"(Note: Comment should be written in English and be longer than 20 characters)\\n\")\n",
    "    if (detect(comment) != \"en\") or (len(comment) < 20):\n",
    "        print(\"Sorry, your comment does not meet the requirements.\\n\")\n",
    "        take_input(model)\n",
    "    else:\n",
    "        user_interaction(comment, model)"
   ]
  },
  {
   "cell_type": "markdown",
   "id": "7f059199",
   "metadata": {},
   "source": [
    "**Example execution**"
   ]
  },
  {
   "cell_type": "code",
   "execution_count": 120,
   "id": "f7f7ce7b",
   "metadata": {
    "scrolled": false
   },
   "outputs": [
    {
     "name": "stdout",
     "output_type": "stream",
     "text": [
      "Thanks for your interest and taking your time.\n",
      "Tell us about your personal experience enrolling in this course. Was it the right match for you?\n",
      "(Note: Comment should be written in English and be longer than 20 characters)\n",
      "very good\n",
      "Sorry, your comment does not meet the requirements.\n",
      "\n",
      "Thanks for your interest and taking your time.\n",
      "Tell us about your personal experience enrolling in this course. Was it the right match for you?\n",
      "(Note: Comment should be written in English and be longer than 20 characters)\n",
      "anlatımı gayet güzel\n",
      "Sorry, your comment does not meet the requirements.\n",
      "\n",
      "Thanks for your interest and taking your time.\n",
      "Tell us about your personal experience enrolling in this course. Was it the right match for you?\n",
      "(Note: Comment should be written in English and be longer than 20 characters)\n",
      "because so far it’s good to understand.\t\n",
      "\n",
      "Your Comment: because so far it’s good to understand.\t\n",
      "\n",
      "**********Analysis of the Comment**********\n",
      "----------Negativity Score: 0.00----------\n",
      "----------Neutrality Score: 0.66----------\n",
      "----------Positivity Score: 0.34----------\n",
      "----------Compound Score: 0.49----------\n",
      "*******************************************\n",
      "\n",
      "The estimated rating this comment can give\n",
      "********************4.09********************\n"
     ]
    },
    {
     "name": "stderr",
     "output_type": "stream",
     "text": [
      "C:\\Users\\DELL\\anaconda3\\lib\\site-packages\\sklearn\\base.py:450: UserWarning: X does not have valid feature names, but SVR was fitted with feature names\n",
      "  warnings.warn(\n"
     ]
    }
   ],
   "source": [
    "# take_input(tuned_svr)"
   ]
  },
  {
   "cell_type": "markdown",
   "id": "62199645",
   "metadata": {},
   "source": [
    "* After some testing, we realized that some comments predicted not much low or high even we enter such comments implies perfect course or awful course"
   ]
  },
  {
   "cell_type": "markdown",
   "id": "766a2b4d",
   "metadata": {},
   "source": [
    "* In order to examine how much the model predicts correctly for each rating interval, we will make predictions for each of them"
   ]
  },
  {
   "cell_type": "markdown",
   "id": "1f138796",
   "metadata": {},
   "source": [
    "### 4) Model Improvements"
   ]
  },
  {
   "cell_type": "markdown",
   "id": "be324de5",
   "metadata": {},
   "source": [
    "**This function will execute this process and calculate the average score that predicted for all of the comments in the rating interval**"
   ]
  },
  {
   "cell_type": "code",
   "execution_count": 41,
   "id": "333337e4",
   "metadata": {},
   "outputs": [],
   "source": [
    "def rate_interval_avg(df):\n",
    "    predicts = []\n",
    "    for comment in list(df[\"comment\"].values):\n",
    "        negative_score = analyzer.polarity_scores(comment)[\"neg\"]\n",
    "        neutral_score = analyzer.polarity_scores(comment)[\"neu\"]\n",
    "        positive_score = analyzer.polarity_scores(comment)[\"pos\"]\n",
    "        compound_score = analyzer.polarity_scores(comment)[\"compound\"]\n",
    "        rate_pred = tuned_svr.predict([[negative_score, neutral_score, positive_score, compound_score]])\n",
    "        predicts.append(rate_pred)\n",
    "    return sum(predicts)/ len(predicts)"
   ]
  },
  {
   "cell_type": "markdown",
   "id": "8c028cc3",
   "metadata": {},
   "source": [
    "**Function calling for each interval. It took some time. So that we commented all of it**"
   ]
  },
  {
   "cell_type": "code",
   "execution_count": 144,
   "id": "7e8ac286",
   "metadata": {},
   "outputs": [],
   "source": [
    "\"\"\"\n",
    "avg_pred_rate_1 = rate_interval_avg(sample_1_english)\n",
    "avg_pred_rate_2 = rate_interval_avg(sample_2_english)\n",
    "avg_pred_rate_3 = rate_interval_avg(sample_3_english)\n",
    "avg_pred_rate_4 = rate_interval_avg(sample_4_english)\n",
    "avg_pred_rate_5 = rate_interval_avg(sample_5_english)\n",
    "\"\"\""
   ]
  },
  {
   "cell_type": "markdown",
   "id": "6652db7b",
   "metadata": {},
   "source": [
    "**These are the actual average ratings for each rating interval**"
   ]
  },
  {
   "cell_type": "code",
   "execution_count": 48,
   "id": "c6956be6",
   "metadata": {},
   "outputs": [],
   "source": [
    "act_avg_rate_1 = sample_1_english[\"rate\"].mean()\n",
    "act_avg_rate_2 = sample_2_english[\"rate\"].mean()\n",
    "act_avg_rate_3 = sample_3_english[\"rate\"].mean()\n",
    "act_avg_rate_4 = sample_4_english[\"rate\"].mean()\n",
    "act_avg_rate_5 = sample_5_english[\"rate\"].mean()"
   ]
  },
  {
   "cell_type": "markdown",
   "id": "c835950e",
   "metadata": {},
   "source": [
    "**This cell will print the average of predicted ratings and average of actual ratings for each rating intervals**"
   ]
  },
  {
   "cell_type": "code",
   "execution_count": 147,
   "id": "bddba91a",
   "metadata": {},
   "outputs": [
    {
     "name": "stdout",
     "output_type": "stream",
     "text": [
      "--------------------------------------------------------------------------------\n",
      "The predicted average rate of comments which are rated in intervals 0-1 is: [2.04373221]\n",
      "The actual average rate of comments which are rated in intervals 0-1 is: 0.9553117048346056\n",
      "--------------------------------------------------------------------------------\n",
      "The predicted average rate of comments which are rated in intervals 1-2 is: [2.22359559]\n",
      "The actual average rate of comments which are rated in intervals 1-2 is: 1.8682934222491665\n",
      "--------------------------------------------------------------------------------\n",
      "The predicted average rate of comments which are rated in intervals 2-3 is: [2.61776164]\n",
      "The actual average rate of comments which are rated in intervals 2-3 is: 2.866173503698722\n",
      "--------------------------------------------------------------------------------\n",
      "The predicted average rate of comments which are rated in intervals 3-4 is: [3.42965883]\n",
      "The actual average rate of comments which are rated in intervals 3-4 is: 3.8726536621273464\n",
      "--------------------------------------------------------------------------------\n",
      "The predicted average rate of comments which are rated in intervals 4-5 is: [3.93042479]\n",
      "The actual average rate of comments which are rated in intervals 4-5 is: 4.918869309838473\n",
      "--------------------------------------------------------------------------------\n"
     ]
    }
   ],
   "source": [
    "print(\"-\"*80)\n",
    "print(f\"The predicted average rate of comments which are rated in intervals 0-1 is: {avg_pred_rate_1}\")\n",
    "print(f\"The actual average rate of comments which are rated in intervals 0-1 is: {act_avg_rate_1}\")\n",
    "print(\"-\"*80)\n",
    "print(f\"The predicted average rate of comments which are rated in intervals 1-2 is: {avg_pred_rate_2}\")\n",
    "print(f\"The actual average rate of comments which are rated in intervals 1-2 is: {act_avg_rate_2}\")\n",
    "print(\"-\"*80)\n",
    "print(f\"The predicted average rate of comments which are rated in intervals 2-3 is: {avg_pred_rate_3}\")\n",
    "print(f\"The actual average rate of comments which are rated in intervals 2-3 is: {act_avg_rate_3}\")\n",
    "print(\"-\"*80)\n",
    "print(f\"The predicted average rate of comments which are rated in intervals 3-4 is: {avg_pred_rate_4}\")\n",
    "print(f\"The actual average rate of comments which are rated in intervals 3-4 is: {act_avg_rate_4}\")\n",
    "print(\"-\"*80)\n",
    "print(f\"The predicted average rate of comments which are rated in intervals 4-5 is: {avg_pred_rate_5}\")\n",
    "print(f\"The actual average rate of comments which are rated in intervals 4-5 is: {act_avg_rate_5}\")\n",
    "print(\"-\"*80)"
   ]
  },
  {
   "cell_type": "markdown",
   "id": "845888a9",
   "metadata": {},
   "source": [
    "* In 0-1 interval, the predictions are higher than the actual\n",
    "* In 4-5 interval, the predictions are lower than the actual\n",
    "* For other intervals, there are not so much differences"
   ]
  },
  {
   "cell_type": "markdown",
   "id": "9f99756a",
   "metadata": {},
   "source": [
    "* Why our model is unsuccessful while predicting the 0-1 and 4-5 cases?\n",
    "  * We think users can be generous or ungenerous. In their comments, their behaviors imply that they are neutral but nonetheless, they can give a high or low rating. This situation affects the results significantly."
   ]
  },
  {
   "cell_type": "markdown",
   "id": "3f328e1a",
   "metadata": {},
   "source": [
    "**So let's detect these inconsistencies**"
   ]
  },
  {
   "cell_type": "markdown",
   "id": "91cabfc7",
   "metadata": {},
   "source": [
    "* Comments rated less than 1 with higher positive scores than negative scores must be considered as inconsistency\n",
    "* Comments rated higher than 4 with higher negative scores than positive scores must be considered as inconsistency as well"
   ]
  },
  {
   "cell_type": "code",
   "execution_count": 42,
   "id": "44039570",
   "metadata": {},
   "outputs": [
    {
     "data": {
      "text/plain": [
       "866"
      ]
     },
     "execution_count": 42,
     "metadata": {},
     "output_type": "execute_result"
    }
   ],
   "source": [
    "inconsistent_1 = comment_scores[(comment_scores[\"rate\"] <= 1) & (comment_scores[\"positive\"] > comment_scores[\"negative\"])]\n",
    "len(inconsistent_1)"
   ]
  },
  {
   "cell_type": "markdown",
   "id": "1170d291",
   "metadata": {},
   "source": [
    "* Number of comments rated less than 1 with higher positive scores than negative is 865"
   ]
  },
  {
   "cell_type": "code",
   "execution_count": 43,
   "id": "9c8c0e02",
   "metadata": {},
   "outputs": [],
   "source": [
    "inconsistent_2 = comment_scores[(comment_scores[\"rate\"] > 4) & (comment_scores[\"positive\"] < comment_scores[\"negative\"])]"
   ]
  },
  {
   "cell_type": "code",
   "execution_count": 44,
   "id": "31b9a6d8",
   "metadata": {},
   "outputs": [
    {
     "data": {
      "text/plain": [
       "49"
      ]
     },
     "execution_count": 44,
     "metadata": {},
     "output_type": "execute_result"
    }
   ],
   "source": [
    "len(inconsistent_2)"
   ]
  },
  {
   "cell_type": "markdown",
   "id": "3cc7438d",
   "metadata": {},
   "source": [
    "* Number of comments rated higher than 4 with higher negative scores than positive is 49"
   ]
  },
  {
   "cell_type": "markdown",
   "id": "4d294e35",
   "metadata": {},
   "source": [
    "* This shows that users generally behaves ungenerous. Because the first case has more samples than the second. "
   ]
  },
  {
   "cell_type": "markdown",
   "id": "9fe1d021",
   "metadata": {},
   "source": [
    "**Let's delete these inconsistency cases and train the model again**"
   ]
  },
  {
   "cell_type": "code",
   "execution_count": 45,
   "id": "447346ec",
   "metadata": {},
   "outputs": [],
   "source": [
    "consistent_scores = comment_scores.drop(list(inconsistent_1.index))"
   ]
  },
  {
   "cell_type": "code",
   "execution_count": 46,
   "id": "460bcad3",
   "metadata": {},
   "outputs": [],
   "source": [
    "more_consistent_scores = consistent_scores.drop(list(inconsistent_2.index)).reset_index().drop([\"index\"], axis=1)"
   ]
  },
  {
   "cell_type": "code",
   "execution_count": 47,
   "id": "5f2ae311",
   "metadata": {},
   "outputs": [
    {
     "name": "stdout",
     "output_type": "stream",
     "text": [
      "Root Mean Squared Error(RMSE) for SVR(C=3) is 0.994\n"
     ]
    }
   ],
   "source": [
    "cons_tuned_svr, _, _, _, _ = sample_model(more_consistent_scores, SVR(C=3, kernel=\"rbf\", tol=0.001))"
   ]
  },
  {
   "cell_type": "markdown",
   "id": "e2f1752a",
   "metadata": {},
   "source": [
    "* As you can see, error rate is decreased by 0.89\n",
    "* That is a huge difference if we compare with grid search which decreased the error rate by 0.001"
   ]
  },
  {
   "cell_type": "markdown",
   "id": "58a3f6c6",
   "metadata": {},
   "source": [
    "**Saving the data to csv file**"
   ]
  },
  {
   "cell_type": "code",
   "execution_count": 47,
   "id": "32a7d467",
   "metadata": {},
   "outputs": [],
   "source": [
    "#more_consistent_scores.to_csv(\"modeled_data.csv\", index=False)"
   ]
  },
  {
   "cell_type": "markdown",
   "id": "46d85ecf",
   "metadata": {},
   "source": [
    "**So this is the final solution to the problem let's test it**"
   ]
  },
  {
   "cell_type": "code",
   "execution_count": 86,
   "id": "671cbaf2",
   "metadata": {},
   "outputs": [
    {
     "name": "stdout",
     "output_type": "stream",
     "text": [
      "Thanks for your interest and taking your time.\n",
      "Tell us about your personal experience enrolling in this course. Was it the right match for you?\n",
      "(Note: Comment should be written in English and be longer than 20 characters)\n",
      "instructor is awful, he does not know what he is doing\n",
      "\n",
      "Your Comment: instructor is awful, he does not know what he is doing\n",
      "\n",
      "**********Analysis of the Comment**********\n",
      "----------Negativity Score: 0.23----------\n",
      "----------Neutrality Score: 0.77----------\n",
      "----------Positivity Score: 0.00----------\n",
      "----------Compound Score: -0.46----------\n",
      "*******************************************\n",
      "\n",
      "The estimated rating this comment can give\n",
      "********************1.59********************\n"
     ]
    }
   ],
   "source": [
    "take_input(cons_tuned_svr)"
   ]
  }
 ],
 "metadata": {
  "kernelspec": {
   "display_name": "Python 3.8.8 64-bit ('base': conda)",
   "language": "python",
   "name": "python388jvsc74a57bd0cd8ac7ed5329ff1f59a8356dfddf06d159cf18414acbfd7b13d1d5cd1cbb5d7d"
  },
  "language_info": {
   "codemirror_mode": {
    "name": "ipython",
    "version": 3
   },
   "file_extension": ".py",
   "mimetype": "text/x-python",
   "name": "python",
   "nbconvert_exporter": "python",
   "pygments_lexer": "ipython3",
   "version": "3.8.8"
  }
 },
 "nbformat": 4,
 "nbformat_minor": 5
}
