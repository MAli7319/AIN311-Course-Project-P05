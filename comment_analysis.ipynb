{
 "cells": [
  {
   "cell_type": "code",
   "execution_count": 1,
   "id": "c66cb3e5",
   "metadata": {},
   "outputs": [],
   "source": [
    "import pandas as pd"
   ]
  },
  {
   "cell_type": "code",
   "execution_count": 2,
   "id": "aa28c695",
   "metadata": {},
   "outputs": [],
   "source": [
    "comments = pd.read_csv(\"udemy_courses/Comments.csv\")"
   ]
  },
  {
   "cell_type": "code",
   "execution_count": 9,
   "id": "89294f80",
   "metadata": {},
   "outputs": [
    {
     "data": {
      "text/html": [
       "<div>\n",
       "<style scoped>\n",
       "    .dataframe tbody tr th:only-of-type {\n",
       "        vertical-align: middle;\n",
       "    }\n",
       "\n",
       "    .dataframe tbody tr th {\n",
       "        vertical-align: top;\n",
       "    }\n",
       "\n",
       "    .dataframe thead th {\n",
       "        text-align: right;\n",
       "    }\n",
       "</style>\n",
       "<table border=\"1\" class=\"dataframe\">\n",
       "  <thead>\n",
       "    <tr style=\"text-align: right;\">\n",
       "      <th></th>\n",
       "      <th>id</th>\n",
       "      <th>course_id</th>\n",
       "      <th>rate</th>\n",
       "      <th>date</th>\n",
       "      <th>display_name</th>\n",
       "      <th>comment</th>\n",
       "    </tr>\n",
       "  </thead>\n",
       "  <tbody>\n",
       "    <tr>\n",
       "      <th>0</th>\n",
       "      <td>88962892</td>\n",
       "      <td>3173036</td>\n",
       "      <td>1.0</td>\n",
       "      <td>2021-06-29T18:54:25-07:00</td>\n",
       "      <td>Rahul</td>\n",
       "      <td>I think a beginner needs more than you think.\\...</td>\n",
       "    </tr>\n",
       "    <tr>\n",
       "      <th>1</th>\n",
       "      <td>125535470</td>\n",
       "      <td>4913148</td>\n",
       "      <td>5.0</td>\n",
       "      <td>2022-10-07T11:17:41-07:00</td>\n",
       "      <td>Marlo</td>\n",
       "      <td>Aviva is such a natural teacher and healer/hea...</td>\n",
       "    </tr>\n",
       "    <tr>\n",
       "      <th>2</th>\n",
       "      <td>68767147</td>\n",
       "      <td>3178386</td>\n",
       "      <td>3.5</td>\n",
       "      <td>2020-10-19T06:35:37-07:00</td>\n",
       "      <td>Yamila Andrea</td>\n",
       "      <td>Muy buena la introducción para entender la bas...</td>\n",
       "    </tr>\n",
       "    <tr>\n",
       "      <th>3</th>\n",
       "      <td>125029758</td>\n",
       "      <td>3175814</td>\n",
       "      <td>5.0</td>\n",
       "      <td>2022-09-30T21:13:49-07:00</td>\n",
       "      <td>Jacqueline</td>\n",
       "      <td>This course is the best on Udemy.  This breakd...</td>\n",
       "    </tr>\n",
       "    <tr>\n",
       "      <th>4</th>\n",
       "      <td>76584052</td>\n",
       "      <td>3174896</td>\n",
       "      <td>4.5</td>\n",
       "      <td>2021-01-30T08:45:11-08:00</td>\n",
       "      <td>Anthony</td>\n",
       "      <td>I found this course very helpful. It was full ...</td>\n",
       "    </tr>\n",
       "  </tbody>\n",
       "</table>\n",
       "</div>"
      ],
      "text/plain": [
       "          id  course_id  rate                       date   display_name  \\\n",
       "0   88962892    3173036   1.0  2021-06-29T18:54:25-07:00          Rahul   \n",
       "1  125535470    4913148   5.0  2022-10-07T11:17:41-07:00          Marlo   \n",
       "2   68767147    3178386   3.5  2020-10-19T06:35:37-07:00  Yamila Andrea   \n",
       "3  125029758    3175814   5.0  2022-09-30T21:13:49-07:00     Jacqueline   \n",
       "4   76584052    3174896   4.5  2021-01-30T08:45:11-08:00        Anthony   \n",
       "\n",
       "                                             comment  \n",
       "0  I think a beginner needs more than you think.\\...  \n",
       "1  Aviva is such a natural teacher and healer/hea...  \n",
       "2  Muy buena la introducción para entender la bas...  \n",
       "3  This course is the best on Udemy.  This breakd...  \n",
       "4  I found this course very helpful. It was full ...  "
      ]
     },
     "execution_count": 9,
     "metadata": {},
     "output_type": "execute_result"
    }
   ],
   "source": [
    "comments.head()"
   ]
  },
  {
   "cell_type": "markdown",
   "id": "41374f39",
   "metadata": {},
   "source": [
    "There are plenty of character sequences that indicates the empty comment such as \".\", \"?\", \",\", \"-\", \":)\", \"..\", \"...\", \"???\", .... etc. "
   ]
  },
  {
   "cell_type": "markdown",
   "id": "d7dcfe3a",
   "metadata": {},
   "source": [
    "These characters are the obstacles in front of the language detector. When it sees these characters, it gives an error."
   ]
  },
  {
   "cell_type": "code",
   "execution_count": 11,
   "id": "73ca4e9c",
   "metadata": {},
   "outputs": [],
   "source": [
    "comment_1 = comments[comments[\"rate\"] <= 1]\n",
    "comment_2 = comments[(comments[\"rate\"] > 1) & (comments[\"rate\"] <= 2)]\n",
    "comment_3 = comments[(comments[\"rate\"] > 2) & (comments[\"rate\"] <= 3)]\n",
    "comment_4 = comments[(comments[\"rate\"] > 3) & (comments[\"rate\"] <= 4)]\n",
    "comment_5 = comments[comments[\"rate\"] > 4]"
   ]
  },
  {
   "cell_type": "code",
   "execution_count": 12,
   "id": "35dab2ae",
   "metadata": {},
   "outputs": [],
   "source": [
    "rate_1 = len(comment_1) / len(comments)*100\n",
    "rate_2 = len(comment_2) / len(comments)*100\n",
    "rate_3 = len(comment_3) / len(comments)*100\n",
    "rate_4 = len(comment_4) / len(comments)*100\n",
    "rate_5 = len(comment_5) / len(comments)*100"
   ]
  },
  {
   "cell_type": "code",
   "execution_count": 13,
   "id": "8aa0e160",
   "metadata": {},
   "outputs": [
    {
     "name": "stdout",
     "output_type": "stream",
     "text": [
      "Percentage of comments rated below 1.0 is 1.9963392478341118\n",
      "Percentage of comments rated above 1.0 and below 2.0 is 1.605645807618517\n",
      "Percentage of comments rated above 2.0 and below 3.0 is 5.4198129631256835\n",
      "Percentage of comments rated above 3.0 and below 4.0 is 16.539791262538746\n",
      "Percentage of comments rated above 4.0 is 74.43841071888293\n"
     ]
    }
   ],
   "source": [
    "print(f\"Percentage of comments rated below 1.0 is {rate_1}\")\n",
    "print(f\"Percentage of comments rated above 1.0 and below 2.0 is {rate_2}\")\n",
    "print(f\"Percentage of comments rated above 2.0 and below 3.0 is {rate_3}\")\n",
    "print(f\"Percentage of comments rated above 3.0 and below 4.0 is {rate_4}\")\n",
    "print(f\"Percentage of comments rated above 4.0 is {rate_5}\")"
   ]
  },
  {
   "cell_type": "code",
   "execution_count": 14,
   "id": "25b715cd",
   "metadata": {
    "scrolled": false
   },
   "outputs": [
    {
     "data": {
      "text/plain": [
       "<matplotlib.legend.Legend at 0x21d801d62b0>"
      ]
     },
     "execution_count": 14,
     "metadata": {},
     "output_type": "execute_result"
    },
    {
     "data": {
      "image/png": "[encoded data removed]",
      "text/plain": [
       "<Figure size 576x576 with 1 Axes>"
      ]
     },
     "metadata": {},
     "output_type": "display_data"
    }
   ],
   "source": [
    "import matplotlib.pyplot as plt\n",
    "plt.figure(figsize = (8,8))\n",
    "data = [rate_1, rate_2, rate_3, rate_4, rate_5]\n",
    "labels = [\"#rate <= 1.0\", \"1.0 < #rate <= 2.0\", \"2.0 < #rate <= 3.0\", \"3.0 < #rate <= 4.0\", \"4.0 < #rate\"]\n",
    "plt.pie(data, labels=labels, autopct='%.2f', explode=[0.2,0.1,0.05,0.025,0])\n",
    "plt.tight_layout()\n",
    "plt.legend()"
   ]
  },
  {
   "cell_type": "markdown",
   "id": "5b2e239d",
   "metadata": {},
   "source": [
    "For the sake of convenience, we will choose 3000 comments of each rating interval."
   ]
  },
  {
   "cell_type": "code",
   "execution_count": 167,
   "id": "477cac8f",
   "metadata": {},
   "outputs": [],
   "source": [
    "comment_1_sample = comment_1.sample(5000, random_state=1).dropna()\n",
    "comment_2_sample = comment_2.sample(5000, random_state=1).dropna()\n",
    "comment_3_sample = comment_3.sample(5000, random_state=1).dropna()\n",
    "comment_4_sample = comment_4.sample(5000, random_state=1).dropna()\n",
    "comment_5_sample = comment_5.sample(5000, random_state=1).dropna()"
   ]
  },
  {
   "cell_type": "code",
   "execution_count": 168,
   "id": "5280df98",
   "metadata": {
    "scrolled": false
   },
   "outputs": [
    {
     "data": {
      "text/html": [
       "<div>\n",
       "<style scoped>\n",
       "    .dataframe tbody tr th:only-of-type {\n",
       "        vertical-align: middle;\n",
       "    }\n",
       "\n",
       "    .dataframe tbody tr th {\n",
       "        vertical-align: top;\n",
       "    }\n",
       "\n",
       "    .dataframe thead th {\n",
       "        text-align: right;\n",
       "    }\n",
       "</style>\n",
       "<table border=\"1\" class=\"dataframe\">\n",
       "  <thead>\n",
       "    <tr style=\"text-align: right;\">\n",
       "      <th></th>\n",
       "      <th>id</th>\n",
       "      <th>course_id</th>\n",
       "      <th>rate</th>\n",
       "      <th>date</th>\n",
       "      <th>display_name</th>\n",
       "      <th>comment</th>\n",
       "    </tr>\n",
       "  </thead>\n",
       "  <tbody>\n",
       "    <tr>\n",
       "      <th>677568</th>\n",
       "      <td>76904362</td>\n",
       "      <td>124862</td>\n",
       "      <td>1.0</td>\n",
       "      <td>2021-02-03T06:02:58-08:00</td>\n",
       "      <td>Prathamesh</td>\n",
       "      <td>worst</td>\n",
       "    </tr>\n",
       "    <tr>\n",
       "      <th>2844211</th>\n",
       "      <td>73905032</td>\n",
       "      <td>3016360</td>\n",
       "      <td>1.0</td>\n",
       "      <td>2020-12-29T23:42:18-08:00</td>\n",
       "      <td>Amit Kumar</td>\n",
       "      <td>Not a good teacher</td>\n",
       "    </tr>\n",
       "    <tr>\n",
       "      <th>8102772</th>\n",
       "      <td>116787574</td>\n",
       "      <td>1506888</td>\n",
       "      <td>1.0</td>\n",
       "      <td>2022-06-20T02:23:29-07:00</td>\n",
       "      <td>Deepak</td>\n",
       "      <td>dont waste your money</td>\n",
       "    </tr>\n",
       "    <tr>\n",
       "      <th>1907760</th>\n",
       "      <td>44653686</td>\n",
       "      <td>2531702</td>\n",
       "      <td>1.0</td>\n",
       "      <td>2020-01-30T03:27:19-08:00</td>\n",
       "      <td>Dear</td>\n",
       "      <td>offensive course. ?</td>\n",
       "    </tr>\n",
       "    <tr>\n",
       "      <th>350195</th>\n",
       "      <td>6514276</td>\n",
       "      <td>967674</td>\n",
       "      <td>0.5</td>\n",
       "      <td>2017-04-18T15:36:01-07:00</td>\n",
       "      <td>Mathew S</td>\n",
       "      <td>SwiftyStoreKit is already a clean lightweight ...</td>\n",
       "    </tr>\n",
       "  </tbody>\n",
       "</table>\n",
       "</div>"
      ],
      "text/plain": [
       "                id  course_id  rate                       date display_name  \\\n",
       "677568    76904362     124862   1.0  2021-02-03T06:02:58-08:00   Prathamesh   \n",
       "2844211   73905032    3016360   1.0  2020-12-29T23:42:18-08:00   Amit Kumar   \n",
       "8102772  116787574    1506888   1.0  2022-06-20T02:23:29-07:00       Deepak   \n",
       "1907760   44653686    2531702   1.0  2020-01-30T03:27:19-08:00         Dear   \n",
       "350195     6514276     967674   0.5  2017-04-18T15:36:01-07:00     Mathew S   \n",
       "\n",
       "                                                   comment  \n",
       "677568                                               worst  \n",
       "2844211                                 Not a good teacher  \n",
       "8102772                              dont waste your money  \n",
       "1907760                                offensive course. ?  \n",
       "350195   SwiftyStoreKit is already a clean lightweight ...  "
      ]
     },
     "execution_count": 168,
     "metadata": {},
     "output_type": "execute_result"
    }
   ],
   "source": [
    "comment_1_sample.head()"
   ]
  },
  {
   "cell_type": "code",
   "execution_count": 169,
   "id": "eb464e6d",
   "metadata": {},
   "outputs": [],
   "source": [
    "def short_comments_detect(df):\n",
    "    short_coms_idx = []\n",
    "    for i in range(len(df[\"comment\"])):\n",
    "        if len(df[\"comment\"].values[i]) < 20:\n",
    "            short_coms_idx.append(df[\"comment\"].index[i])\n",
    "    return short_coms_idx"
   ]
  },
  {
   "cell_type": "code",
   "execution_count": 170,
   "id": "953c03be",
   "metadata": {},
   "outputs": [],
   "source": [
    "def delete_short_coms(df, idx):\n",
    "    new_df = df.drop(idx)\n",
    "    return new_df"
   ]
  },
  {
   "cell_type": "code",
   "execution_count": 171,
   "id": "ae2ef8f0",
   "metadata": {},
   "outputs": [],
   "source": [
    "def auto_process_1(df):\n",
    "    short_coms = short_comments_detect(df)\n",
    "    long_coms = delete_short_coms(df, short_coms)\n",
    "    return long_coms"
   ]
  },
  {
   "cell_type": "code",
   "execution_count": 172,
   "id": "27abbae8",
   "metadata": {},
   "outputs": [],
   "source": [
    "sample_1_long = auto_process_1(comment_1_sample)\n",
    "sample_2_long = auto_process_1(comment_2_sample)\n",
    "sample_3_long = auto_process_1(comment_3_sample)\n",
    "sample_4_long = auto_process_1(comment_4_sample)\n",
    "sample_5_long = auto_process_1(comment_5_sample)"
   ]
  },
  {
   "cell_type": "markdown",
   "id": "945008bb",
   "metadata": {},
   "source": [
    "At this step, we will filter out the comments which has not written in english."
   ]
  },
  {
   "cell_type": "code",
   "execution_count": 173,
   "id": "89b126f5",
   "metadata": {
    "scrolled": true
   },
   "outputs": [
    {
     "name": "stdout",
     "output_type": "stream",
     "text": [
      "Requirement already satisfied: langdetect in c:\\users\\dell\\anaconda3\\lib\\site-packages (1.0.9)\n",
      "Requirement already satisfied: six in c:\\users\\dell\\anaconda3\\lib\\site-packages (from langdetect) (1.15.0)\n"
     ]
    }
   ],
   "source": [
    "!pip install langdetect"
   ]
  },
  {
   "cell_type": "code",
   "execution_count": 174,
   "id": "131e5206",
   "metadata": {},
   "outputs": [],
   "source": [
    "from langdetect import detect"
   ]
  },
  {
   "cell_type": "code",
   "execution_count": 175,
   "id": "9cf12623",
   "metadata": {},
   "outputs": [],
   "source": [
    "def foreign_comments_detect(df):\n",
    "    foreign_idx = []\n",
    "    for i in range(len(df[\"comment\"])):\n",
    "        comment = df[\"comment\"].values[i]\n",
    "        if detect(comment) != \"en\":\n",
    "            foreign_idx.append(df[\"comment\"].index[i])\n",
    "    return foreign_idx"
   ]
  },
  {
   "cell_type": "code",
   "execution_count": 176,
   "id": "993c58a4",
   "metadata": {},
   "outputs": [],
   "source": [
    "foreign_1 = foreign_comments_detect(sample_1_long)\n",
    "foreign_2 = foreign_comments_detect(sample_2_long)\n",
    "foreign_3 = foreign_comments_detect(sample_3_long)\n",
    "foreign_4 = foreign_comments_detect(sample_4_long)\n",
    "foreign_5 = foreign_comments_detect(sample_5_long)"
   ]
  },
  {
   "cell_type": "code",
   "execution_count": 177,
   "id": "9511d18e",
   "metadata": {},
   "outputs": [
    {
     "data": {
      "text/html": [
       "<div>\n",
       "<style scoped>\n",
       "    .dataframe tbody tr th:only-of-type {\n",
       "        vertical-align: middle;\n",
       "    }\n",
       "\n",
       "    .dataframe tbody tr th {\n",
       "        vertical-align: top;\n",
       "    }\n",
       "\n",
       "    .dataframe thead th {\n",
       "        text-align: right;\n",
       "    }\n",
       "</style>\n",
       "<table border=\"1\" class=\"dataframe\">\n",
       "  <thead>\n",
       "    <tr style=\"text-align: right;\">\n",
       "      <th></th>\n",
       "      <th>id</th>\n",
       "      <th>course_id</th>\n",
       "      <th>rate</th>\n",
       "      <th>date</th>\n",
       "      <th>display_name</th>\n",
       "      <th>comment</th>\n",
       "    </tr>\n",
       "  </thead>\n",
       "  <tbody>\n",
       "    <tr>\n",
       "      <th>3650519</th>\n",
       "      <td>96722050</td>\n",
       "      <td>1996964</td>\n",
       "      <td>1.0</td>\n",
       "      <td>2021-09-29T16:04:32-07:00</td>\n",
       "      <td>William Alexander</td>\n",
       "      <td>No muestra nada nuevo de VB.NET, utiliza progr...</td>\n",
       "    </tr>\n",
       "    <tr>\n",
       "      <th>1914910</th>\n",
       "      <td>48817558</td>\n",
       "      <td>1152028</td>\n",
       "      <td>1.0</td>\n",
       "      <td>2020-03-29T20:10:21-07:00</td>\n",
       "      <td>Scarlet</td>\n",
       "      <td>Publicidad engañosa  desactualizado dice que e...</td>\n",
       "    </tr>\n",
       "    <tr>\n",
       "      <th>1170625</th>\n",
       "      <td>47353196</td>\n",
       "      <td>2006722</td>\n",
       "      <td>1.0</td>\n",
       "      <td>2020-03-15T12:20:26-07:00</td>\n",
       "      <td>Onur</td>\n",
       "      <td>ne yaptığını nerede ise anlatmıyor yapıp geçiyor</td>\n",
       "    </tr>\n",
       "    <tr>\n",
       "      <th>996714</th>\n",
       "      <td>116931536</td>\n",
       "      <td>3659640</td>\n",
       "      <td>1.0</td>\n",
       "      <td>2022-06-21T14:13:17-07:00</td>\n",
       "      <td>Mauricio lobianco</td>\n",
       "      <td>só apresentou as guias e comandos que qq um qu...</td>\n",
       "    </tr>\n",
       "    <tr>\n",
       "      <th>2346256</th>\n",
       "      <td>61841902</td>\n",
       "      <td>1777698</td>\n",
       "      <td>1.0</td>\n",
       "      <td>2020-07-21T11:09:34-07:00</td>\n",
       "      <td>Jorge Arturo</td>\n",
       "      <td>Falta de actualizacion, ya no coincide con lo ...</td>\n",
       "    </tr>\n",
       "  </tbody>\n",
       "</table>\n",
       "</div>"
      ],
      "text/plain": [
       "                id  course_id  rate                       date  \\\n",
       "3650519   96722050    1996964   1.0  2021-09-29T16:04:32-07:00   \n",
       "1914910   48817558    1152028   1.0  2020-03-29T20:10:21-07:00   \n",
       "1170625   47353196    2006722   1.0  2020-03-15T12:20:26-07:00   \n",
       "996714   116931536    3659640   1.0  2022-06-21T14:13:17-07:00   \n",
       "2346256   61841902    1777698   1.0  2020-07-21T11:09:34-07:00   \n",
       "\n",
       "              display_name                                            comment  \n",
       "3650519  William Alexander  No muestra nada nuevo de VB.NET, utiliza progr...  \n",
       "1914910            Scarlet  Publicidad engañosa  desactualizado dice que e...  \n",
       "1170625               Onur   ne yaptığını nerede ise anlatmıyor yapıp geçiyor  \n",
       "996714   Mauricio lobianco  só apresentou as guias e comandos que qq um qu...  \n",
       "2346256       Jorge Arturo  Falta de actualizacion, ya no coincide con lo ...  "
      ]
     },
     "execution_count": 177,
     "metadata": {},
     "output_type": "execute_result"
    }
   ],
   "source": [
    "sample_1_long.loc[foreign_1].head()"
   ]
  },
  {
   "cell_type": "code",
   "execution_count": 178,
   "id": "26d157eb",
   "metadata": {},
   "outputs": [],
   "source": [
    "def auto_process_2(df, foreigners):\n",
    "    new_df = df.drop(foreigners)\n",
    "    return new_df"
   ]
  },
  {
   "cell_type": "code",
   "execution_count": 179,
   "id": "0f5c705d",
   "metadata": {},
   "outputs": [],
   "source": [
    "sample_1_english = auto_process_2(sample_1_long, foreign_1)\n",
    "sample_2_english = auto_process_2(sample_2_long, foreign_2)\n",
    "sample_3_english = auto_process_2(sample_3_long, foreign_3)\n",
    "sample_4_english = auto_process_2(sample_4_long, foreign_4)\n",
    "sample_5_english = auto_process_2(sample_5_long, foreign_5)"
   ]
  },
  {
   "cell_type": "code",
   "execution_count": 188,
   "id": "111bd4d4",
   "metadata": {},
   "outputs": [
    {
     "data": {
      "text/plain": [
       "<matplotlib.legend.Legend at 0x21dacdb9fd0>"
      ]
     },
     "execution_count": 188,
     "metadata": {},
     "output_type": "execute_result"
    },
    {
     "data": {
      "image/png": "[encoded data removed]",
      "text/plain": [
       "<Figure size 576x576 with 1 Axes>"
      ]
     },
     "metadata": {},
     "output_type": "display_data"
    }
   ],
   "source": [
    "plt.figure(figsize = (8,8))\n",
    "data = [len(sample_1_english), len(sample_2_english), len(sample_3_english), len(sample_4_english), len(sample_5_english)]\n",
    "labels = [\"#rate <= 1.0\", \"1.0 < #rate <= 2.0\", \"2.0 < #rate <= 3.0\", \"3.0 < #rate <= 4.0\", \"4.0 < #rate\"]\n",
    "plt.pie(data, labels=labels, autopct='%.2f', explode=[0.01,0.01,0.01,0.01,0.01])\n",
    "plt.tight_layout()\n",
    "plt.legend()"
   ]
  },
  {
   "cell_type": "markdown",
   "id": "2e2c881c",
   "metadata": {},
   "source": [
    "More balanced"
   ]
  },
  {
   "cell_type": "code",
   "execution_count": 192,
   "id": "7283b061",
   "metadata": {},
   "outputs": [
    {
     "data": {
      "text/html": [
       "<div>\n",
       "<style scoped>\n",
       "    .dataframe tbody tr th:only-of-type {\n",
       "        vertical-align: middle;\n",
       "    }\n",
       "\n",
       "    .dataframe tbody tr th {\n",
       "        vertical-align: top;\n",
       "    }\n",
       "\n",
       "    .dataframe thead th {\n",
       "        text-align: right;\n",
       "    }\n",
       "</style>\n",
       "<table border=\"1\" class=\"dataframe\">\n",
       "  <thead>\n",
       "    <tr style=\"text-align: right;\">\n",
       "      <th></th>\n",
       "      <th>id</th>\n",
       "      <th>course_id</th>\n",
       "      <th>rate</th>\n",
       "      <th>date</th>\n",
       "      <th>display_name</th>\n",
       "      <th>comment</th>\n",
       "    </tr>\n",
       "  </thead>\n",
       "  <tbody>\n",
       "    <tr>\n",
       "      <th>8102772</th>\n",
       "      <td>116787574</td>\n",
       "      <td>1506888</td>\n",
       "      <td>1.0</td>\n",
       "      <td>2022-06-20T02:23:29-07:00</td>\n",
       "      <td>Deepak</td>\n",
       "      <td>dont waste your money</td>\n",
       "    </tr>\n",
       "    <tr>\n",
       "      <th>350195</th>\n",
       "      <td>6514276</td>\n",
       "      <td>967674</td>\n",
       "      <td>0.5</td>\n",
       "      <td>2017-04-18T15:36:01-07:00</td>\n",
       "      <td>Mathew S</td>\n",
       "      <td>SwiftyStoreKit is already a clean lightweight ...</td>\n",
       "    </tr>\n",
       "    <tr>\n",
       "      <th>2953887</th>\n",
       "      <td>107389666</td>\n",
       "      <td>1743328</td>\n",
       "      <td>1.0</td>\n",
       "      <td>2022-02-12T18:56:45-08:00</td>\n",
       "      <td>Nicco</td>\n",
       "      <td>It's not dynamic.... and it's not for beginners</td>\n",
       "    </tr>\n",
       "    <tr>\n",
       "      <th>4321094</th>\n",
       "      <td>2419452</td>\n",
       "      <td>21323</td>\n",
       "      <td>0.5</td>\n",
       "      <td>2016-06-08T09:19:47-07:00</td>\n",
       "      <td>Rob</td>\n",
       "      <td>Starts with showing how to install Python 2 an...</td>\n",
       "    </tr>\n",
       "    <tr>\n",
       "      <th>5824927</th>\n",
       "      <td>54359848</td>\n",
       "      <td>131416</td>\n",
       "      <td>1.0</td>\n",
       "      <td>2020-05-09T07:47:56-07:00</td>\n",
       "      <td>RickyC</td>\n",
       "      <td>Provide almost no practical advice on nothing....</td>\n",
       "    </tr>\n",
       "    <tr>\n",
       "      <th>...</th>\n",
       "      <td>...</td>\n",
       "      <td>...</td>\n",
       "      <td>...</td>\n",
       "      <td>...</td>\n",
       "      <td>...</td>\n",
       "      <td>...</td>\n",
       "    </tr>\n",
       "    <tr>\n",
       "      <th>8005053</th>\n",
       "      <td>19011262</td>\n",
       "      <td>383576</td>\n",
       "      <td>1.0</td>\n",
       "      <td>2018-07-25T21:03:34-07:00</td>\n",
       "      <td>Hantzel</td>\n",
       "      <td>I hate to put it like this, but save your mone...</td>\n",
       "    </tr>\n",
       "    <tr>\n",
       "      <th>745350</th>\n",
       "      <td>7886722</td>\n",
       "      <td>315724</td>\n",
       "      <td>0.5</td>\n",
       "      <td>2017-07-02T00:44:48-07:00</td>\n",
       "      <td>Turgaygncr</td>\n",
       "      <td>The author is really really bad.</td>\n",
       "    </tr>\n",
       "    <tr>\n",
       "      <th>2251756</th>\n",
       "      <td>38375390</td>\n",
       "      <td>1801874</td>\n",
       "      <td>1.0</td>\n",
       "      <td>2019-10-05T16:27:05-07:00</td>\n",
       "      <td>Loren</td>\n",
       "      <td>At least the first exam is flawed in it's func...</td>\n",
       "    </tr>\n",
       "    <tr>\n",
       "      <th>2524291</th>\n",
       "      <td>43848414</td>\n",
       "      <td>1989682</td>\n",
       "      <td>1.0</td>\n",
       "      <td>2020-01-16T20:20:06-08:00</td>\n",
       "      <td>Rajesh</td>\n",
       "      <td>Awful, not what I expected at all</td>\n",
       "    </tr>\n",
       "    <tr>\n",
       "      <th>2270423</th>\n",
       "      <td>6621588</td>\n",
       "      <td>945320</td>\n",
       "      <td>0.5</td>\n",
       "      <td>2017-04-25T10:36:38-07:00</td>\n",
       "      <td>Beshoy</td>\n",
       "      <td>waste of time, especially in the prototype  le...</td>\n",
       "    </tr>\n",
       "  </tbody>\n",
       "</table>\n",
       "<p>3143 rows × 6 columns</p>\n",
       "</div>"
      ],
      "text/plain": [
       "                id  course_id  rate                       date display_name  \\\n",
       "8102772  116787574    1506888   1.0  2022-06-20T02:23:29-07:00       Deepak   \n",
       "350195     6514276     967674   0.5  2017-04-18T15:36:01-07:00     Mathew S   \n",
       "2953887  107389666    1743328   1.0  2022-02-12T18:56:45-08:00        Nicco   \n",
       "4321094    2419452      21323   0.5  2016-06-08T09:19:47-07:00          Rob   \n",
       "5824927   54359848     131416   1.0  2020-05-09T07:47:56-07:00       RickyC   \n",
       "...            ...        ...   ...                        ...          ...   \n",
       "8005053   19011262     383576   1.0  2018-07-25T21:03:34-07:00      Hantzel   \n",
       "745350     7886722     315724   0.5  2017-07-02T00:44:48-07:00   Turgaygncr   \n",
       "2251756   38375390    1801874   1.0  2019-10-05T16:27:05-07:00        Loren   \n",
       "2524291   43848414    1989682   1.0  2020-01-16T20:20:06-08:00       Rajesh   \n",
       "2270423    6621588     945320   0.5  2017-04-25T10:36:38-07:00       Beshoy   \n",
       "\n",
       "                                                   comment  \n",
       "8102772                              dont waste your money  \n",
       "350195   SwiftyStoreKit is already a clean lightweight ...  \n",
       "2953887    It's not dynamic.... and it's not for beginners  \n",
       "4321094  Starts with showing how to install Python 2 an...  \n",
       "5824927  Provide almost no practical advice on nothing....  \n",
       "...                                                    ...  \n",
       "8005053  I hate to put it like this, but save your mone...  \n",
       "745350                    The author is really really bad.  \n",
       "2251756  At least the first exam is flawed in it's func...  \n",
       "2524291                  Awful, not what I expected at all  \n",
       "2270423  waste of time, especially in the prototype  le...  \n",
       "\n",
       "[3143 rows x 6 columns]"
      ]
     },
     "execution_count": 192,
     "metadata": {},
     "output_type": "execute_result"
    }
   ],
   "source": [
    "sample_1_english"
   ]
  },
  {
   "cell_type": "code",
   "execution_count": 204,
   "id": "851ca8f3",
   "metadata": {},
   "outputs": [
    {
     "data": {
      "text/html": [
       "<div>\n",
       "<style scoped>\n",
       "    .dataframe tbody tr th:only-of-type {\n",
       "        vertical-align: middle;\n",
       "    }\n",
       "\n",
       "    .dataframe tbody tr th {\n",
       "        vertical-align: top;\n",
       "    }\n",
       "\n",
       "    .dataframe thead th {\n",
       "        text-align: right;\n",
       "    }\n",
       "</style>\n",
       "<table border=\"1\" class=\"dataframe\">\n",
       "  <thead>\n",
       "    <tr style=\"text-align: right;\">\n",
       "      <th></th>\n",
       "      <th>comment</th>\n",
       "      <th>rate</th>\n",
       "    </tr>\n",
       "  </thead>\n",
       "  <tbody>\n",
       "    <tr>\n",
       "      <th>8102772</th>\n",
       "      <td>dont waste your money</td>\n",
       "      <td>1.0</td>\n",
       "    </tr>\n",
       "    <tr>\n",
       "      <th>350195</th>\n",
       "      <td>SwiftyStoreKit is already a clean lightweight ...</td>\n",
       "      <td>0.5</td>\n",
       "    </tr>\n",
       "    <tr>\n",
       "      <th>2953887</th>\n",
       "      <td>It's not dynamic.... and it's not for beginners</td>\n",
       "      <td>1.0</td>\n",
       "    </tr>\n",
       "    <tr>\n",
       "      <th>4321094</th>\n",
       "      <td>Starts with showing how to install Python 2 an...</td>\n",
       "      <td>0.5</td>\n",
       "    </tr>\n",
       "    <tr>\n",
       "      <th>5824927</th>\n",
       "      <td>Provide almost no practical advice on nothing....</td>\n",
       "      <td>1.0</td>\n",
       "    </tr>\n",
       "    <tr>\n",
       "      <th>...</th>\n",
       "      <td>...</td>\n",
       "      <td>...</td>\n",
       "    </tr>\n",
       "    <tr>\n",
       "      <th>8005053</th>\n",
       "      <td>I hate to put it like this, but save your mone...</td>\n",
       "      <td>1.0</td>\n",
       "    </tr>\n",
       "    <tr>\n",
       "      <th>745350</th>\n",
       "      <td>The author is really really bad.</td>\n",
       "      <td>0.5</td>\n",
       "    </tr>\n",
       "    <tr>\n",
       "      <th>2251756</th>\n",
       "      <td>At least the first exam is flawed in it's func...</td>\n",
       "      <td>1.0</td>\n",
       "    </tr>\n",
       "    <tr>\n",
       "      <th>2524291</th>\n",
       "      <td>Awful, not what I expected at all</td>\n",
       "      <td>1.0</td>\n",
       "    </tr>\n",
       "    <tr>\n",
       "      <th>2270423</th>\n",
       "      <td>waste of time, especially in the prototype  le...</td>\n",
       "      <td>0.5</td>\n",
       "    </tr>\n",
       "  </tbody>\n",
       "</table>\n",
       "<p>3143 rows × 2 columns</p>\n",
       "</div>"
      ],
      "text/plain": [
       "                                                   comment  rate\n",
       "8102772                              dont waste your money   1.0\n",
       "350195   SwiftyStoreKit is already a clean lightweight ...   0.5\n",
       "2953887    It's not dynamic.... and it's not for beginners   1.0\n",
       "4321094  Starts with showing how to install Python 2 an...   0.5\n",
       "5824927  Provide almost no practical advice on nothing....   1.0\n",
       "...                                                    ...   ...\n",
       "8005053  I hate to put it like this, but save your mone...   1.0\n",
       "745350                    The author is really really bad.   0.5\n",
       "2251756  At least the first exam is flawed in it's func...   1.0\n",
       "2524291                  Awful, not what I expected at all   1.0\n",
       "2270423  waste of time, especially in the prototype  le...   0.5\n",
       "\n",
       "[3143 rows x 2 columns]"
      ]
     },
     "execution_count": 204,
     "metadata": {},
     "output_type": "execute_result"
    }
   ],
   "source": [
    "sample_1_english[[\"comment\", \"rate\"]]"
   ]
  },
  {
   "cell_type": "code",
   "execution_count": 210,
   "id": "fe5a280e",
   "metadata": {},
   "outputs": [
    {
     "data": {
      "text/html": [
       "<div>\n",
       "<style scoped>\n",
       "    .dataframe tbody tr th:only-of-type {\n",
       "        vertical-align: middle;\n",
       "    }\n",
       "\n",
       "    .dataframe tbody tr th {\n",
       "        vertical-align: top;\n",
       "    }\n",
       "\n",
       "    .dataframe thead th {\n",
       "        text-align: right;\n",
       "    }\n",
       "</style>\n",
       "<table border=\"1\" class=\"dataframe\">\n",
       "  <thead>\n",
       "    <tr style=\"text-align: right;\">\n",
       "      <th></th>\n",
       "      <th>comment</th>\n",
       "      <th>rate</th>\n",
       "    </tr>\n",
       "  </thead>\n",
       "  <tbody>\n",
       "    <tr>\n",
       "      <th>8102772</th>\n",
       "      <td>dont waste your money</td>\n",
       "      <td>1.0</td>\n",
       "    </tr>\n",
       "    <tr>\n",
       "      <th>350195</th>\n",
       "      <td>SwiftyStoreKit is already a clean lightweight ...</td>\n",
       "      <td>0.5</td>\n",
       "    </tr>\n",
       "    <tr>\n",
       "      <th>2953887</th>\n",
       "      <td>It's not dynamic.... and it's not for beginners</td>\n",
       "      <td>1.0</td>\n",
       "    </tr>\n",
       "    <tr>\n",
       "      <th>4321094</th>\n",
       "      <td>Starts with showing how to install Python 2 an...</td>\n",
       "      <td>0.5</td>\n",
       "    </tr>\n",
       "    <tr>\n",
       "      <th>5824927</th>\n",
       "      <td>Provide almost no practical advice on nothing....</td>\n",
       "      <td>1.0</td>\n",
       "    </tr>\n",
       "  </tbody>\n",
       "</table>\n",
       "</div>"
      ],
      "text/plain": [
       "                                                   comment  rate\n",
       "8102772                              dont waste your money   1.0\n",
       "350195   SwiftyStoreKit is already a clean lightweight ...   0.5\n",
       "2953887    It's not dynamic.... and it's not for beginners   1.0\n",
       "4321094  Starts with showing how to install Python 2 an...   0.5\n",
       "5824927  Provide almost no practical advice on nothing....   1.0"
      ]
     },
     "execution_count": 210,
     "metadata": {},
     "output_type": "execute_result"
    }
   ],
   "source": [
    "all_comments = pd.concat([sample_1_english[[\"comment\", \"rate\"]], \n",
    "                          sample_2_english[[\"comment\", \"rate\"]],\n",
    "                          sample_3_english[[\"comment\", \"rate\"]],\n",
    "                          sample_4_english[[\"comment\", \"rate\"]],\n",
    "                          sample_5_english[[\"comment\", \"rate\"]]])\n",
    "all_comments.head()"
   ]
  },
  {
   "cell_type": "code",
   "execution_count": 211,
   "id": "0277dae7",
   "metadata": {},
   "outputs": [
    {
     "data": {
      "text/plain": [
       "14862"
      ]
     },
     "execution_count": 211,
     "metadata": {},
     "output_type": "execute_result"
    }
   ],
   "source": [
    "len(all_comments)"
   ]
  },
  {
   "cell_type": "code",
   "execution_count": 208,
   "id": "a2c6b4b1",
   "metadata": {},
   "outputs": [
    {
     "data": {
      "text/plain": [
       "14862"
      ]
     },
     "execution_count": 208,
     "metadata": {},
     "output_type": "execute_result"
    }
   ],
   "source": [
    "len(sample_1_english)+len(sample_2_english)+len(sample_3_english)+len(sample_4_english)+len(sample_5_english)"
   ]
  },
  {
   "cell_type": "code",
   "execution_count": 215,
   "id": "8a63596e",
   "metadata": {},
   "outputs": [],
   "source": [
    "comments_shuffled = all_comments.sample(frac=1, random_state=1).reset_index().drop([\"index\"], axis=1)"
   ]
  },
  {
   "cell_type": "code",
   "execution_count": 216,
   "id": "bb36b940",
   "metadata": {
    "scrolled": true
   },
   "outputs": [
    {
     "data": {
      "text/html": [
       "<div>\n",
       "<style scoped>\n",
       "    .dataframe tbody tr th:only-of-type {\n",
       "        vertical-align: middle;\n",
       "    }\n",
       "\n",
       "    .dataframe tbody tr th {\n",
       "        vertical-align: top;\n",
       "    }\n",
       "\n",
       "    .dataframe thead th {\n",
       "        text-align: right;\n",
       "    }\n",
       "</style>\n",
       "<table border=\"1\" class=\"dataframe\">\n",
       "  <thead>\n",
       "    <tr style=\"text-align: right;\">\n",
       "      <th></th>\n",
       "      <th>comment</th>\n",
       "      <th>rate</th>\n",
       "    </tr>\n",
       "  </thead>\n",
       "  <tbody>\n",
       "    <tr>\n",
       "      <th>0</th>\n",
       "      <td>I think the course is good for someone who doe...</td>\n",
       "      <td>1.5</td>\n",
       "    </tr>\n",
       "    <tr>\n",
       "      <th>1</th>\n",
       "      <td>This is easy to follow along but nothing is ex...</td>\n",
       "      <td>1.0</td>\n",
       "    </tr>\n",
       "    <tr>\n",
       "      <th>2</th>\n",
       "      <td>I come from a background of public speaking an...</td>\n",
       "      <td>4.0</td>\n",
       "    </tr>\n",
       "    <tr>\n",
       "      <th>3</th>\n",
       "      <td>Nothing new to know compared to the word \"Adva...</td>\n",
       "      <td>1.0</td>\n",
       "    </tr>\n",
       "    <tr>\n",
       "      <th>4</th>\n",
       "      <td>Lectures are not updated. Many things changed ...</td>\n",
       "      <td>2.0</td>\n",
       "    </tr>\n",
       "    <tr>\n",
       "      <th>5</th>\n",
       "      <td>the presenter kept your attention wasn't boring</td>\n",
       "      <td>5.0</td>\n",
       "    </tr>\n",
       "    <tr>\n",
       "      <th>6</th>\n",
       "      <td>I am primarily interested in going into a reta...</td>\n",
       "      <td>2.5</td>\n",
       "    </tr>\n",
       "    <tr>\n",
       "      <th>7</th>\n",
       "      <td>Need more detailson virtual address details fo...</td>\n",
       "      <td>3.0</td>\n",
       "    </tr>\n",
       "    <tr>\n",
       "      <th>8</th>\n",
       "      <td>Sometimes if feels frustrating to hear a lectu...</td>\n",
       "      <td>1.0</td>\n",
       "    </tr>\n",
       "    <tr>\n",
       "      <th>9</th>\n",
       "      <td>Course material was slim at best and there is ...</td>\n",
       "      <td>1.5</td>\n",
       "    </tr>\n",
       "  </tbody>\n",
       "</table>\n",
       "</div>"
      ],
      "text/plain": [
       "                                             comment  rate\n",
       "0  I think the course is good for someone who doe...   1.5\n",
       "1  This is easy to follow along but nothing is ex...   1.0\n",
       "2  I come from a background of public speaking an...   4.0\n",
       "3  Nothing new to know compared to the word \"Adva...   1.0\n",
       "4  Lectures are not updated. Many things changed ...   2.0\n",
       "5    the presenter kept your attention wasn't boring   5.0\n",
       "6  I am primarily interested in going into a reta...   2.5\n",
       "7  Need more detailson virtual address details fo...   3.0\n",
       "8  Sometimes if feels frustrating to hear a lectu...   1.0\n",
       "9  Course material was slim at best and there is ...   1.5"
      ]
     },
     "execution_count": 216,
     "metadata": {},
     "output_type": "execute_result"
    }
   ],
   "source": [
    "comments_shuffled.head(10)"
   ]
  },
  {
   "cell_type": "code",
   "execution_count": null,
   "id": "cfde5ed6",
   "metadata": {},
   "outputs": [],
   "source": []
  },
  {
   "cell_type": "code",
   "execution_count": null,
   "id": "e3b24388",
   "metadata": {},
   "outputs": [],
   "source": []
  },
  {
   "cell_type": "code",
   "execution_count": null,
   "id": "54b2e873",
   "metadata": {},
   "outputs": [],
   "source": []
  }
 ],
 "metadata": {
  "kernelspec": {
   "display_name": "Python 3.8.8 64-bit ('base': conda)",
   "language": "python",
   "name": "python388jvsc74a57bd0cd8ac7ed5329ff1f59a8356dfddf06d159cf18414acbfd7b13d1d5cd1cbb5d7d"
  },
  "language_info": {
   "codemirror_mode": {
    "name": "ipython",
    "version": 3
   },
   "file_extension": ".py",
   "mimetype": "text/x-python",
   "name": "python",
   "nbconvert_exporter": "python",
   "pygments_lexer": "ipython3",
   "version": "3.8.8"
  }
 },
 "nbformat": 4,
 "nbformat_minor": 5
}
