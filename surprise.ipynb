{
 "cells": [
  {
   "cell_type": "code",
   "execution_count": 1,
   "id": "8f1be360",
   "metadata": {},
   "outputs": [],
   "source": [
    "import pandas as pd\n",
    "import numpy as np\n",
    "import random\n",
    "from surprise import Dataset, Reader, accuracy, dump\n",
    "from surprise import SVD, SVDpp, KNNBasic, SlopeOne, CoClustering, NMF\n",
    "from surprise import SlopeOne, CoClustering, NMF\n",
    "from surprise import NormalPredictor, BaselineOnly, KNNWithMeans\n",
    "from surprise.model_selection import cross_validate, train_test_split, GridSearchCV\n",
    "import surprise_helper"
   ]
  },
  {
   "cell_type": "markdown",
   "id": "e75696ec",
   "metadata": {},
   "source": [
    "### Preparation"
   ]
  },
  {
   "cell_type": "code",
   "execution_count": 2,
   "id": "ff0ee243",
   "metadata": {},
   "outputs": [
    {
     "data": {
      "text/html": [
       "<div>\n",
       "<style scoped>\n",
       "    .dataframe tbody tr th:only-of-type {\n",
       "        vertical-align: middle;\n",
       "    }\n",
       "\n",
       "    .dataframe tbody tr th {\n",
       "        vertical-align: top;\n",
       "    }\n",
       "\n",
       "    .dataframe thead th {\n",
       "        text-align: right;\n",
       "    }\n",
       "</style>\n",
       "<table border=\"1\" class=\"dataframe\">\n",
       "  <thead>\n",
       "    <tr style=\"text-align: right;\">\n",
       "      <th></th>\n",
       "      <th>user_id</th>\n",
       "      <th>display_name</th>\n",
       "      <th>course_id</th>\n",
       "      <th>rate</th>\n",
       "    </tr>\n",
       "  </thead>\n",
       "  <tbody>\n",
       "    <tr>\n",
       "      <th>0</th>\n",
       "      <td>11162</td>\n",
       "      <td>Jacynthe</td>\n",
       "      <td>1055720</td>\n",
       "      <td>5.0</td>\n",
       "    </tr>\n",
       "    <tr>\n",
       "      <th>1</th>\n",
       "      <td>19379</td>\n",
       "      <td>Norval</td>\n",
       "      <td>1055720</td>\n",
       "      <td>5.0</td>\n",
       "    </tr>\n",
       "    <tr>\n",
       "      <th>2</th>\n",
       "      <td>11393</td>\n",
       "      <td>Jany</td>\n",
       "      <td>1055720</td>\n",
       "      <td>4.0</td>\n",
       "    </tr>\n",
       "  </tbody>\n",
       "</table>\n",
       "</div>"
      ],
      "text/plain": [
       "   user_id display_name  course_id  rate\n",
       "0    11162     Jacynthe    1055720   5.0\n",
       "1    19379       Norval    1055720   5.0\n",
       "2    11393         Jany    1055720   4.0"
      ]
     },
     "execution_count": 2,
     "metadata": {},
     "output_type": "execute_result"
    }
   ],
   "source": [
    "rates = pd.read_csv(\"rates.csv\")\n",
    "rates.head(3)"
   ]
  },
  {
   "cell_type": "code",
   "execution_count": 3,
   "id": "15ccf8ed",
   "metadata": {},
   "outputs": [
    {
     "data": {
      "text/html": [
       "<div>\n",
       "<style scoped>\n",
       "    .dataframe tbody tr th:only-of-type {\n",
       "        vertical-align: middle;\n",
       "    }\n",
       "\n",
       "    .dataframe tbody tr th {\n",
       "        vertical-align: top;\n",
       "    }\n",
       "\n",
       "    .dataframe thead th {\n",
       "        text-align: right;\n",
       "    }\n",
       "</style>\n",
       "<table border=\"1\" class=\"dataframe\">\n",
       "  <thead>\n",
       "    <tr style=\"text-align: right;\">\n",
       "      <th></th>\n",
       "      <th>id</th>\n",
       "      <th>title</th>\n",
       "      <th>category</th>\n",
       "      <th>course_url</th>\n",
       "    </tr>\n",
       "  </thead>\n",
       "  <tbody>\n",
       "    <tr>\n",
       "      <th>0</th>\n",
       "      <td>9287</td>\n",
       "      <td>Microsoft Excel 2010 Course Beginners/ Interme...</td>\n",
       "      <td>Office Productivity</td>\n",
       "      <td>/course/excel-tutorial/</td>\n",
       "    </tr>\n",
       "    <tr>\n",
       "      <th>1</th>\n",
       "      <td>9385</td>\n",
       "      <td>Microsoft Excel 2010: Advanced Training</td>\n",
       "      <td>Office Productivity</td>\n",
       "      <td>/course/advanced-excel/</td>\n",
       "    </tr>\n",
       "    <tr>\n",
       "      <th>2</th>\n",
       "      <td>9711</td>\n",
       "      <td>Beginner PHP and MySQL Tutorial</td>\n",
       "      <td>Development</td>\n",
       "      <td>/course/php-mysql-tutorial/</td>\n",
       "    </tr>\n",
       "  </tbody>\n",
       "</table>\n",
       "</div>"
      ],
      "text/plain": [
       "     id                                              title  \\\n",
       "0  9287  Microsoft Excel 2010 Course Beginners/ Interme...   \n",
       "1  9385            Microsoft Excel 2010: Advanced Training   \n",
       "2  9711                    Beginner PHP and MySQL Tutorial   \n",
       "\n",
       "              category                   course_url  \n",
       "0  Office Productivity      /course/excel-tutorial/  \n",
       "1  Office Productivity      /course/advanced-excel/  \n",
       "2          Development  /course/php-mysql-tutorial/  "
      ]
     },
     "execution_count": 3,
     "metadata": {},
     "output_type": "execute_result"
    }
   ],
   "source": [
    "courses = pd.read_csv(\"courses.csv\")\n",
    "courses.head(3)"
   ]
  },
  {
   "cell_type": "code",
   "execution_count": 4,
   "id": "3a9c3093",
   "metadata": {},
   "outputs": [],
   "source": [
    "reader = Reader(rating_scale=(0, 5))\n",
    "data = Dataset.load_from_df(rates[[\"user_id\", \"course_id\", \"rate\"]], reader)"
   ]
  },
  {
   "cell_type": "markdown",
   "id": "25e31d38",
   "metadata": {},
   "source": [
    "### Model Selection & Testing"
   ]
  },
  {
   "cell_type": "code",
   "execution_count": 34,
   "id": "5e050972",
   "metadata": {},
   "outputs": [
    {
     "name": "stdout",
     "output_type": "stream",
     "text": [
      "Computing the cosine similarity matrix...\n",
      "Done computing similarity matrix.\n",
      "Computing the cosine similarity matrix...\n",
      "Done computing similarity matrix.\n",
      "Computing the cosine similarity matrix...\n",
      "Done computing similarity matrix.\n",
      "Evaluating RMSE, MAE of algorithm KNNBasic on 3 split(s).\n",
      "\n",
      "                  Fold 1  Fold 2  Fold 3  Mean    Std     \n",
      "RMSE (testset)    0.7929  0.7979  0.7896  0.7935  0.0034  \n",
      "MAE (testset)     0.4730  0.4754  0.4708  0.4731  0.0019  \n",
      "Fit time          0.21    0.26    0.26    0.24    0.02    \n",
      "Test time         1.10    0.59    0.42    0.71    0.29    \n",
      "Evaluating RMSE, MAE of algorithm SVD on 3 split(s).\n",
      "\n",
      "                  Fold 1  Fold 2  Fold 3  Mean    Std     \n",
      "RMSE (testset)    0.6981  0.7054  0.6952  0.6995  0.0043  \n",
      "MAE (testset)     0.4714  0.4755  0.4718  0.4729  0.0018  \n",
      "Fit time          1.33    1.29    1.29    1.31    0.02    \n",
      "Test time         0.43    0.28    0.43    0.38    0.07    \n",
      "Evaluating RMSE, MAE of algorithm SVDpp on 3 split(s).\n",
      "\n",
      "                  Fold 1  Fold 2  Fold 3  Mean    Std     \n",
      "RMSE (testset)    0.7010  0.6913  0.7008  0.6977  0.0045  \n",
      "MAE (testset)     0.4697  0.4670  0.4699  0.4689  0.0013  \n",
      "Fit time          1.36    1.39    1.40    1.38    0.02    \n",
      "Test time         0.75    0.76    0.93    0.82    0.08    \n"
     ]
    }
   ],
   "source": [
    "sim_options = {\"name\": \"cosine\", \"user_based\": False}\n",
    "_ = cross_validate(KNNBasic(sim_options=sim_options), data, measures=['RMSE', 'MAE'], cv=3, verbose=True)\n",
    "_ = cross_validate(SVD(), data, measures=['RMSE', 'MAE'], cv=3, verbose=True)\n",
    "_ = cross_validate(SVDpp(), data, measures=['RMSE', 'MAE'], cv=3, verbose=True)"
   ]
  },
  {
   "cell_type": "code",
   "execution_count": 35,
   "id": "ec419f51",
   "metadata": {},
   "outputs": [
    {
     "name": "stdout",
     "output_type": "stream",
     "text": [
      "Evaluating RMSE, MAE of algorithm SlopeOne on 3 split(s).\n",
      "\n",
      "                  Fold 1  Fold 2  Fold 3  Mean    Std     \n",
      "RMSE (testset)    0.8684  0.8663  0.8704  0.8684  0.0017  \n",
      "MAE (testset)     0.5423  0.5423  0.5444  0.5430  0.0010  \n",
      "Fit time          0.32    0.38    0.39    0.36    0.03    \n",
      "Test time         0.30    0.31    0.47    0.36    0.08    \n",
      "Evaluating RMSE, MAE of algorithm CoClustering on 3 split(s).\n",
      "\n",
      "                  Fold 1  Fold 2  Fold 3  Mean    Std     \n",
      "RMSE (testset)    0.8416  0.8484  0.8317  0.8405  0.0069  \n",
      "MAE (testset)     0.5426  0.5441  0.5401  0.5422  0.0017  \n",
      "Fit time          4.27    4.23    4.28    4.26    0.02    \n",
      "Test time         0.19    0.35    0.20    0.25    0.07    \n",
      "Evaluating RMSE, MAE of algorithm NMF on 3 split(s).\n",
      "\n",
      "                  Fold 1  Fold 2  Fold 3  Mean    Std     \n",
      "RMSE (testset)    0.9200  0.9268  0.9245  0.9238  0.0028  \n",
      "MAE (testset)     0.7109  0.7191  0.7142  0.7148  0.0034  \n",
      "Fit time          3.05    3.04    3.06    3.05    0.01    \n",
      "Test time         0.40    0.24    0.23    0.29    0.08    \n"
     ]
    }
   ],
   "source": [
    "_ = cross_validate(SlopeOne(), data, measures=['RMSE', 'MAE'], cv=3, verbose=True)\n",
    "_ = cross_validate(CoClustering(), data, measures=['RMSE', 'MAE'], cv=3, verbose=True)\n",
    "_ = cross_validate(NMF(), data, measures=['RMSE', 'MAE'], cv=3, verbose=True)"
   ]
  },
  {
   "cell_type": "code",
   "execution_count": 41,
   "id": "ca0d52c1",
   "metadata": {},
   "outputs": [
    {
     "name": "stdout",
     "output_type": "stream",
     "text": [
      "Evaluating RMSE, MAE of algorithm NormalPredictor on 3 split(s).\n",
      "\n",
      "                  Fold 1  Fold 2  Fold 3  Mean    Std     \n",
      "RMSE (testset)    0.9034  0.8998  0.8999  0.9010  0.0017  \n",
      "MAE (testset)     0.6267  0.6220  0.6238  0.6242  0.0019  \n",
      "Fit time          0.12    0.15    0.15    0.14    0.01    \n",
      "Test time         0.34    0.18    0.32    0.28    0.07    \n",
      "Estimating biases using als...\n",
      "Estimating biases using als...\n",
      "Estimating biases using als...\n",
      "Evaluating RMSE, MAE of algorithm BaselineOnly on 3 split(s).\n",
      "\n",
      "                  Fold 1  Fold 2  Fold 3  Mean    Std     \n",
      "RMSE (testset)    0.6935  0.6913  0.6925  0.6925  0.0009  \n",
      "MAE (testset)     0.4736  0.4744  0.4735  0.4738  0.0004  \n",
      "Fit time          0.37    0.39    0.40    0.39    0.01    \n",
      "Test time         0.16    0.15    0.30    0.20    0.07    \n",
      "Computing the msd similarity matrix...\n",
      "Done computing similarity matrix.\n",
      "Computing the msd similarity matrix...\n",
      "Done computing similarity matrix.\n",
      "Computing the msd similarity matrix...\n",
      "Done computing similarity matrix.\n",
      "Evaluating RMSE, MAE of algorithm KNNWithMeans on 3 split(s).\n",
      "\n",
      "                  Fold 1  Fold 2  Fold 3  Mean    Std     \n",
      "RMSE (testset)    0.8160  0.8057  0.8138  0.8119  0.0044  \n",
      "MAE (testset)     0.5027  0.4978  0.5050  0.5018  0.0030  \n",
      "Fit time          35.27   47.32   50.27   44.29   6.49    \n",
      "Test time         4.97    6.25    5.21    5.48    0.55    \n"
     ]
    }
   ],
   "source": [
    "_ = cross_validate(NormalPredictor(), data, measures=['RMSE', 'MAE'], cv=3, verbose=True)\n",
    "_ = cross_validate(BaselineOnly(), data, measures=['RMSE', 'MAE'], cv=3, verbose=True)\n",
    "_ = cross_validate(KNNWithMeans(), data, measures=['RMSE', 'MAE'], cv=3, verbose=True)"
   ]
  },
  {
   "cell_type": "code",
   "execution_count": 6,
   "id": "db91c3af",
   "metadata": {},
   "outputs": [
    {
     "name": "stdout",
     "output_type": "stream",
     "text": [
      "0.6970477800516851\n",
      "{'n_epochs': 15, 'lr_all': 0.005}\n"
     ]
    }
   ],
   "source": [
    "param_grid = {\"n_epochs\": [5, 10, 15, 20, 25, 30], \"lr_all\": [0.002, 0.005, 0.01, 0.02]}\n",
    "gs_svd = GridSearchCV(SVD, param_grid, measures=[\"rmse\", \"mae\"], cv=5)\n",
    "gs_svd.fit(data)\n",
    "print(gs_svd.best_score[\"rmse\"])\n",
    "print(gs_svd.best_params[\"rmse\"])"
   ]
  },
  {
   "cell_type": "code",
   "execution_count": 7,
   "id": "7a1a69e0",
   "metadata": {},
   "outputs": [
    {
     "name": "stdout",
     "output_type": "stream",
     "text": [
      "RMSE: 0.7034\n"
     ]
    },
    {
     "data": {
      "text/plain": [
       "0.703407710233993"
      ]
     },
     "execution_count": 7,
     "metadata": {},
     "output_type": "execute_result"
    }
   ],
   "source": [
    "trainset, testset = train_test_split(data, random_state=78, test_size=0.2)\n",
    "pred = SVD(n_epochs=20, lr_all=0.005).fit(trainset).test(testset)\n",
    "accuracy.rmse(pred)"
   ]
  },
  {
   "cell_type": "markdown",
   "id": "ae82ca12",
   "metadata": {},
   "source": [
    "### Recommendation"
   ]
  },
  {
   "cell_type": "code",
   "execution_count": 5,
   "id": "162d7715",
   "metadata": {},
   "outputs": [],
   "source": [
    "full_trainset = data.build_full_trainset()"
   ]
  },
  {
   "cell_type": "code",
   "execution_count": 18,
   "id": "b25399af",
   "metadata": {},
   "outputs": [
    {
     "data": {
      "text/plain": [
       "<surprise.prediction_algorithms.matrix_factorization.SVD at 0x221798d7820>"
      ]
     },
     "execution_count": 18,
     "metadata": {},
     "output_type": "execute_result"
    }
   ],
   "source": [
    "svd = SVD(n_epochs=15, lr_all=0.005)\n",
    "svd.fit(full_trainset)"
   ]
  },
  {
   "cell_type": "code",
   "execution_count": 19,
   "id": "ee4f9a66",
   "metadata": {},
   "outputs": [
    {
     "name": "stdout",
     "output_type": "stream",
     "text": [
      "User ID: 13624\n",
      "Display Name: Karen Eloise\n"
     ]
    }
   ],
   "source": [
    "# causes memory errors, instead calculate anti testset for the user\n",
    "#anti_testset = full_trainset.build_anti_testset()\n",
    "anti_testset_user, user_id = surprise_helper.get_anti_testset_user(full_trainset)\n",
    "print(\"User ID:\", user_id)\n",
    "print(\"Display Name:\", rates[rates[\"user_id\"] == user_id][\"display_name\"].unique()[0])"
   ]
  },
  {
   "cell_type": "code",
   "execution_count": 20,
   "id": "84ed8c97",
   "metadata": {},
   "outputs": [],
   "source": [
    "user_pred = svd.test(anti_testset_user)"
   ]
  },
  {
   "cell_type": "code",
   "execution_count": 21,
   "id": "f08c745d",
   "metadata": {},
   "outputs": [
    {
     "data": {
      "text/html": [
       "<div>\n",
       "<style scoped>\n",
       "    .dataframe tbody tr th:only-of-type {\n",
       "        vertical-align: middle;\n",
       "    }\n",
       "\n",
       "    .dataframe tbody tr th {\n",
       "        vertical-align: top;\n",
       "    }\n",
       "\n",
       "    .dataframe thead th {\n",
       "        text-align: right;\n",
       "    }\n",
       "</style>\n",
       "<table border=\"1\" class=\"dataframe\">\n",
       "  <thead>\n",
       "    <tr style=\"text-align: right;\">\n",
       "      <th></th>\n",
       "      <th>id</th>\n",
       "      <th>title</th>\n",
       "      <th>category</th>\n",
       "      <th>course_url</th>\n",
       "    </tr>\n",
       "  </thead>\n",
       "  <tbody>\n",
       "    <tr>\n",
       "      <th>521</th>\n",
       "      <td>566284</td>\n",
       "      <td>Do Básico ao Avançado - O Curso Completo de Mi...</td>\n",
       "      <td>Office Productivity</td>\n",
       "      <td>/course/curso-excel-completo/</td>\n",
       "    </tr>\n",
       "    <tr>\n",
       "      <th>1437</th>\n",
       "      <td>1276020</td>\n",
       "      <td>Adobe Photoshop 2018 Completo - do Iniciante a...</td>\n",
       "      <td>Design</td>\n",
       "      <td>/course/photoshop-para-iniciante-o-basico/</td>\n",
       "    </tr>\n",
       "    <tr>\n",
       "      <th>1908</th>\n",
       "      <td>1680762</td>\n",
       "      <td>Curso de fotografia profissional para iniciantes</td>\n",
       "      <td>Photography &amp; Video</td>\n",
       "      <td>/course/fotografia-simples-e-direta-com-vinici...</td>\n",
       "    </tr>\n",
       "    <tr>\n",
       "      <th>1928</th>\n",
       "      <td>1694044</td>\n",
       "      <td>Hiper-Foco &amp; Hiper-Produtividade</td>\n",
       "      <td>Personal Development</td>\n",
       "      <td>/course/focoeprodutividade/</td>\n",
       "    </tr>\n",
       "    <tr>\n",
       "      <th>2077</th>\n",
       "      <td>1949732</td>\n",
       "      <td>Hiper-Memória &amp; Hiper-Aprendizagem</td>\n",
       "      <td>Personal Development</td>\n",
       "      <td>/course/hiper-memoria-hiper-aprendizagem/</td>\n",
       "    </tr>\n",
       "    <tr>\n",
       "      <th>2386</th>\n",
       "      <td>2650614</td>\n",
       "      <td>Hiper-Leitura | A Máxima Performance na Habili...</td>\n",
       "      <td>Personal Development</td>\n",
       "      <td>/course/hiper-leitura/</td>\n",
       "    </tr>\n",
       "  </tbody>\n",
       "</table>\n",
       "</div>"
      ],
      "text/plain": [
       "           id                                              title  \\\n",
       "521    566284  Do Básico ao Avançado - O Curso Completo de Mi...   \n",
       "1437  1276020  Adobe Photoshop 2018 Completo - do Iniciante a...   \n",
       "1908  1680762   Curso de fotografia profissional para iniciantes   \n",
       "1928  1694044                   Hiper-Foco & Hiper-Produtividade   \n",
       "2077  1949732                 Hiper-Memória & Hiper-Aprendizagem   \n",
       "2386  2650614  Hiper-Leitura | A Máxima Performance na Habili...   \n",
       "\n",
       "                  category                                         course_url  \n",
       "521    Office Productivity                      /course/curso-excel-completo/  \n",
       "1437                Design         /course/photoshop-para-iniciante-o-basico/  \n",
       "1908   Photography & Video  /course/fotografia-simples-e-direta-com-vinici...  \n",
       "1928  Personal Development                        /course/focoeprodutividade/  \n",
       "2077  Personal Development          /course/hiper-memoria-hiper-aprendizagem/  \n",
       "2386  Personal Development                             /course/hiper-leitura/  "
      ]
     },
     "execution_count": 21,
     "metadata": {},
     "output_type": "execute_result"
    }
   ],
   "source": [
    "courses_taken = rates[rates[\"user_id\"] == user_id][\"course_id\"]\n",
    "courses_taken_df = courses[courses[\"id\"].isin(courses_taken)]\n",
    "courses_taken_df"
   ]
  },
  {
   "cell_type": "code",
   "execution_count": 22,
   "id": "ff7dcd2b",
   "metadata": {},
   "outputs": [
    {
     "data": {
      "text/html": [
       "<div>\n",
       "<style scoped>\n",
       "    .dataframe tbody tr th:only-of-type {\n",
       "        vertical-align: middle;\n",
       "    }\n",
       "\n",
       "    .dataframe tbody tr th {\n",
       "        vertical-align: top;\n",
       "    }\n",
       "\n",
       "    .dataframe thead th {\n",
       "        text-align: right;\n",
       "    }\n",
       "</style>\n",
       "<table border=\"1\" class=\"dataframe\">\n",
       "  <thead>\n",
       "    <tr style=\"text-align: right;\">\n",
       "      <th></th>\n",
       "      <th>id</th>\n",
       "      <th>title</th>\n",
       "      <th>category</th>\n",
       "      <th>course_url</th>\n",
       "    </tr>\n",
       "  </thead>\n",
       "  <tbody>\n",
       "    <tr>\n",
       "      <th>1474</th>\n",
       "      <td>1309058</td>\n",
       "      <td>Programação Shell Script - Automatizando Rotin...</td>\n",
       "      <td>IT &amp; Software</td>\n",
       "      <td>/course/programacao-shell-script/</td>\n",
       "    </tr>\n",
       "    <tr>\n",
       "      <th>2211</th>\n",
       "      <td>2237864</td>\n",
       "      <td>Curso Forex Completo de A à Z</td>\n",
       "      <td>Finance &amp; Accounting</td>\n",
       "      <td>/course/curso_forex_exodustrading/</td>\n",
       "    </tr>\n",
       "    <tr>\n",
       "      <th>2307</th>\n",
       "      <td>2431900</td>\n",
       "      <td>Dart: De cero hasta los detalles</td>\n",
       "      <td>Development</td>\n",
       "      <td>/course/dart-de-cero-hasta-los-detalles/</td>\n",
       "    </tr>\n",
       "    <tr>\n",
       "      <th>2354</th>\n",
       "      <td>2559100</td>\n",
       "      <td>JavaScript : la formation ULTIME</td>\n",
       "      <td>Development</td>\n",
       "      <td>/course/javascript-la-formation-ultime/</td>\n",
       "    </tr>\n",
       "    <tr>\n",
       "      <th>2377</th>\n",
       "      <td>2634160</td>\n",
       "      <td>Básico ao Avançado - O curso Completo de Macro...</td>\n",
       "      <td>Office Productivity</td>\n",
       "      <td>/course/descomplicando-macros-vba-excel/</td>\n",
       "    </tr>\n",
       "  </tbody>\n",
       "</table>\n",
       "</div>"
      ],
      "text/plain": [
       "           id                                              title  \\\n",
       "1474  1309058  Programação Shell Script - Automatizando Rotin...   \n",
       "2211  2237864                      Curso Forex Completo de A à Z   \n",
       "2307  2431900                   Dart: De cero hasta los detalles   \n",
       "2354  2559100                   JavaScript : la formation ULTIME   \n",
       "2377  2634160  Básico ao Avançado - O curso Completo de Macro...   \n",
       "\n",
       "                  category                                course_url  \n",
       "1474         IT & Software         /course/programacao-shell-script/  \n",
       "2211  Finance & Accounting        /course/curso_forex_exodustrading/  \n",
       "2307           Development  /course/dart-de-cero-hasta-los-detalles/  \n",
       "2354           Development   /course/javascript-la-formation-ultime/  \n",
       "2377   Office Productivity  /course/descomplicando-macros-vba-excel/  "
      ]
     },
     "execution_count": 22,
     "metadata": {},
     "output_type": "execute_result"
    }
   ],
   "source": [
    "user_pred_df = pd.DataFrame(user_pred)\n",
    "user_pred_df.sort_values(by=['est'],inplace=True,ascending = False)\n",
    "recom_list = user_pred_df.head(5)['iid'].to_list()\n",
    "courses[courses[\"id\"].isin(recom_list)]"
   ]
  },
  {
   "cell_type": "code",
   "execution_count": 14,
   "id": "fc1187d1",
   "metadata": {},
   "outputs": [],
   "source": [
    "#dump.dump(\"svd.sav\", algo=svd, verbose=1)"
   ]
  },
  {
   "cell_type": "markdown",
   "id": "d785f414",
   "metadata": {},
   "source": [
    "### Similar Courses with KNN"
   ]
  },
  {
   "cell_type": "code",
   "execution_count": 23,
   "id": "67c090dc",
   "metadata": {},
   "outputs": [
    {
     "name": "stdout",
     "output_type": "stream",
     "text": [
      "Computing the msd similarity matrix...\n",
      "Done computing similarity matrix.\n",
      "Computing the msd similarity matrix...\n",
      "Done computing similarity matrix.\n",
      "Computing the msd similarity matrix...\n",
      "Done computing similarity matrix.\n",
      "Computing the msd similarity matrix...\n",
      "Done computing similarity matrix.\n",
      "Computing the msd similarity matrix...\n",
      "Done computing similarity matrix.\n",
      "Computing the msd similarity matrix...\n",
      "Done computing similarity matrix.\n",
      "Computing the msd similarity matrix...\n",
      "Done computing similarity matrix.\n",
      "Computing the msd similarity matrix...\n",
      "Done computing similarity matrix.\n",
      "Computing the msd similarity matrix...\n",
      "Done computing similarity matrix.\n",
      "0.7915462899484954\n",
      "{'k': 20}\n"
     ]
    }
   ],
   "source": [
    "param_grid = {\"k\": [20, 40, 60]}\n",
    "gs_knn = GridSearchCV(KNNBasic, param_grid, measures=[\"rmse\", \"mae\"], cv=3)\n",
    "gs_knn.fit(data)\n",
    "print(gs_knn.best_score[\"rmse\"])\n",
    "print(gs_knn.best_params[\"rmse\"])"
   ]
  },
  {
   "cell_type": "code",
   "execution_count": 6,
   "id": "dc43bc17",
   "metadata": {},
   "outputs": [
    {
     "name": "stdout",
     "output_type": "stream",
     "text": [
      "Computing the cosine similarity matrix...\n",
      "Done computing similarity matrix.\n"
     ]
    },
    {
     "data": {
      "text/plain": [
       "<surprise.prediction_algorithms.knns.KNNBasic at 0x180f4c5d1f0>"
      ]
     },
     "execution_count": 6,
     "metadata": {},
     "output_type": "execute_result"
    }
   ],
   "source": [
    "knn = KNNBasic(k=20, sim_options={\"name\": \"cosine\", \"user_based\": False})\n",
    "knn.fit(full_trainset)"
   ]
  },
  {
   "cell_type": "code",
   "execution_count": 10,
   "id": "f451a250",
   "metadata": {},
   "outputs": [],
   "source": [
    "similar_courses_raw_ids, course_id = surprise_helper.get_nearest_neighbors(full_trainset, knn)"
   ]
  },
  {
   "cell_type": "code",
   "execution_count": 11,
   "id": "1ce4ee7a",
   "metadata": {},
   "outputs": [
    {
     "data": {
      "text/html": [
       "<div>\n",
       "<style scoped>\n",
       "    .dataframe tbody tr th:only-of-type {\n",
       "        vertical-align: middle;\n",
       "    }\n",
       "\n",
       "    .dataframe tbody tr th {\n",
       "        vertical-align: top;\n",
       "    }\n",
       "\n",
       "    .dataframe thead th {\n",
       "        text-align: right;\n",
       "    }\n",
       "</style>\n",
       "<table border=\"1\" class=\"dataframe\">\n",
       "  <thead>\n",
       "    <tr style=\"text-align: right;\">\n",
       "      <th></th>\n",
       "      <th>id</th>\n",
       "      <th>title</th>\n",
       "      <th>category</th>\n",
       "      <th>course_url</th>\n",
       "    </tr>\n",
       "  </thead>\n",
       "  <tbody>\n",
       "    <tr>\n",
       "      <th>2315</th>\n",
       "      <td>2462140</td>\n",
       "      <td>Learn JAVA Programming - Beginner to Master</td>\n",
       "      <td>Development</td>\n",
       "      <td>/course/java-se-programming/</td>\n",
       "    </tr>\n",
       "  </tbody>\n",
       "</table>\n",
       "</div>"
      ],
      "text/plain": [
       "           id                                        title     category  \\\n",
       "2315  2462140  Learn JAVA Programming - Beginner to Master  Development   \n",
       "\n",
       "                        course_url  \n",
       "2315  /course/java-se-programming/  "
      ]
     },
     "execution_count": 11,
     "metadata": {},
     "output_type": "execute_result"
    }
   ],
   "source": [
    "courses[courses[\"id\"]==course_id]"
   ]
  },
  {
   "cell_type": "code",
   "execution_count": 12,
   "id": "ee601ec8",
   "metadata": {},
   "outputs": [
    {
     "data": {
      "text/html": [
       "<div>\n",
       "<style scoped>\n",
       "    .dataframe tbody tr th:only-of-type {\n",
       "        vertical-align: middle;\n",
       "    }\n",
       "\n",
       "    .dataframe tbody tr th {\n",
       "        vertical-align: top;\n",
       "    }\n",
       "\n",
       "    .dataframe thead th {\n",
       "        text-align: right;\n",
       "    }\n",
       "</style>\n",
       "<table border=\"1\" class=\"dataframe\">\n",
       "  <thead>\n",
       "    <tr style=\"text-align: right;\">\n",
       "      <th></th>\n",
       "      <th>id</th>\n",
       "      <th>title</th>\n",
       "      <th>category</th>\n",
       "      <th>course_url</th>\n",
       "    </tr>\n",
       "  </thead>\n",
       "  <tbody>\n",
       "    <tr>\n",
       "      <th>667</th>\n",
       "      <td>689956</td>\n",
       "      <td>Boost Your Excel Skills: Crash Course w/ Downl...</td>\n",
       "      <td>Office Productivity</td>\n",
       "      <td>/course/excel-tutorial-excel-training/</td>\n",
       "    </tr>\n",
       "    <tr>\n",
       "      <th>1145</th>\n",
       "      <td>1057142</td>\n",
       "      <td>The Complete VMware vSphere 7: Beginner to Adv...</td>\n",
       "      <td>IT &amp; Software</td>\n",
       "      <td>/course/vmware-vsphere/</td>\n",
       "    </tr>\n",
       "    <tr>\n",
       "      <th>1431</th>\n",
       "      <td>1272092</td>\n",
       "      <td>Karuna Ki Reiki Master Training</td>\n",
       "      <td>Lifestyle</td>\n",
       "      <td>/course/karuna-ki-reiki-master-training/</td>\n",
       "    </tr>\n",
       "    <tr>\n",
       "      <th>1626</th>\n",
       "      <td>1400814</td>\n",
       "      <td>The Complete Final Cut Pro X Course Beginner T...</td>\n",
       "      <td>Photography &amp; Video</td>\n",
       "      <td>/course/finalcutproxcourse/</td>\n",
       "    </tr>\n",
       "    <tr>\n",
       "      <th>1893</th>\n",
       "      <td>1661222</td>\n",
       "      <td>Python Data Analysis &amp; Visualization Bootcamp</td>\n",
       "      <td>Business</td>\n",
       "      <td>/course/learn-data-analytics-complete-bootcamp...</td>\n",
       "    </tr>\n",
       "  </tbody>\n",
       "</table>\n",
       "</div>"
      ],
      "text/plain": [
       "           id                                              title  \\\n",
       "667    689956  Boost Your Excel Skills: Crash Course w/ Downl...   \n",
       "1145  1057142  The Complete VMware vSphere 7: Beginner to Adv...   \n",
       "1431  1272092                    Karuna Ki Reiki Master Training   \n",
       "1626  1400814  The Complete Final Cut Pro X Course Beginner T...   \n",
       "1893  1661222      Python Data Analysis & Visualization Bootcamp   \n",
       "\n",
       "                 category                                         course_url  \n",
       "667   Office Productivity             /course/excel-tutorial-excel-training/  \n",
       "1145        IT & Software                            /course/vmware-vsphere/  \n",
       "1431            Lifestyle           /course/karuna-ki-reiki-master-training/  \n",
       "1626  Photography & Video                        /course/finalcutproxcourse/  \n",
       "1893             Business  /course/learn-data-analytics-complete-bootcamp...  "
      ]
     },
     "execution_count": 12,
     "metadata": {},
     "output_type": "execute_result"
    }
   ],
   "source": [
    "courses[courses[\"id\"].isin(similar_courses_raw_ids)]"
   ]
  },
  {
   "cell_type": "code",
   "execution_count": null,
   "id": "a45e6371",
   "metadata": {},
   "outputs": [],
   "source": [
    "#dump.dump(\"knn.sav\", algo=knn, verbose=1)"
   ]
  }
 ],
 "metadata": {
  "kernelspec": {
   "display_name": "Python 3 (ipykernel)",
   "language": "python",
   "name": "python3"
  },
  "language_info": {
   "codemirror_mode": {
    "name": "ipython",
    "version": 3
   },
   "file_extension": ".py",
   "mimetype": "text/x-python",
   "name": "python",
   "nbconvert_exporter": "python",
   "pygments_lexer": "ipython3",
   "version": "3.9.13"
  }
 },
 "nbformat": 4,
 "nbformat_minor": 5
}
