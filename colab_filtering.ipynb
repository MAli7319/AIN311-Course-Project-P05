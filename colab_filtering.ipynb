{
 "cells": [
  {
   "cell_type": "markdown",
   "id": "39dbb76b-e6c3-4488-9f5f-eacd82444a3d",
   "metadata": {},
   "source": [
    "# Collaborative Filtering with [Surprise](https://surpriselib.com/) Toolkit"
   ]
  },
  {
   "cell_type": "code",
   "execution_count": 1,
   "id": "8f1be360",
   "metadata": {},
   "outputs": [],
   "source": [
    "import pandas as pd\n",
    "import numpy as np\n",
    "import random\n",
    "from surprise import Dataset, Reader, accuracy, dump\n",
    "from surprise import KNNBasic, KNNWithMeans, KNNWithZScore, KNNBaseline\n",
    "from surprise import SVD, SVDpp, BaselineOnly\n",
    "from surprise.model_selection import cross_validate, train_test_split, GridSearchCV\n",
    "import surprise_helper"
   ]
  },
  {
   "cell_type": "markdown",
   "id": "e75696ec",
   "metadata": {},
   "source": [
    "## Preparation"
   ]
  },
  {
   "cell_type": "code",
   "execution_count": 2,
   "id": "ff0ee243",
   "metadata": {},
   "outputs": [
    {
     "data": {
      "text/html": [
       "<div>\n",
       "<style scoped>\n",
       "    .dataframe tbody tr th:only-of-type {\n",
       "        vertical-align: middle;\n",
       "    }\n",
       "\n",
       "    .dataframe tbody tr th {\n",
       "        vertical-align: top;\n",
       "    }\n",
       "\n",
       "    .dataframe thead th {\n",
       "        text-align: right;\n",
       "    }\n",
       "</style>\n",
       "<table border=\"1\" class=\"dataframe\">\n",
       "  <thead>\n",
       "    <tr style=\"text-align: right;\">\n",
       "      <th></th>\n",
       "      <th>user_id</th>\n",
       "      <th>display_name</th>\n",
       "      <th>course_id</th>\n",
       "      <th>rate</th>\n",
       "    </tr>\n",
       "  </thead>\n",
       "  <tbody>\n",
       "    <tr>\n",
       "      <th>0</th>\n",
       "      <td>14177</td>\n",
       "      <td>Jacynthe</td>\n",
       "      <td>1055720</td>\n",
       "      <td>5.0</td>\n",
       "    </tr>\n",
       "    <tr>\n",
       "      <th>1</th>\n",
       "      <td>24654</td>\n",
       "      <td>Norval</td>\n",
       "      <td>1055720</td>\n",
       "      <td>5.0</td>\n",
       "    </tr>\n",
       "    <tr>\n",
       "      <th>2</th>\n",
       "      <td>14484</td>\n",
       "      <td>Jany</td>\n",
       "      <td>1055720</td>\n",
       "      <td>4.0</td>\n",
       "    </tr>\n",
       "  </tbody>\n",
       "</table>\n",
       "</div>"
      ],
      "text/plain": [
       "   user_id display_name  course_id  rate\n",
       "0    14177     Jacynthe    1055720   5.0\n",
       "1    24654       Norval    1055720   5.0\n",
       "2    14484         Jany    1055720   4.0"
      ]
     },
     "execution_count": 2,
     "metadata": {},
     "output_type": "execute_result"
    }
   ],
   "source": [
    "rates = pd.read_csv(\"rates.csv\")\n",
    "rates.head(3)"
   ]
  },
  {
   "cell_type": "code",
   "execution_count": 3,
   "id": "15ccf8ed",
   "metadata": {},
   "outputs": [
    {
     "data": {
      "text/html": [
       "<div>\n",
       "<style scoped>\n",
       "    .dataframe tbody tr th:only-of-type {\n",
       "        vertical-align: middle;\n",
       "    }\n",
       "\n",
       "    .dataframe tbody tr th {\n",
       "        vertical-align: top;\n",
       "    }\n",
       "\n",
       "    .dataframe thead th {\n",
       "        text-align: right;\n",
       "    }\n",
       "</style>\n",
       "<table border=\"1\" class=\"dataframe\">\n",
       "  <thead>\n",
       "    <tr style=\"text-align: right;\">\n",
       "      <th></th>\n",
       "      <th>id</th>\n",
       "      <th>title</th>\n",
       "      <th>category</th>\n",
       "      <th>course_url</th>\n",
       "    </tr>\n",
       "  </thead>\n",
       "  <tbody>\n",
       "    <tr>\n",
       "      <th>0</th>\n",
       "      <td>9287</td>\n",
       "      <td>Microsoft Excel 2010 Course Beginners/ Interme...</td>\n",
       "      <td>Office Productivity</td>\n",
       "      <td>/course/excel-tutorial/</td>\n",
       "    </tr>\n",
       "    <tr>\n",
       "      <th>1</th>\n",
       "      <td>9385</td>\n",
       "      <td>Microsoft Excel 2010: Advanced Training</td>\n",
       "      <td>Office Productivity</td>\n",
       "      <td>/course/advanced-excel/</td>\n",
       "    </tr>\n",
       "    <tr>\n",
       "      <th>2</th>\n",
       "      <td>9711</td>\n",
       "      <td>Beginner PHP and MySQL Tutorial</td>\n",
       "      <td>Development</td>\n",
       "      <td>/course/php-mysql-tutorial/</td>\n",
       "    </tr>\n",
       "  </tbody>\n",
       "</table>\n",
       "</div>"
      ],
      "text/plain": [
       "     id                                              title  \\\n",
       "0  9287  Microsoft Excel 2010 Course Beginners/ Interme...   \n",
       "1  9385            Microsoft Excel 2010: Advanced Training   \n",
       "2  9711                    Beginner PHP and MySQL Tutorial   \n",
       "\n",
       "              category                   course_url  \n",
       "0  Office Productivity      /course/excel-tutorial/  \n",
       "1  Office Productivity      /course/advanced-excel/  \n",
       "2          Development  /course/php-mysql-tutorial/  "
      ]
     },
     "execution_count": 3,
     "metadata": {},
     "output_type": "execute_result"
    }
   ],
   "source": [
    "courses = pd.read_csv(\"courses.csv\")\n",
    "courses.head(3)"
   ]
  },
  {
   "cell_type": "code",
   "execution_count": 4,
   "id": "3a9c3093",
   "metadata": {},
   "outputs": [],
   "source": [
    "reader = Reader(rating_scale=(0, 5))\n",
    "data = Dataset.load_from_df(rates[[\"user_id\", \"course_id\", \"rate\"]], reader)"
   ]
  },
  {
   "cell_type": "markdown",
   "id": "25e31d38",
   "metadata": {
    "jp-MarkdownHeadingCollapsed": true,
    "tags": []
   },
   "source": [
    "## Model Selection"
   ]
  },
  {
   "cell_type": "markdown",
   "id": "8e0bb07a-c3b2-47bc-a078-178546667077",
   "metadata": {},
   "source": [
    "### Basic Collaborative Filtering Algorithms\n",
    "#### BaselineOnly\n",
    "\n",
    "$baseline = b_{ui} = \\text{average rating of all courses + bias of user u + bias of item i} $\n",
    "\n",
    "$b_u$ and $b_i$ minimized by using objective function."
   ]
  },
  {
   "cell_type": "code",
   "execution_count": 5,
   "id": "b6e30fd0-a20c-4319-8705-38f2d48ed06e",
   "metadata": {},
   "outputs": [
    {
     "name": "stdout",
     "output_type": "stream",
     "text": [
      "Evaluating RMSE, MAE of algorithm BaselineOnly on 3 split(s).\n",
      "\n",
      "                  Fold 1  Fold 2  Fold 3  Mean    Std     \n",
      "RMSE (testset)    0.6919  0.6939  0.6884  0.6914  0.0023  \n",
      "MAE (testset)     0.4729  0.4753  0.4727  0.4736  0.0012  \n",
      "Fit time          0.51    0.58    0.61    0.57    0.04    \n",
      "Test time         0.28    0.38    0.35    0.34    0.04    \n"
     ]
    }
   ],
   "source": [
    "_ = cross_validate(BaselineOnly(verbose=False), data, measures=['RMSE', 'MAE'], cv=3, verbose=True)"
   ]
  },
  {
   "cell_type": "markdown",
   "id": "9f0b2e79-a759-45d8-a606-99da7a8db8ee",
   "metadata": {
    "tags": []
   },
   "source": [
    "### Memory Based Collaborative Filtering"
   ]
  },
  {
   "cell_type": "markdown",
   "id": "abf15105-18a7-4aed-a6f3-9b4eec55752f",
   "metadata": {
    "tags": []
   },
   "source": [
    "#### Basic KNN\n",
    "\n",
    "Simple k-NN method by using similarity metric.\n",
    "\n",
    "User based: Example -> users similar to you bought Y\n",
    "\n",
    "$\\large est_{ui} = \\frac{\\text{sum_nearest_k_v(similarity between user u and v * rate given to item i by user v)}}{\\text{sum_nearest_k_v(similarity between user u and v)}}$\n",
    "\n",
    "Item based: Example ->  users who bought X, also bought Y\n",
    "\n",
    "$\\large est_{ui} = \\frac{\\text{sum_nearest_k_j(similarity between item i and j * rate given to item j by user u)}}{\\text{sum_nearest_k_j(similarity between item i and j)}}$"
   ]
  },
  {
   "cell_type": "code",
   "execution_count": 6,
   "id": "5e050972",
   "metadata": {},
   "outputs": [
    {
     "name": "stdout",
     "output_type": "stream",
     "text": [
      "Evaluating RMSE, MAE of algorithm KNNBasic on 3 split(s).\n",
      "\n",
      "                  Fold 1  Fold 2  Fold 3  Mean    Std     \n",
      "RMSE (testset)    0.7971  0.8081  0.7949  0.8000  0.0058  \n",
      "MAE (testset)     0.4737  0.4786  0.4713  0.4745  0.0030  \n",
      "Fit time          0.15    0.20    0.20    0.19    0.02    \n",
      "Test time         0.70    0.73    0.69    0.71    0.02    \n",
      "Evaluating RMSE, MAE of algorithm KNNBasic on 3 split(s).\n",
      "\n",
      "                  Fold 1  Fold 2  Fold 3  Mean    Std     \n",
      "RMSE (testset)    0.7994  0.7972  0.7928  0.7965  0.0028  \n",
      "MAE (testset)     0.4748  0.4745  0.4735  0.4743  0.0006  \n",
      "Fit time          0.26    0.30    0.31    0.29    0.02    \n",
      "Test time         0.63    0.72    0.70    0.68    0.04    \n",
      "Evaluating RMSE, MAE of algorithm KNNBasic on 3 split(s).\n",
      "\n",
      "                  Fold 1  Fold 2  Fold 3  Mean    Std     \n",
      "RMSE (testset)    0.7519  0.7516  0.7500  0.7512  0.0008  \n",
      "MAE (testset)     0.4867  0.4874  0.4869  0.4870  0.0003  \n",
      "Fit time          0.34    0.42    0.39    0.38    0.03    \n",
      "Test time         0.64    0.73    0.66    0.68    0.04    \n",
      "Evaluating RMSE, MAE of algorithm KNNBasic on 3 split(s).\n",
      "\n",
      "                  Fold 1  Fold 2  Fold 3  Mean    Std     \n",
      "RMSE (testset)    0.7693  0.7737  0.7730  0.7720  0.0020  \n",
      "MAE (testset)     0.4788  0.4823  0.4823  0.4811  0.0016  \n",
      "Fit time          0.79    0.85    0.87    0.84    0.03    \n",
      "Test time         0.65    0.63    0.64    0.64    0.01    \n"
     ]
    }
   ],
   "source": [
    "_ = cross_validate(KNNBasic(sim_options={\"name\": \"msd\", \"user_based\": False}, verbose=False), data, measures=['RMSE', 'MAE'], cv=3, verbose=True)\n",
    "_ = cross_validate(KNNBasic(sim_options={\"name\": \"cosine\", \"user_based\": False}, verbose=False), data, measures=['RMSE', 'MAE'], cv=3, verbose=True)\n",
    "_ = cross_validate(KNNBasic(sim_options={\"name\": \"pearson\", \"user_based\": False}, verbose=False), data, measures=['RMSE', 'MAE'], cv=3, verbose=True)\n",
    "_ = cross_validate(KNNBasic(sim_options={\"name\": \"pearson_baseline\", \"user_based\": False}, verbose=False), data, measures=['RMSE', 'MAE'], cv=3, verbose=True)"
   ]
  },
  {
   "cell_type": "markdown",
   "id": "dc78edb3-6147-4d77-819c-edb34a1de222",
   "metadata": {},
   "source": [
    "#### KNN with Means\n",
    "\n",
    "A k-NN method similar to previous one but takes into account the mean ratings of each user.\n",
    "\n",
    "User based:\n",
    "\n",
    "$\\large est_{ui} = \\text{mean rating of user u} + \\frac{\\text{sum_nearest_k_v(similarity between user u and v * (rate given to item i by user v - mean rating of user v)}}{\\text{sum_nearest_k_v(similarity between user u and v)}}$\n",
    "\n",
    "Item based:\n",
    "\n",
    "$\\large est_{ui} = \\text{mean rating of item i} + \\frac{\\text{sum_nearest_k_j(similarity between item i and j * (rate given to item j by user u - mean rating of item j))}}{\\text{sum_nearest_k_j(similarity between item i and j)}}$"
   ]
  },
  {
   "cell_type": "code",
   "execution_count": 7,
   "id": "b43d288a-c172-46ab-99ba-6807adc8b503",
   "metadata": {},
   "outputs": [
    {
     "name": "stdout",
     "output_type": "stream",
     "text": [
      "Evaluating RMSE, MAE of algorithm KNNWithMeans on 3 split(s).\n",
      "\n",
      "                  Fold 1  Fold 2  Fold 3  Mean    Std     \n",
      "RMSE (testset)    0.7830  0.7834  0.7812  0.7825  0.0010  \n",
      "MAE (testset)     0.4827  0.4835  0.4819  0.4827  0.0007  \n",
      "Fit time          0.20    0.25    0.26    0.23    0.03    \n",
      "Test time         0.74    0.74    0.69    0.72    0.03    \n",
      "Evaluating RMSE, MAE of algorithm KNNWithMeans on 3 split(s).\n",
      "\n",
      "                  Fold 1  Fold 2  Fold 3  Mean    Std     \n",
      "RMSE (testset)    0.7787  0.7795  0.7812  0.7798  0.0010  \n",
      "MAE (testset)     0.4815  0.4821  0.4820  0.4818  0.0003  \n",
      "Fit time          0.31    0.35    0.37    0.34    0.03    \n",
      "Test time         0.75    0.76    0.76    0.76    0.00    \n",
      "Evaluating RMSE, MAE of algorithm KNNWithMeans on 3 split(s).\n",
      "\n",
      "                  Fold 1  Fold 2  Fold 3  Mean    Std     \n",
      "RMSE (testset)    0.7391  0.7392  0.7439  0.7407  0.0022  \n",
      "MAE (testset)     0.4811  0.4806  0.4826  0.4814  0.0009  \n",
      "Fit time          0.38    0.43    0.44    0.42    0.03    \n",
      "Test time         0.65    0.72    0.65    0.67    0.03    \n",
      "Evaluating RMSE, MAE of algorithm KNNWithMeans on 3 split(s).\n",
      "\n",
      "                  Fold 1  Fold 2  Fold 3  Mean    Std     \n",
      "RMSE (testset)    0.7535  0.7566  0.7525  0.7542  0.0017  \n",
      "MAE (testset)     0.4805  0.4803  0.4797  0.4802  0.0004  \n",
      "Fit time          0.86    0.89    0.92    0.89    0.02    \n",
      "Test time         0.59    0.63    0.60    0.60    0.02    \n"
     ]
    }
   ],
   "source": [
    "_ = cross_validate(KNNWithMeans(sim_options={\"name\": \"msd\", \"user_based\": False}, verbose=False), data, measures=['RMSE', 'MAE'], cv=3, verbose=True)\n",
    "_ = cross_validate(KNNWithMeans(sim_options={\"name\": \"cosine\", \"user_based\": False}, verbose=False), data, measures=['RMSE', 'MAE'], cv=3, verbose=True)\n",
    "_ = cross_validate(KNNWithMeans(sim_options={\"name\": \"pearson\", \"user_based\": False}, verbose=False), data, measures=['RMSE', 'MAE'], cv=3, verbose=True)\n",
    "_ = cross_validate(KNNWithMeans(sim_options={\"name\": \"pearson_baseline\", \"user_based\": False}, verbose=False), data, measures=['RMSE', 'MAE'], cv=3, verbose=True)"
   ]
  },
  {
   "cell_type": "markdown",
   "id": "ba0839dd-c3e2-495d-9a92-2f03a8900e93",
   "metadata": {},
   "source": [
    "#### KNN with Z Score\n",
    "\n",
    "A k-NN method similar to basic k-NN one but takes into account the z-score normalization of each user.\n",
    "\n",
    "User based:\n",
    "\n",
    "$\\large est_{ui} = \\text{mean rating of user u} + \\text{std of user u} * \\frac{\\text{sum_nearest_k_v(similarity between user u and v * (rate given to item i by user v - mean rating of user v) / std of user v)}}{\\text{sum_nearest_k_v(similarity between user u and v)}}$\n",
    "\n",
    "Item based:\n",
    "\n",
    "$\\large est_{ui} = \\text{mean rating of item i} + \\text{std of item i} * \\frac{\\text{sum_nearest_k_j(similarity between item i and j * (rate given to item j by user u - mean rating of item j) / std of item j)}}{\\text{sum_nearest_k_j(similarity between item i and j)}}$"
   ]
  },
  {
   "cell_type": "code",
   "execution_count": 8,
   "id": "2a421b3b-e7e0-41cf-89c7-d158779a7c4d",
   "metadata": {},
   "outputs": [
    {
     "name": "stdout",
     "output_type": "stream",
     "text": [
      "Evaluating RMSE, MAE of algorithm KNNWithZScore on 3 split(s).\n",
      "\n",
      "                  Fold 1  Fold 2  Fold 3  Mean    Std     \n",
      "RMSE (testset)    0.7924  0.7965  0.7914  0.7935  0.0022  \n",
      "MAE (testset)     0.4795  0.4809  0.4772  0.4792  0.0015  \n",
      "Fit time          0.33    0.37    0.38    0.36    0.02    \n",
      "Test time         0.79    0.77    0.79    0.79    0.01    \n",
      "Evaluating RMSE, MAE of algorithm KNNWithZScore on 3 split(s).\n",
      "\n",
      "                  Fold 1  Fold 2  Fold 3  Mean    Std     \n",
      "RMSE (testset)    0.7931  0.7858  0.7946  0.7911  0.0038  \n",
      "MAE (testset)     0.4814  0.4780  0.4800  0.4798  0.0014  \n",
      "Fit time          0.45    0.48    0.50    0.48    0.02    \n",
      "Test time         0.78    0.77    0.72    0.76    0.03    \n",
      "Evaluating RMSE, MAE of algorithm KNNWithZScore on 3 split(s).\n",
      "\n",
      "                  Fold 1  Fold 2  Fold 3  Mean    Std     \n",
      "RMSE (testset)    0.7437  0.7424  0.7413  0.7425  0.0010  \n",
      "MAE (testset)     0.4806  0.4790  0.4807  0.4801  0.0008  \n",
      "Fit time          0.51    0.59    0.56    0.55    0.03    \n",
      "Test time         0.71    0.69    0.72    0.71    0.01    \n",
      "Evaluating RMSE, MAE of algorithm KNNWithZScore on 3 split(s).\n",
      "\n",
      "                  Fold 1  Fold 2  Fold 3  Mean    Std     \n",
      "RMSE (testset)    0.7623  0.7617  0.7590  0.7610  0.0014  \n",
      "MAE (testset)     0.4810  0.4799  0.4787  0.4799  0.0009  \n",
      "Fit time          0.97    1.01    1.03    1.01    0.02    \n",
      "Test time         0.62    0.64    0.60    0.62    0.02    \n"
     ]
    }
   ],
   "source": [
    "_ = cross_validate(KNNWithZScore(sim_options={\"name\": \"msd\", \"user_based\": False}, verbose=False), data, measures=['RMSE', 'MAE'], cv=3, verbose=True)\n",
    "_ = cross_validate(KNNWithZScore(sim_options={\"name\": \"cosine\", \"user_based\": False}, verbose=False), data, measures=['RMSE', 'MAE'], cv=3, verbose=True)\n",
    "_ = cross_validate(KNNWithZScore(sim_options={\"name\": \"pearson\", \"user_based\": False}, verbose=False), data, measures=['RMSE', 'MAE'], cv=3, verbose=True)\n",
    "_ = cross_validate(KNNWithZScore(sim_options={\"name\": \"pearson_baseline\", \"user_based\": False}, verbose=False), data, measures=['RMSE', 'MAE'], cv=3, verbose=True)"
   ]
  },
  {
   "cell_type": "markdown",
   "id": "09ba560d-3944-44c9-a86c-35d8c94dfd4c",
   "metadata": {},
   "source": [
    "#### KNN with Baseline\n",
    "\n",
    "A k-NN method similar to basic k-NN one but takes into account a *baseline* rating.\n",
    "\n",
    "$baseline = b_{ui} = \\text{average rating of all courses + bias of user u + bias of item i} $\n",
    "\n",
    "User based:\n",
    "\n",
    "$\\large est_{ui} = \\text{baseline rating of user u to item i} + \\frac{\\text{sum_nearest_k_v(similarity between user u and v * (rate given to item i by user v - baseline rating of user v to item i))}}{\\text{sum_nearest_k_v(similarity between user u and v)}}$\n",
    "\n",
    "Item based:\n",
    "\n",
    "$\\large est_{ui} = \\text{baseline rating of user u to item i} + \\frac{\\text{sum_nearest_k_j(similarity between item i and j * (rate given to item j by user u - baseline rating of user u to item j))}}{\\text{sum_nearest_k_j(similarity between item i and j)}}$"
   ]
  },
  {
   "cell_type": "code",
   "execution_count": 9,
   "id": "23336397-4720-4e5a-8c2e-151b0fce2d1f",
   "metadata": {},
   "outputs": [
    {
     "name": "stdout",
     "output_type": "stream",
     "text": [
      "Evaluating RMSE, MAE of algorithm KNNBaseline on 3 split(s).\n",
      "\n",
      "                  Fold 1  Fold 2  Fold 3  Mean    Std     \n",
      "RMSE (testset)    0.7764  0.7775  0.7845  0.7795  0.0036  \n",
      "MAE (testset)     0.4774  0.4778  0.4804  0.4785  0.0014  \n",
      "Fit time          0.70    0.72    0.74    0.72    0.01    \n",
      "Test time         0.80    0.81    0.80    0.80    0.01    \n",
      "Evaluating RMSE, MAE of algorithm KNNBaseline on 3 split(s).\n",
      "\n",
      "                  Fold 1  Fold 2  Fold 3  Mean    Std     \n",
      "RMSE (testset)    0.7772  0.7768  0.7743  0.7761  0.0013  \n",
      "MAE (testset)     0.4789  0.4781  0.4758  0.4776  0.0013  \n",
      "Fit time          0.79    0.84    0.83    0.82    0.02    \n",
      "Test time         0.80    0.79    0.73    0.78    0.03    \n",
      "Evaluating RMSE, MAE of algorithm KNNBaseline on 3 split(s).\n",
      "\n",
      "                  Fold 1  Fold 2  Fold 3  Mean    Std     \n",
      "RMSE (testset)    0.7399  0.7312  0.7319  0.7344  0.0039  \n",
      "MAE (testset)     0.4768  0.4733  0.4726  0.4742  0.0018  \n",
      "Fit time          0.86    0.93    0.94    0.91    0.03    \n",
      "Test time         0.72    0.71    0.71    0.71    0.01    \n",
      "Evaluating RMSE, MAE of algorithm KNNBaseline on 3 split(s).\n",
      "\n",
      "                  Fold 1  Fold 2  Fold 3  Mean    Std     \n",
      "RMSE (testset)    0.7443  0.7562  0.7502  0.7502  0.0048  \n",
      "MAE (testset)     0.4710  0.4775  0.4741  0.4742  0.0026  \n",
      "Fit time          0.78    0.85    0.85    0.83    0.03    \n",
      "Test time         0.72    0.69    0.67    0.69    0.02    \n"
     ]
    }
   ],
   "source": [
    "_ = cross_validate(KNNBaseline(sim_options={\"name\": \"msd\", \"user_based\": False}, verbose=False), data, measures=['RMSE', 'MAE'], cv=3, verbose=True)\n",
    "_ = cross_validate(KNNBaseline(sim_options={\"name\": \"cosine\", \"user_based\": False}, verbose=False), data, measures=['RMSE', 'MAE'], cv=3, verbose=True)\n",
    "_ = cross_validate(KNNBaseline(sim_options={\"name\": \"pearson\", \"user_based\": False}, verbose=False), data, measures=['RMSE', 'MAE'], cv=3, verbose=True)\n",
    "_ = cross_validate(KNNBaseline(sim_options={\"name\": \"pearson_baseline\", \"user_based\": False}, verbose=False), data, measures=['RMSE', 'MAE'], cv=3, verbose=True)"
   ]
  },
  {
   "cell_type": "markdown",
   "id": "48d8e0a8-a862-4ca7-9d78-647370d60432",
   "metadata": {},
   "source": [
    "Best results for all these 4 models are achieved with pearson similarity metric. Overall best result is achieved with KNNBaseline."
   ]
  },
  {
   "cell_type": "markdown",
   "id": "43a74400-ff05-4685-a042-456c64f0acd9",
   "metadata": {},
   "source": [
    "### Model-based Collaborative Filtering (Matrix Factorization)"
   ]
  },
  {
   "cell_type": "markdown",
   "id": "c078f414-b668-4430-b634-66a828dd1adc",
   "metadata": {},
   "source": [
    "#### SVD\n",
    "\n",
    "$\\text{overall interest} = o_i = q_i^T\\cdot p_u, q_i = \\text{vector for item i}, p_u = \\text{vector for user u}$\n",
    "\n",
    "$est_{ui} = \\text{mean of all courses + baseline of item + baseline of user + overall interest}$\n",
    "\n",
    "Parameters learned by minimizing objective function."
   ]
  },
  {
   "cell_type": "code",
   "execution_count": 10,
   "id": "33fe24d1-d7cf-4708-9a59-96bb2e6c60ca",
   "metadata": {},
   "outputs": [
    {
     "name": "stdout",
     "output_type": "stream",
     "text": [
      "Evaluating RMSE, MAE of algorithm SVD on 3 split(s).\n",
      "\n",
      "                  Fold 1  Fold 2  Fold 3  Mean    Std     \n",
      "RMSE (testset)    0.6949  0.7002  0.7005  0.6985  0.0026  \n",
      "MAE (testset)     0.4722  0.4717  0.4738  0.4726  0.0009  \n",
      "Fit time          1.78    1.77    1.83    1.80    0.02    \n",
      "Test time         0.47    0.53    0.54    0.51    0.03    \n"
     ]
    }
   ],
   "source": [
    "_ = cross_validate(SVD(verbose=False), data, measures=['RMSE', 'MAE'], cv=3, verbose=True)"
   ]
  },
  {
   "cell_type": "markdown",
   "id": "61e70fca-be6a-4dce-bcea-570c6589c747",
   "metadata": {},
   "source": [
    "#### SVD++\n",
    "\n",
    "An extension of SVD taking into account implicit ratings. For this implementation, an implicit rating describes the fact that a user u rated an item j, regardless of the rating value."
   ]
  },
  {
   "cell_type": "code",
   "execution_count": 11,
   "id": "67b24ed8-be9d-4761-8d1b-70c6037f7ae3",
   "metadata": {},
   "outputs": [
    {
     "name": "stdout",
     "output_type": "stream",
     "text": [
      "Evaluating RMSE, MAE of algorithm SVDpp on 3 split(s).\n",
      "\n",
      "                  Fold 1  Fold 2  Fold 3  Mean    Std     \n",
      "RMSE (testset)    0.6999  0.6950  0.6938  0.6962  0.0027  \n",
      "MAE (testset)     0.4698  0.4676  0.4673  0.4682  0.0011  \n",
      "Fit time          2.00    2.03    2.04    2.02    0.01    \n",
      "Test time         1.25    1.24    1.26    1.25    0.01    \n"
     ]
    }
   ],
   "source": [
    "_ = cross_validate(SVDpp(verbose=False), data, measures=['RMSE', 'MAE'], cv=3, verbose=True)"
   ]
  },
  {
   "cell_type": "markdown",
   "id": "69eb04ed-15fc-4d58-a33d-4723bb7cfe79",
   "metadata": {},
   "source": [
    "These matrix factorization models outperformed the memory based methods."
   ]
  },
  {
   "cell_type": "markdown",
   "id": "012187a8-33c9-4bde-a54b-acdf1270c1e4",
   "metadata": {},
   "source": [
    "We tested 7 different collaborative filtering methods. We choose 3 of them to fine-tune and see which one is the best. The selected ones are BaselineOnly, KNNBaseline and SVD. We selected SVD because it is slightly faster than SVD++."
   ]
  },
  {
   "cell_type": "markdown",
   "id": "f8695e45-bf63-4822-a239-3e67612176de",
   "metadata": {},
   "source": [
    "### Parameter Search"
   ]
  },
  {
   "cell_type": "code",
   "execution_count": 12,
   "id": "f9657fb8-9494-475a-87f3-7d7f7c64e697",
   "metadata": {},
   "outputs": [
    {
     "name": "stdout",
     "output_type": "stream",
     "text": [
      "BaselineOnly SGD Grid Search\n",
      "0.6885029389204965\n",
      "{'bsl_options': {'method': 'sgd', 'reg': 0.03, 'learning_rate': 0.005, 'n_epochs': 20}, 'verbose': False}\n"
     ]
    }
   ],
   "source": [
    "param_grid_base = {\"bsl_options\": {\n",
    "    \"method\": [\"sgd\"], \n",
    "    \"reg\":[0.01, 0.02, 0.03], \n",
    "    \"learning_rate\": [0.005, 0.01, 0.02], \n",
    "    \"n_epochs\": [10, 20, 30]},\n",
    "    \"verbose\": [False]\n",
    "}\n",
    "gs_base = GridSearchCV(BaselineOnly, param_grid_base, measures=[\"rmse\", \"mae\"], cv=5, joblib_verbose=0)\n",
    "gs_base.fit(data)\n",
    "print(\"BaselineOnly SGD Grid Search\")\n",
    "print(gs_base.best_score[\"rmse\"])\n",
    "print(gs_base.best_params[\"rmse\"])"
   ]
  },
  {
   "cell_type": "markdown",
   "id": "1ea0f3bb-89f1-49dd-b30a-81af46120486",
   "metadata": {},
   "source": [
    "Best hyperparameter values for baseline are *{'method': 'sgd', 'reg': 0.03, 'learning_rate': 0.005, 'n_epochs': 20}*."
   ]
  },
  {
   "cell_type": "code",
   "execution_count": 13,
   "id": "ebc44924-868e-48ca-b12d-a238e1ad363b",
   "metadata": {},
   "outputs": [
    {
     "name": "stdout",
     "output_type": "stream",
     "text": [
      "Evaluating RMSE, MAE of algorithm KNNBaseline on 3 split(s).\n",
      "\n",
      "                  Fold 1  Fold 2  Fold 3  Mean    Std     \n",
      "RMSE (testset)    0.7307  0.7310  0.7358  0.7325  0.0024  \n",
      "MAE (testset)     0.4707  0.4700  0.4728  0.4712  0.0012  \n",
      "Fit time          1.20    1.24    1.23    1.22    0.02    \n",
      "Test time         0.64    0.63    0.64    0.64    0.00    \n",
      "Evaluating RMSE, MAE of algorithm KNNBaseline on 3 split(s).\n",
      "\n",
      "                  Fold 1  Fold 2  Fold 3  Mean    Std     \n",
      "RMSE (testset)    0.7306  0.7325  0.7388  0.7339  0.0035  \n",
      "MAE (testset)     0.4694  0.4717  0.4751  0.4721  0.0023  \n",
      "Fit time          1.19    1.24    1.25    1.23    0.03    \n",
      "Test time         0.69    0.68    0.77    0.72    0.04    \n",
      "Evaluating RMSE, MAE of algorithm KNNBaseline on 3 split(s).\n",
      "\n",
      "                  Fold 1  Fold 2  Fold 3  Mean    Std     \n",
      "RMSE (testset)    0.7299  0.7352  0.7357  0.7336  0.0026  \n",
      "MAE (testset)     0.4693  0.4722  0.4730  0.4715  0.0016  \n",
      "Fit time          1.20    1.22    1.24    1.22    0.02    \n",
      "Test time         0.71    0.65    0.65    0.67    0.03    \n"
     ]
    }
   ],
   "source": [
    "\"\"\"\n",
    "param_grid_knn = {\n",
    "    \"k\": [20,30,40], \n",
    "    \"sim_options \": {\"name\": \"pearson\", \"user_based\": False},\n",
    "    \"verbose\": [False]\n",
    "}\n",
    "gs_knn = GridSearchCV(KNNBaseline, param_grid_knn, measures=[\"rmse\", \"mae\"], cv=5)\n",
    "gs_knn.fit(data)\n",
    "print(\"KNNWithBaseline Grid Search\")\n",
    "print(gs_knn.best_score[\"rmse\"])\n",
    "print(gs_knn.best_params[\"rmse\"])\n",
    "\"\"\"\n",
    "\n",
    "# Parameter tuning for KNNBaseline could not done due to the memory limitations. \n",
    "# Instead of that we tried cross validation with baseline hypermeters to see if they have positive effect on model.\n",
    "\n",
    "bsl_opt = {'method': 'sgd', 'reg': 0.03, 'learning_rate': 0.005, 'n_epochs': 20}\n",
    "sim_opt = {\"name\": \"pearson\", \"user_based\": False}\n",
    "\n",
    "_ = cross_validate(KNNBaseline(k=20, bsl_options=bsl_opt, sim_options=sim_opt, verbose=False), data, measures=['RMSE', 'MAE'], cv=3, verbose=True)\n",
    "_ = cross_validate(KNNBaseline(k=30, bsl_options=bsl_opt, sim_options=sim_opt, verbose=False), data, measures=['RMSE', 'MAE'], cv=3, verbose=True)\n",
    "_ = cross_validate(KNNBaseline(k=40, bsl_options=bsl_opt, sim_options=sim_opt, verbose=False), data, measures=['RMSE', 'MAE'], cv=3, verbose=True)"
   ]
  },
  {
   "cell_type": "markdown",
   "id": "ebf942ce-e6a9-4358-9add-1a3043d2c20f",
   "metadata": {},
   "source": [
    "From the results for KNNBaseline we can see that changing the k value and newly set baseline options did not affect the accuracy values."
   ]
  },
  {
   "cell_type": "code",
   "execution_count": 14,
   "id": "db91c3af",
   "metadata": {},
   "outputs": [
    {
     "name": "stdout",
     "output_type": "stream",
     "text": [
      "SVD Grid Search\n",
      "0.6945597792676461\n",
      "{'n_factors': 100, 'n_epochs': 20, 'lr_all': 0.005, 'reg_all': 0.03}\n"
     ]
    }
   ],
   "source": [
    "param_grid_svd = {\"n_factors\": [100, 200],\n",
    "                  \"n_epochs\": [10, 20], \n",
    "                  \"lr_all\": [0.005, 0.01, 0.02],\n",
    "                  \"reg_all\": [0.01, 0.02, 0.03],\n",
    "}\n",
    "gs_svd = GridSearchCV(SVD, param_grid_svd, measures=[\"rmse\", \"mae\"], cv=5)\n",
    "gs_svd.fit(data)\n",
    "print(\"SVD Grid Search\")\n",
    "print(gs_svd.best_score[\"rmse\"])\n",
    "print(gs_svd.best_params[\"rmse\"])"
   ]
  },
  {
   "cell_type": "markdown",
   "id": "41721e6a-4b27-4ebe-b107-1193fb1bf29d",
   "metadata": {},
   "source": [
    "Best hyperparameter values for SVD are *{'n_factors': 100, 'n_epochs': 20, 'lr_all': 0.005, 'reg_all': 0.03}*."
   ]
  },
  {
   "cell_type": "markdown",
   "id": "c9dce957-9343-4a70-8f41-62bb3c7e4372",
   "metadata": {},
   "source": [
    "***"
   ]
  },
  {
   "cell_type": "markdown",
   "id": "6e9464bf-8588-4ffe-a4d0-68b6283d88f4",
   "metadata": {},
   "source": [
    "Lets test these models with train-test sets. "
   ]
  },
  {
   "cell_type": "code",
   "execution_count": 15,
   "id": "efe16f17-b1e6-46c9-a776-eedaa562ce0e",
   "metadata": {},
   "outputs": [],
   "source": [
    "trainset, testset = train_test_split(data, random_state=78, test_size=0.2)"
   ]
  },
  {
   "cell_type": "code",
   "execution_count": 16,
   "id": "7a1a69e0",
   "metadata": {},
   "outputs": [
    {
     "name": "stdout",
     "output_type": "stream",
     "text": [
      "RMSE: 0.6949\n",
      "RMSE values of BaselineOnly: 0.6948999191927382\n"
     ]
    }
   ],
   "source": [
    "pred = BaselineOnly(bsl_options:={'method': 'sgd', 'reg': 0.03, 'learning_rate': 0.005, 'n_epochs': 20}, verbose=False).fit(trainset).test(testset)\n",
    "print(\"RMSE values of BaselineOnly:\", accuracy.rmse(pred))"
   ]
  },
  {
   "cell_type": "code",
   "execution_count": 17,
   "id": "bc912127-deb8-4b53-9767-d969cb4ca144",
   "metadata": {},
   "outputs": [
    {
     "name": "stdout",
     "output_type": "stream",
     "text": [
      "RMSE: 0.7538\n",
      "RMSE values of KNNBaseline: 0.7538073470017157\n"
     ]
    }
   ],
   "source": [
    "pred = KNNBaseline(bsl_options=bsl_opt, sim_options=sim_opt, verbose=False).fit(trainset).test(testset)\n",
    "print(\"RMSE values of KNNBaseline:\", accuracy.rmse(pred))"
   ]
  },
  {
   "cell_type": "code",
   "execution_count": 18,
   "id": "ec1fb7de-5fb3-448e-adbd-14eb10e976b6",
   "metadata": {},
   "outputs": [
    {
     "name": "stdout",
     "output_type": "stream",
     "text": [
      "RMSE: 0.7006\n",
      "RMSE values of SVD: 0.7006290645236952\n"
     ]
    }
   ],
   "source": [
    "pred = SVD(n_factors=100, n_epochs=20, lr_all=0.005, reg_all=0.03).fit(trainset).test(testset)\n",
    "print(\"RMSE values of SVD:\", accuracy.rmse(pred))"
   ]
  },
  {
   "cell_type": "markdown",
   "id": "ae82ca12",
   "metadata": {},
   "source": [
    "## Recommendation\n",
    "\n",
    "We decided check SVD and BaselineOnly to see how well they recommend courses to users."
   ]
  },
  {
   "cell_type": "code",
   "execution_count": 5,
   "id": "162d7715",
   "metadata": {},
   "outputs": [],
   "source": [
    "full_trainset = data.build_full_trainset()"
   ]
  },
  {
   "cell_type": "code",
   "execution_count": 6,
   "id": "b25399af",
   "metadata": {},
   "outputs": [
    {
     "data": {
      "text/plain": [
       "<surprise.prediction_algorithms.matrix_factorization.SVD at 0x15eeb3b8850>"
      ]
     },
     "execution_count": 6,
     "metadata": {},
     "output_type": "execute_result"
    }
   ],
   "source": [
    "bsl = BaselineOnly(bsl_options={'method': 'sgd', 'reg': 0.03, 'learning_rate': 0.005, 'n_epochs': 20}, verbose=False)\n",
    "svd = SVD(n_factors=100, n_epochs=20, lr_all=0.005, reg_all=0.03)\n",
    "bsl.fit(full_trainset)\n",
    "svd.fit(full_trainset)"
   ]
  },
  {
   "cell_type": "code",
   "execution_count": 7,
   "id": "ee4f9a66",
   "metadata": {},
   "outputs": [
    {
     "name": "stdout",
     "output_type": "stream",
     "text": [
      "User ID: 30179\n",
      "Display Name: Sathyababu\n"
     ]
    }
   ],
   "source": [
    "# causes memory errors, instead calculate anti testset for the user\n",
    "#anti_testset = full_trainset.build_anti_testset()\n",
    "anti_testset_user, user_id = surprise_helper.get_anti_testset_user(full_trainset)\n",
    "print(\"User ID:\", user_id)\n",
    "print(\"Display Name:\", rates[rates[\"user_id\"] == user_id][\"display_name\"].unique()[0])"
   ]
  },
  {
   "cell_type": "code",
   "execution_count": 8,
   "id": "84ed8c97",
   "metadata": {},
   "outputs": [],
   "source": [
    "user_pred_svd = svd.test(anti_testset_user)\n",
    "user_pred_bsl = bsl.test(anti_testset_user)"
   ]
  },
  {
   "cell_type": "code",
   "execution_count": 9,
   "id": "f08c745d",
   "metadata": {},
   "outputs": [
    {
     "name": "stdout",
     "output_type": "stream",
     "text": [
      "Courses Taken By The User\n"
     ]
    },
    {
     "data": {
      "text/html": [
       "<div>\n",
       "<style scoped>\n",
       "    .dataframe tbody tr th:only-of-type {\n",
       "        vertical-align: middle;\n",
       "    }\n",
       "\n",
       "    .dataframe tbody tr th {\n",
       "        vertical-align: top;\n",
       "    }\n",
       "\n",
       "    .dataframe thead th {\n",
       "        text-align: right;\n",
       "    }\n",
       "</style>\n",
       "<table border=\"1\" class=\"dataframe\">\n",
       "  <thead>\n",
       "    <tr style=\"text-align: right;\">\n",
       "      <th></th>\n",
       "      <th>id</th>\n",
       "      <th>title</th>\n",
       "      <th>category</th>\n",
       "      <th>course_url</th>\n",
       "    </tr>\n",
       "  </thead>\n",
       "  <tbody>\n",
       "    <tr>\n",
       "      <th>10</th>\n",
       "      <td>13391</td>\n",
       "      <td>The Neuroscience of Reframing &amp; How to Do It</td>\n",
       "      <td>Teaching &amp; Academics</td>\n",
       "      <td>/course/the-neuroscience-of-reframing-and-how-...</td>\n",
       "    </tr>\n",
       "    <tr>\n",
       "      <th>233</th>\n",
       "      <td>277654</td>\n",
       "      <td>Master your brain: Neuroscience for personal d...</td>\n",
       "      <td>Personal Development</td>\n",
       "      <td>/course/my-brain-and-i/</td>\n",
       "    </tr>\n",
       "    <tr>\n",
       "      <th>415</th>\n",
       "      <td>466736</td>\n",
       "      <td>Stress Management: 40+ easy ways to deal with ...</td>\n",
       "      <td>Personal Development</td>\n",
       "      <td>/course/stress-management-40-easy-ways-to-deal...</td>\n",
       "    </tr>\n",
       "    <tr>\n",
       "      <th>772</th>\n",
       "      <td>789146</td>\n",
       "      <td>Professional Life Coach Certification &amp; Guide ...</td>\n",
       "      <td>Personal Development</td>\n",
       "      <td>/course/life-coaching-a-complete-guide/</td>\n",
       "    </tr>\n",
       "    <tr>\n",
       "      <th>1185</th>\n",
       "      <td>1091520</td>\n",
       "      <td>Cognitive Behavioural Therapy (CBT) Practition...</td>\n",
       "      <td>Health &amp; Fitness</td>\n",
       "      <td>/course/cognitive-behavioural-therapy-online-c...</td>\n",
       "    </tr>\n",
       "    <tr>\n",
       "      <th>1650</th>\n",
       "      <td>1415934</td>\n",
       "      <td>Management Skills - Team Leadership Skills Mas...</td>\n",
       "      <td>Business</td>\n",
       "      <td>/course/leadership-and-lean-management-masterc...</td>\n",
       "    </tr>\n",
       "    <tr>\n",
       "      <th>2250</th>\n",
       "      <td>2323470</td>\n",
       "      <td>Business Communication Skills: Business Writin...</td>\n",
       "      <td>Personal Development</td>\n",
       "      <td>/course/professional-communication-and-busines...</td>\n",
       "    </tr>\n",
       "  </tbody>\n",
       "</table>\n",
       "</div>"
      ],
      "text/plain": [
       "           id                                              title  \\\n",
       "10      13391       The Neuroscience of Reframing & How to Do It   \n",
       "233    277654  Master your brain: Neuroscience for personal d...   \n",
       "415    466736  Stress Management: 40+ easy ways to deal with ...   \n",
       "772    789146  Professional Life Coach Certification & Guide ...   \n",
       "1185  1091520  Cognitive Behavioural Therapy (CBT) Practition...   \n",
       "1650  1415934  Management Skills - Team Leadership Skills Mas...   \n",
       "2250  2323470  Business Communication Skills: Business Writin...   \n",
       "\n",
       "                  category                                         course_url  \n",
       "10    Teaching & Academics  /course/the-neuroscience-of-reframing-and-how-...  \n",
       "233   Personal Development                            /course/my-brain-and-i/  \n",
       "415   Personal Development  /course/stress-management-40-easy-ways-to-deal...  \n",
       "772   Personal Development            /course/life-coaching-a-complete-guide/  \n",
       "1185      Health & Fitness  /course/cognitive-behavioural-therapy-online-c...  \n",
       "1650              Business  /course/leadership-and-lean-management-masterc...  \n",
       "2250  Personal Development  /course/professional-communication-and-busines...  "
      ]
     },
     "execution_count": 9,
     "metadata": {},
     "output_type": "execute_result"
    }
   ],
   "source": [
    "print(\"Courses Taken By The User\")\n",
    "surprise_helper.get_user_courses(user_id, rates, courses)"
   ]
  },
  {
   "cell_type": "code",
   "execution_count": 10,
   "id": "ff7dcd2b",
   "metadata": {},
   "outputs": [
    {
     "name": "stdout",
     "output_type": "stream",
     "text": [
      "Recommended Courses by SVD\n"
     ]
    },
    {
     "data": {
      "text/html": [
       "<div>\n",
       "<style scoped>\n",
       "    .dataframe tbody tr th:only-of-type {\n",
       "        vertical-align: middle;\n",
       "    }\n",
       "\n",
       "    .dataframe tbody tr th {\n",
       "        vertical-align: top;\n",
       "    }\n",
       "\n",
       "    .dataframe thead th {\n",
       "        text-align: right;\n",
       "    }\n",
       "</style>\n",
       "<table border=\"1\" class=\"dataframe\">\n",
       "  <thead>\n",
       "    <tr style=\"text-align: right;\">\n",
       "      <th></th>\n",
       "      <th>id</th>\n",
       "      <th>title</th>\n",
       "      <th>category</th>\n",
       "      <th>course_url</th>\n",
       "    </tr>\n",
       "  </thead>\n",
       "  <tbody>\n",
       "    <tr>\n",
       "      <th>323</th>\n",
       "      <td>379080</td>\n",
       "      <td>Programador web: Cookies y Sesiones en PHP</td>\n",
       "      <td>Development</td>\n",
       "      <td>/course/programador-web-php-cookies-y-sesiones/</td>\n",
       "    </tr>\n",
       "    <tr>\n",
       "      <th>524</th>\n",
       "      <td>567366</td>\n",
       "      <td>Launch Your Startup Entrepreneur Business</td>\n",
       "      <td>Business</td>\n",
       "      <td>/course/entrepreneurs_expert/</td>\n",
       "    </tr>\n",
       "    <tr>\n",
       "      <th>1456</th>\n",
       "      <td>1292182</td>\n",
       "      <td>Fully Accredited Reflexology Diploma - Heal Vi...</td>\n",
       "      <td>Personal Development</td>\n",
       "      <td>/course/fully-accredited-reflexology-course-he...</td>\n",
       "    </tr>\n",
       "    <tr>\n",
       "      <th>2106</th>\n",
       "      <td>2024924</td>\n",
       "      <td>Reiki nível 2 Usui, Kahuna, Tibetano</td>\n",
       "      <td>Lifestyle</td>\n",
       "      <td>/course/reiki-nivel-2-usui-kahuna-tibetano/</td>\n",
       "    </tr>\n",
       "    <tr>\n",
       "      <th>2433</th>\n",
       "      <td>2846906</td>\n",
       "      <td>Product Owner Certification Mock Exams 2022 - ...</td>\n",
       "      <td>IT &amp; Software</td>\n",
       "      <td>/course/product-owner-certificate-training-200...</td>\n",
       "    </tr>\n",
       "  </tbody>\n",
       "</table>\n",
       "</div>"
      ],
      "text/plain": [
       "           id                                              title  \\\n",
       "323    379080         Programador web: Cookies y Sesiones en PHP   \n",
       "524    567366          Launch Your Startup Entrepreneur Business   \n",
       "1456  1292182  Fully Accredited Reflexology Diploma - Heal Vi...   \n",
       "2106  2024924               Reiki nível 2 Usui, Kahuna, Tibetano   \n",
       "2433  2846906  Product Owner Certification Mock Exams 2022 - ...   \n",
       "\n",
       "                  category                                         course_url  \n",
       "323            Development    /course/programador-web-php-cookies-y-sesiones/  \n",
       "524               Business                      /course/entrepreneurs_expert/  \n",
       "1456  Personal Development  /course/fully-accredited-reflexology-course-he...  \n",
       "2106             Lifestyle        /course/reiki-nivel-2-usui-kahuna-tibetano/  \n",
       "2433         IT & Software  /course/product-owner-certificate-training-200...  "
      ]
     },
     "execution_count": 10,
     "metadata": {},
     "output_type": "execute_result"
    }
   ],
   "source": [
    "print(\"Recommended Courses by SVD\")\n",
    "surprise_helper.get_top_n(user_pred_svd, courses)"
   ]
  },
  {
   "cell_type": "code",
   "execution_count": 11,
   "id": "ff528be3-86f2-4c04-bceb-b2c67c8b0754",
   "metadata": {},
   "outputs": [
    {
     "name": "stdout",
     "output_type": "stream",
     "text": [
      "Recommended Courses by BaselineOnly\n"
     ]
    },
    {
     "data": {
      "text/html": [
       "<div>\n",
       "<style scoped>\n",
       "    .dataframe tbody tr th:only-of-type {\n",
       "        vertical-align: middle;\n",
       "    }\n",
       "\n",
       "    .dataframe tbody tr th {\n",
       "        vertical-align: top;\n",
       "    }\n",
       "\n",
       "    .dataframe thead th {\n",
       "        text-align: right;\n",
       "    }\n",
       "</style>\n",
       "<table border=\"1\" class=\"dataframe\">\n",
       "  <thead>\n",
       "    <tr style=\"text-align: right;\">\n",
       "      <th></th>\n",
       "      <th>id</th>\n",
       "      <th>title</th>\n",
       "      <th>category</th>\n",
       "      <th>course_url</th>\n",
       "    </tr>\n",
       "  </thead>\n",
       "  <tbody>\n",
       "    <tr>\n",
       "      <th>479</th>\n",
       "      <td>523406</td>\n",
       "      <td>Como criar um curso online na Udemy - Unofficial</td>\n",
       "      <td>Teaching &amp; Academics</td>\n",
       "      <td>/course/criarcurso/</td>\n",
       "    </tr>\n",
       "    <tr>\n",
       "      <th>524</th>\n",
       "      <td>567366</td>\n",
       "      <td>Launch Your Startup Entrepreneur Business</td>\n",
       "      <td>Business</td>\n",
       "      <td>/course/entrepreneurs_expert/</td>\n",
       "    </tr>\n",
       "    <tr>\n",
       "      <th>997</th>\n",
       "      <td>949316</td>\n",
       "      <td>Foundations for Mastering Watercolor Painting ...</td>\n",
       "      <td>Lifestyle</td>\n",
       "      <td>/course/foundations-for-mastering-watercolor-p...</td>\n",
       "    </tr>\n",
       "    <tr>\n",
       "      <th>2540</th>\n",
       "      <td>4119364</td>\n",
       "      <td>Vue.js: De cero a experto</td>\n",
       "      <td>Development</td>\n",
       "      <td>/course/vuejs-fh/</td>\n",
       "    </tr>\n",
       "    <tr>\n",
       "      <th>2548</th>\n",
       "      <td>4599580</td>\n",
       "      <td>Principios SOLID y Clean Code</td>\n",
       "      <td>Development</td>\n",
       "      <td>/course/solid-clean/</td>\n",
       "    </tr>\n",
       "  </tbody>\n",
       "</table>\n",
       "</div>"
      ],
      "text/plain": [
       "           id                                              title  \\\n",
       "479    523406   Como criar um curso online na Udemy - Unofficial   \n",
       "524    567366          Launch Your Startup Entrepreneur Business   \n",
       "997    949316  Foundations for Mastering Watercolor Painting ...   \n",
       "2540  4119364                          Vue.js: De cero a experto   \n",
       "2548  4599580                      Principios SOLID y Clean Code   \n",
       "\n",
       "                  category                                         course_url  \n",
       "479   Teaching & Academics                                /course/criarcurso/  \n",
       "524               Business                      /course/entrepreneurs_expert/  \n",
       "997              Lifestyle  /course/foundations-for-mastering-watercolor-p...  \n",
       "2540           Development                                  /course/vuejs-fh/  \n",
       "2548           Development                               /course/solid-clean/  "
      ]
     },
     "execution_count": 11,
     "metadata": {},
     "output_type": "execute_result"
    }
   ],
   "source": [
    "print(\"Recommended Courses by BaselineOnly\")\n",
    "surprise_helper.get_top_n(user_pred_bsl, courses)"
   ]
  },
  {
   "cell_type": "markdown",
   "id": "29161526-207e-4f3b-b294-0db4ce2e20c6",
   "metadata": {},
   "source": [
    "Sometimes when we look at the recommended courses it feels wrong. Since these methods only takes ratings into consideration, recommended courses are the best according to only accuracy values. Recommendations can be done better with using other informations such as user informations and implicit ratings and it is called *Content-based Filtering*. "
   ]
  },
  {
   "cell_type": "markdown",
   "id": "d785f414",
   "metadata": {},
   "source": [
    "### Similar Courses with KNN\n",
    "\n",
    "We can use k-NN based methods to see the similar courses & users."
   ]
  },
  {
   "cell_type": "code",
   "execution_count": 12,
   "id": "dc43bc17",
   "metadata": {},
   "outputs": [
    {
     "data": {
      "text/plain": [
       "<surprise.prediction_algorithms.knns.KNNBaseline at 0x15eeb37bd00>"
      ]
     },
     "execution_count": 12,
     "metadata": {},
     "output_type": "execute_result"
    }
   ],
   "source": [
    "knn = KNNBaseline(sim_options={\"name\": \"pearson\", \"user_based\": False}, verbose=False)\n",
    "knn.fit(full_trainset)"
   ]
  },
  {
   "cell_type": "code",
   "execution_count": 13,
   "id": "f451a250",
   "metadata": {},
   "outputs": [],
   "source": [
    "similar_courses_raw_ids, course_id = surprise_helper.get_nearest_neighbors(full_trainset, knn)"
   ]
  },
  {
   "cell_type": "code",
   "execution_count": 14,
   "id": "1ce4ee7a",
   "metadata": {},
   "outputs": [
    {
     "name": "stdout",
     "output_type": "stream",
     "text": [
      "Course\n"
     ]
    },
    {
     "data": {
      "text/html": [
       "<div>\n",
       "<style scoped>\n",
       "    .dataframe tbody tr th:only-of-type {\n",
       "        vertical-align: middle;\n",
       "    }\n",
       "\n",
       "    .dataframe tbody tr th {\n",
       "        vertical-align: top;\n",
       "    }\n",
       "\n",
       "    .dataframe thead th {\n",
       "        text-align: right;\n",
       "    }\n",
       "</style>\n",
       "<table border=\"1\" class=\"dataframe\">\n",
       "  <thead>\n",
       "    <tr style=\"text-align: right;\">\n",
       "      <th></th>\n",
       "      <th>id</th>\n",
       "      <th>title</th>\n",
       "      <th>category</th>\n",
       "      <th>course_url</th>\n",
       "    </tr>\n",
       "  </thead>\n",
       "  <tbody>\n",
       "    <tr>\n",
       "      <th>2016</th>\n",
       "      <td>1844356</td>\n",
       "      <td>Complete guide to ASP.NET Core MVC (.NET 6)</td>\n",
       "      <td>Development</td>\n",
       "      <td>/course/complete-aspnet-core-21-course/</td>\n",
       "    </tr>\n",
       "  </tbody>\n",
       "</table>\n",
       "</div>"
      ],
      "text/plain": [
       "           id                                        title     category  \\\n",
       "2016  1844356  Complete guide to ASP.NET Core MVC (.NET 6)  Development   \n",
       "\n",
       "                                   course_url  \n",
       "2016  /course/complete-aspnet-core-21-course/  "
      ]
     },
     "execution_count": 14,
     "metadata": {},
     "output_type": "execute_result"
    }
   ],
   "source": [
    "print(\"Course\")\n",
    "courses[courses[\"id\"]==course_id]"
   ]
  },
  {
   "cell_type": "code",
   "execution_count": 15,
   "id": "ee601ec8",
   "metadata": {},
   "outputs": [
    {
     "name": "stdout",
     "output_type": "stream",
     "text": [
      "Similar Courses\n"
     ]
    },
    {
     "data": {
      "text/html": [
       "<div>\n",
       "<style scoped>\n",
       "    .dataframe tbody tr th:only-of-type {\n",
       "        vertical-align: middle;\n",
       "    }\n",
       "\n",
       "    .dataframe tbody tr th {\n",
       "        vertical-align: top;\n",
       "    }\n",
       "\n",
       "    .dataframe thead th {\n",
       "        text-align: right;\n",
       "    }\n",
       "</style>\n",
       "<table border=\"1\" class=\"dataframe\">\n",
       "  <thead>\n",
       "    <tr style=\"text-align: right;\">\n",
       "      <th></th>\n",
       "      <th>id</th>\n",
       "      <th>title</th>\n",
       "      <th>category</th>\n",
       "      <th>course_url</th>\n",
       "    </tr>\n",
       "  </thead>\n",
       "  <tbody>\n",
       "    <tr>\n",
       "      <th>81</th>\n",
       "      <td>65330</td>\n",
       "      <td>Web Development By Doing: HTML / CSS From Scratch</td>\n",
       "      <td>Development</td>\n",
       "      <td>/course/web-development-learn-by-doing-html5-c...</td>\n",
       "    </tr>\n",
       "    <tr>\n",
       "      <th>792</th>\n",
       "      <td>802574</td>\n",
       "      <td>AZ-204 Developing Solutions for Microsoft Azur...</td>\n",
       "      <td>IT &amp; Software</td>\n",
       "      <td>/course/70532-azure/</td>\n",
       "    </tr>\n",
       "    <tr>\n",
       "      <th>1726</th>\n",
       "      <td>1480202</td>\n",
       "      <td>RESTful Web API - The Complete Guide (.NET7  API)</td>\n",
       "      <td>Development</td>\n",
       "      <td>/course/restful-api-with-asp-dot-net-core-web-...</td>\n",
       "    </tr>\n",
       "    <tr>\n",
       "      <th>1773</th>\n",
       "      <td>1527300</td>\n",
       "      <td>Learn Python &amp; Ethical Hacking From Scratch</td>\n",
       "      <td>Development</td>\n",
       "      <td>/course/learn-python-and-ethical-hacking-from-...</td>\n",
       "    </tr>\n",
       "    <tr>\n",
       "      <th>2287</th>\n",
       "      <td>2395488</td>\n",
       "      <td>React Front To Back</td>\n",
       "      <td>Development</td>\n",
       "      <td>/course/modern-react-front-to-back/</td>\n",
       "    </tr>\n",
       "  </tbody>\n",
       "</table>\n",
       "</div>"
      ],
      "text/plain": [
       "           id                                              title  \\\n",
       "81      65330  Web Development By Doing: HTML / CSS From Scratch   \n",
       "792    802574  AZ-204 Developing Solutions for Microsoft Azur...   \n",
       "1726  1480202  RESTful Web API - The Complete Guide (.NET7  API)   \n",
       "1773  1527300        Learn Python & Ethical Hacking From Scratch   \n",
       "2287  2395488                                React Front To Back   \n",
       "\n",
       "           category                                         course_url  \n",
       "81      Development  /course/web-development-learn-by-doing-html5-c...  \n",
       "792   IT & Software                               /course/70532-azure/  \n",
       "1726    Development  /course/restful-api-with-asp-dot-net-core-web-...  \n",
       "1773    Development  /course/learn-python-and-ethical-hacking-from-...  \n",
       "2287    Development                /course/modern-react-front-to-back/  "
      ]
     },
     "execution_count": 15,
     "metadata": {},
     "output_type": "execute_result"
    }
   ],
   "source": [
    "print(\"Similar Courses\")\n",
    "courses[courses[\"id\"].isin(similar_courses_raw_ids)]"
   ]
  },
  {
   "cell_type": "markdown",
   "id": "28c350aa-24f6-4a21-a961-75497c7f9e9a",
   "metadata": {},
   "source": [
    "## Recommendation with Using Ratings Predicted From Comments\n",
    "\n",
    "In this part, we tried to recommend courses by using the predicted ratings that we prepared with comment analysis. We assigned a rating to an entry based on the comment's positivity and negativity status. "
   ]
  },
  {
   "cell_type": "code",
   "execution_count": 16,
   "id": "4c5a1df7-4053-4d21-85fe-681638cb7ce5",
   "metadata": {},
   "outputs": [
    {
     "data": {
      "text/html": [
       "<div>\n",
       "<style scoped>\n",
       "    .dataframe tbody tr th:only-of-type {\n",
       "        vertical-align: middle;\n",
       "    }\n",
       "\n",
       "    .dataframe tbody tr th {\n",
       "        vertical-align: top;\n",
       "    }\n",
       "\n",
       "    .dataframe thead th {\n",
       "        text-align: right;\n",
       "    }\n",
       "</style>\n",
       "<table border=\"1\" class=\"dataframe\">\n",
       "  <thead>\n",
       "    <tr style=\"text-align: right;\">\n",
       "      <th></th>\n",
       "      <th>user_id</th>\n",
       "      <th>display_name</th>\n",
       "      <th>course_id</th>\n",
       "      <th>rate</th>\n",
       "    </tr>\n",
       "  </thead>\n",
       "  <tbody>\n",
       "    <tr>\n",
       "      <th>0</th>\n",
       "      <td>27767</td>\n",
       "      <td>Venkateswara rao</td>\n",
       "      <td>1458490</td>\n",
       "      <td>3.9</td>\n",
       "    </tr>\n",
       "    <tr>\n",
       "      <th>1</th>\n",
       "      <td>8336</td>\n",
       "      <td>Felipe Rodriguez</td>\n",
       "      <td>1248866</td>\n",
       "      <td>3.6</td>\n",
       "    </tr>\n",
       "    <tr>\n",
       "      <th>2</th>\n",
       "      <td>6232</td>\n",
       "      <td>Derli</td>\n",
       "      <td>1623098</td>\n",
       "      <td>1.4</td>\n",
       "    </tr>\n",
       "  </tbody>\n",
       "</table>\n",
       "</div>"
      ],
      "text/plain": [
       "   user_id      display_name  course_id  rate\n",
       "0    27767  Venkateswara rao    1458490   3.9\n",
       "1     8336  Felipe Rodriguez    1248866   3.6\n",
       "2     6232             Derli    1623098   1.4"
      ]
     },
     "execution_count": 16,
     "metadata": {},
     "output_type": "execute_result"
    }
   ],
   "source": [
    "rates_pr = pd.read_csv(\"rates_pr.csv\")\n",
    "rates_pr.head(3)"
   ]
  },
  {
   "cell_type": "code",
   "execution_count": 17,
   "id": "7afb3930-b69d-41ef-83cd-34b05278feab",
   "metadata": {},
   "outputs": [
    {
     "data": {
      "text/html": [
       "<div>\n",
       "<style scoped>\n",
       "    .dataframe tbody tr th:only-of-type {\n",
       "        vertical-align: middle;\n",
       "    }\n",
       "\n",
       "    .dataframe tbody tr th {\n",
       "        vertical-align: top;\n",
       "    }\n",
       "\n",
       "    .dataframe thead th {\n",
       "        text-align: right;\n",
       "    }\n",
       "</style>\n",
       "<table border=\"1\" class=\"dataframe\">\n",
       "  <thead>\n",
       "    <tr style=\"text-align: right;\">\n",
       "      <th></th>\n",
       "      <th>id</th>\n",
       "      <th>title</th>\n",
       "      <th>category</th>\n",
       "      <th>language</th>\n",
       "      <th>instructor_name</th>\n",
       "    </tr>\n",
       "  </thead>\n",
       "  <tbody>\n",
       "    <tr>\n",
       "      <th>0</th>\n",
       "      <td>9287</td>\n",
       "      <td>Microsoft Excel 2010 Course Beginners/ Interme...</td>\n",
       "      <td>Office Productivity</td>\n",
       "      <td>English</td>\n",
       "      <td>Infinite Skills</td>\n",
       "    </tr>\n",
       "    <tr>\n",
       "      <th>1</th>\n",
       "      <td>9711</td>\n",
       "      <td>Beginner PHP and MySQL Tutorial</td>\n",
       "      <td>Development</td>\n",
       "      <td>English</td>\n",
       "      <td>Infinite Skills</td>\n",
       "    </tr>\n",
       "    <tr>\n",
       "      <th>2</th>\n",
       "      <td>10449</td>\n",
       "      <td>Spanish 1-4: Beginner, Elementary, Intermediat...</td>\n",
       "      <td>Teaching &amp; Academics</td>\n",
       "      <td>English</td>\n",
       "      <td>Simple3 L</td>\n",
       "    </tr>\n",
       "  </tbody>\n",
       "</table>\n",
       "</div>"
      ],
      "text/plain": [
       "      id                                              title  \\\n",
       "0   9287  Microsoft Excel 2010 Course Beginners/ Interme...   \n",
       "1   9711                    Beginner PHP and MySQL Tutorial   \n",
       "2  10449  Spanish 1-4: Beginner, Elementary, Intermediat...   \n",
       "\n",
       "               category language  instructor_name  \n",
       "0   Office Productivity  English  Infinite Skills  \n",
       "1           Development  English  Infinite Skills  \n",
       "2  Teaching & Academics  English        Simple3 L  "
      ]
     },
     "execution_count": 17,
     "metadata": {},
     "output_type": "execute_result"
    }
   ],
   "source": [
    "courses_pr = pd.read_csv(\"courses_pr.csv\")\n",
    "courses_pr.head(3)"
   ]
  },
  {
   "cell_type": "code",
   "execution_count": 18,
   "id": "5f44363f-6bd6-4e1a-a4c0-54bce3b71b20",
   "metadata": {},
   "outputs": [
    {
     "name": "stdout",
     "output_type": "stream",
     "text": [
      "(6807, 4) (1763, 5)\n"
     ]
    }
   ],
   "source": [
    "print(rates_pr.shape, courses_pr.shape)"
   ]
  },
  {
   "cell_type": "code",
   "execution_count": 19,
   "id": "c095e447-803f-4b2a-980f-755590c23329",
   "metadata": {},
   "outputs": [],
   "source": [
    "reader_pr = Reader(rating_scale=(0, 5))\n",
    "data_pr = Dataset.load_from_df(rates_pr[[\"user_id\", \"course_id\", \"rate\"]], reader_pr)"
   ]
  },
  {
   "cell_type": "code",
   "execution_count": 20,
   "id": "93046b8a-a721-45e6-993b-3faf269d05e3",
   "metadata": {},
   "outputs": [
    {
     "name": "stdout",
     "output_type": "stream",
     "text": [
      "Evaluating RMSE, MAE of algorithm SVD on 3 split(s).\n",
      "\n",
      "                  Fold 1  Fold 2  Fold 3  Mean    Std     \n",
      "RMSE (testset)    0.9286  0.9594  0.9747  0.9542  0.0192  \n",
      "MAE (testset)     0.7658  0.7999  0.7997  0.7884  0.0160  \n",
      "Fit time          0.06    0.05    0.05    0.05    0.00    \n",
      "Test time         0.01    0.01    0.01    0.01    0.00    \n"
     ]
    }
   ],
   "source": [
    "svd_pr = SVD(n_factors=100, n_epochs=20, lr_all=0.005, reg_all=0.03)\n",
    "_ = cross_validate(svd_pr, data_pr, measures=['RMSE', 'MAE'], cv=3, verbose=True)"
   ]
  },
  {
   "cell_type": "code",
   "execution_count": 21,
   "id": "2d52b5b6-4fc1-4915-b687-235416dce7a1",
   "metadata": {},
   "outputs": [],
   "source": [
    "full_trainset_pr = data_pr.build_full_trainset()"
   ]
  },
  {
   "cell_type": "code",
   "execution_count": 22,
   "id": "6f39ce75-9daa-40fe-a588-6221233e494e",
   "metadata": {},
   "outputs": [
    {
     "name": "stdout",
     "output_type": "stream",
     "text": [
      "User ID: 17101\n",
      "Display Name: Massamar mocktar\n"
     ]
    }
   ],
   "source": [
    "anti_testset_user_pr, user_id_pr = surprise_helper.get_anti_testset_user(full_trainset_pr)\n",
    "print(\"User ID:\", user_id_pr)\n",
    "print(\"Display Name:\", rates_pr[rates_pr[\"user_id\"] == user_id_pr][\"display_name\"].unique()[0])"
   ]
  },
  {
   "cell_type": "code",
   "execution_count": 23,
   "id": "b9bb5e7c-b8c9-4aba-855c-3d34cb25f13f",
   "metadata": {},
   "outputs": [
    {
     "data": {
      "text/plain": [
       "<surprise.prediction_algorithms.matrix_factorization.SVD at 0x15efbd8c6d0>"
      ]
     },
     "execution_count": 23,
     "metadata": {},
     "output_type": "execute_result"
    }
   ],
   "source": [
    "svd_pr.fit(full_trainset_pr)"
   ]
  },
  {
   "cell_type": "code",
   "execution_count": 24,
   "id": "ec5235c5-9bc3-4bce-a6d4-839193c7bf70",
   "metadata": {},
   "outputs": [],
   "source": [
    "user_pred_pr = svd_pr.test(anti_testset_user_pr)"
   ]
  },
  {
   "cell_type": "code",
   "execution_count": 25,
   "id": "34103cb3-f554-4412-baa6-d5de99b4bec1",
   "metadata": {},
   "outputs": [
    {
     "name": "stdout",
     "output_type": "stream",
     "text": [
      "Courses Taken By The User\n"
     ]
    },
    {
     "data": {
      "text/html": [
       "<div>\n",
       "<style scoped>\n",
       "    .dataframe tbody tr th:only-of-type {\n",
       "        vertical-align: middle;\n",
       "    }\n",
       "\n",
       "    .dataframe tbody tr th {\n",
       "        vertical-align: top;\n",
       "    }\n",
       "\n",
       "    .dataframe thead th {\n",
       "        text-align: right;\n",
       "    }\n",
       "</style>\n",
       "<table border=\"1\" class=\"dataframe\">\n",
       "  <thead>\n",
       "    <tr style=\"text-align: right;\">\n",
       "      <th></th>\n",
       "      <th>id</th>\n",
       "      <th>title</th>\n",
       "      <th>category</th>\n",
       "      <th>language</th>\n",
       "      <th>instructor_name</th>\n",
       "    </tr>\n",
       "  </thead>\n",
       "  <tbody>\n",
       "    <tr>\n",
       "      <th>968</th>\n",
       "      <td>1151632</td>\n",
       "      <td>Deep Learning A-Z™: Hands-On Artificial Neural...</td>\n",
       "      <td>Development</td>\n",
       "      <td>English</td>\n",
       "      <td>Kirill Eremenko</td>\n",
       "    </tr>\n",
       "  </tbody>\n",
       "</table>\n",
       "</div>"
      ],
      "text/plain": [
       "          id                                              title     category  \\\n",
       "968  1151632  Deep Learning A-Z™: Hands-On Artificial Neural...  Development   \n",
       "\n",
       "    language  instructor_name  \n",
       "968  English  Kirill Eremenko  "
      ]
     },
     "execution_count": 25,
     "metadata": {},
     "output_type": "execute_result"
    }
   ],
   "source": [
    "print(\"Courses Taken By The User\")\n",
    "surprise_helper.get_user_courses(user_id_pr, rates_pr, courses_pr)"
   ]
  },
  {
   "cell_type": "code",
   "execution_count": 26,
   "id": "76786c39-87c2-433d-b488-630aeca8fa31",
   "metadata": {},
   "outputs": [
    {
     "name": "stdout",
     "output_type": "stream",
     "text": [
      "Recommended Courses by SVD\n"
     ]
    },
    {
     "data": {
      "text/html": [
       "<div>\n",
       "<style scoped>\n",
       "    .dataframe tbody tr th:only-of-type {\n",
       "        vertical-align: middle;\n",
       "    }\n",
       "\n",
       "    .dataframe tbody tr th {\n",
       "        vertical-align: top;\n",
       "    }\n",
       "\n",
       "    .dataframe thead th {\n",
       "        text-align: right;\n",
       "    }\n",
       "</style>\n",
       "<table border=\"1\" class=\"dataframe\">\n",
       "  <thead>\n",
       "    <tr style=\"text-align: right;\">\n",
       "      <th></th>\n",
       "      <th>id</th>\n",
       "      <th>title</th>\n",
       "      <th>category</th>\n",
       "      <th>language</th>\n",
       "      <th>instructor_name</th>\n",
       "    </tr>\n",
       "  </thead>\n",
       "  <tbody>\n",
       "    <tr>\n",
       "      <th>498</th>\n",
       "      <td>648826</td>\n",
       "      <td>The Complete Financial Analyst Course 2022</td>\n",
       "      <td>Finance &amp; Accounting</td>\n",
       "      <td>English</td>\n",
       "      <td>365 Careers</td>\n",
       "    </tr>\n",
       "    <tr>\n",
       "      <th>348</th>\n",
       "      <td>473160</td>\n",
       "      <td>Web Design for Web Developers: Build Beautiful...</td>\n",
       "      <td>Development</td>\n",
       "      <td>English</td>\n",
       "      <td>Jonas Schmedtmann</td>\n",
       "    </tr>\n",
       "    <tr>\n",
       "      <th>1467</th>\n",
       "      <td>1906852</td>\n",
       "      <td>MongoDB - The Complete Developer's Guide 2022</td>\n",
       "      <td>Development</td>\n",
       "      <td>English</td>\n",
       "      <td>Academind by Maximilian Schwarzmüller</td>\n",
       "    </tr>\n",
       "    <tr>\n",
       "      <th>1473</th>\n",
       "      <td>1917546</td>\n",
       "      <td>Master the Coding Interview: Data Structures +...</td>\n",
       "      <td>Development</td>\n",
       "      <td>English</td>\n",
       "      <td>Andrei Neagoie</td>\n",
       "    </tr>\n",
       "    <tr>\n",
       "      <th>975</th>\n",
       "      <td>1163356</td>\n",
       "      <td>The Complete Project Management Fundamentals C...</td>\n",
       "      <td>Business</td>\n",
       "      <td>English</td>\n",
       "      <td>Mauricio Rubio - Agile Guru &amp; Founder of Agile...</td>\n",
       "    </tr>\n",
       "  </tbody>\n",
       "</table>\n",
       "</div>"
      ],
      "text/plain": [
       "           id                                              title  \\\n",
       "498    648826         The Complete Financial Analyst Course 2022   \n",
       "348    473160  Web Design for Web Developers: Build Beautiful...   \n",
       "1467  1906852      MongoDB - The Complete Developer's Guide 2022   \n",
       "1473  1917546  Master the Coding Interview: Data Structures +...   \n",
       "975   1163356  The Complete Project Management Fundamentals C...   \n",
       "\n",
       "                  category language  \\\n",
       "498   Finance & Accounting  English   \n",
       "348            Development  English   \n",
       "1467           Development  English   \n",
       "1473           Development  English   \n",
       "975               Business  English   \n",
       "\n",
       "                                        instructor_name  \n",
       "498                                         365 Careers  \n",
       "348                                   Jonas Schmedtmann  \n",
       "1467              Academind by Maximilian Schwarzmüller  \n",
       "1473                                     Andrei Neagoie  \n",
       "975   Mauricio Rubio - Agile Guru & Founder of Agile...  "
      ]
     },
     "execution_count": 26,
     "metadata": {},
     "output_type": "execute_result"
    }
   ],
   "source": [
    "print(\"Recommended Courses by SVD\")\n",
    "surprise_helper.get_top_n(user_pred_pr, courses_pr)"
   ]
  }
 ],
 "metadata": {
  "kernelspec": {
   "display_name": "Python 3 (ipykernel)",
   "language": "python",
   "name": "python3"
  },
  "language_info": {
   "codemirror_mode": {
    "name": "ipython",
    "version": 3
   },
   "file_extension": ".py",
   "mimetype": "text/x-python",
   "name": "python",
   "nbconvert_exporter": "python",
   "pygments_lexer": "ipython3",
   "version": "3.9.13"
  }
 },
 "nbformat": 4,
 "nbformat_minor": 5
}
